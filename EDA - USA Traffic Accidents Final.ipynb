{
 "cells": [
  {
   "cell_type": "markdown",
   "id": "bf1c5596",
   "metadata": {},
   "source": [
    "# Exploratory Data Analysis of US Traffic Accidents in 2016-2021"
   ]
  },
  {
   "cell_type": "markdown",
   "id": "9e3dae8c",
   "metadata": {},
   "source": [
    "## Preparing the Data"
   ]
  },
  {
   "cell_type": "markdown",
   "id": "7539b7bc",
   "metadata": {},
   "source": [
    "Import all necessary libraries"
   ]
  },
  {
   "cell_type": "code",
   "execution_count": 122,
   "id": "675b3763",
   "metadata": {},
   "outputs": [
    {
     "data": {
      "text/html": [
       "        <script type=\"text/javascript\">\n",
       "        window.PlotlyConfig = {MathJaxConfig: 'local'};\n",
       "        if (window.MathJax) {MathJax.Hub.Config({SVG: {font: \"STIX-Web\"}});}\n",
       "        if (typeof require !== 'undefined') {\n",
       "        require.undef(\"plotly\");\n",
       "        requirejs.config({\n",
       "            paths: {\n",
       "                'plotly': ['https://cdn.plot.ly/plotly-2.9.0.min']\n",
       "            }\n",
       "        });\n",
       "        require(['plotly'], function(Plotly) {\n",
       "            window._Plotly = Plotly;\n",
       "        });\n",
       "        }\n",
       "        </script>\n",
       "        "
      ]
     },
     "metadata": {},
     "output_type": "display_data"
    }
   ],
   "source": [
    "import numpy as np\n",
    "import pandas as pd\n",
    "\n",
    "import matplotlib.pyplot as plt\n",
    "%matplotlib inline\n",
    "import seaborn as sns\n",
    "sns.set_style('whitegrid')\n",
    "\n",
    "import chart_studio.plotly as py\n",
    "import plotly.graph_objs as go \n",
    "from plotly.offline import init_notebook_mode,iplot\n",
    "pd.options.mode.chained_assignment = None\n",
    "init_notebook_mode(connected=True)"
   ]
  },
  {
   "cell_type": "markdown",
   "id": "625bd0bf",
   "metadata": {},
   "source": [
    "Read the file"
   ]
  },
  {
   "cell_type": "code",
   "execution_count": 123,
   "id": "a7d5e377",
   "metadata": {},
   "outputs": [],
   "source": [
    "df_accidents = pd.read_csv('US_Accidents_Dec21_updated.csv')"
   ]
  },
  {
   "cell_type": "markdown",
   "id": "52604e04",
   "metadata": {},
   "source": [
    "Look to the datatypes of each column"
   ]
  },
  {
   "cell_type": "code",
   "execution_count": 124,
   "id": "ea9c35e8",
   "metadata": {
    "scrolled": true
   },
   "outputs": [
    {
     "name": "stdout",
     "output_type": "stream",
     "text": [
      "<class 'pandas.core.frame.DataFrame'>\n",
      "RangeIndex: 2845342 entries, 0 to 2845341\n",
      "Data columns (total 47 columns):\n",
      " #   Column                 Dtype  \n",
      "---  ------                 -----  \n",
      " 0   ID                     object \n",
      " 1   Severity               int64  \n",
      " 2   Start_Time             object \n",
      " 3   End_Time               object \n",
      " 4   Start_Lat              float64\n",
      " 5   Start_Lng              float64\n",
      " 6   End_Lat                float64\n",
      " 7   End_Lng                float64\n",
      " 8   Distance(mi)           float64\n",
      " 9   Description            object \n",
      " 10  Number                 float64\n",
      " 11  Street                 object \n",
      " 12  Side                   object \n",
      " 13  City                   object \n",
      " 14  County                 object \n",
      " 15  State                  object \n",
      " 16  Zipcode                object \n",
      " 17  Country                object \n",
      " 18  Timezone               object \n",
      " 19  Airport_Code           object \n",
      " 20  Weather_Timestamp      object \n",
      " 21  Temperature(F)         float64\n",
      " 22  Wind_Chill(F)          float64\n",
      " 23  Humidity(%)            float64\n",
      " 24  Pressure(in)           float64\n",
      " 25  Visibility(mi)         float64\n",
      " 26  Wind_Direction         object \n",
      " 27  Wind_Speed(mph)        float64\n",
      " 28  Precipitation(in)      float64\n",
      " 29  Weather_Condition      object \n",
      " 30  Amenity                bool   \n",
      " 31  Bump                   bool   \n",
      " 32  Crossing               bool   \n",
      " 33  Give_Way               bool   \n",
      " 34  Junction               bool   \n",
      " 35  No_Exit                bool   \n",
      " 36  Railway                bool   \n",
      " 37  Roundabout             bool   \n",
      " 38  Station                bool   \n",
      " 39  Stop                   bool   \n",
      " 40  Traffic_Calming        bool   \n",
      " 41  Traffic_Signal         bool   \n",
      " 42  Turning_Loop           bool   \n",
      " 43  Sunrise_Sunset         object \n",
      " 44  Civil_Twilight         object \n",
      " 45  Nautical_Twilight      object \n",
      " 46  Astronomical_Twilight  object \n",
      "dtypes: bool(13), float64(13), int64(1), object(20)\n",
      "memory usage: 773.4+ MB\n"
     ]
    }
   ],
   "source": [
    "df_accidents.info()"
   ]
  },
  {
   "cell_type": "markdown",
   "id": "d0c586db",
   "metadata": {},
   "source": [
    "We see that the columns related with time have datatype object (string)\n",
    "\n",
    "Let's change their format to datetime"
   ]
  },
  {
   "cell_type": "code",
   "execution_count": 125,
   "id": "0d0a33b1",
   "metadata": {},
   "outputs": [],
   "source": [
    "df_accidents.Start_Time= pd.to_datetime(df_accidents.Start_Time)\n",
    "df_accidents.End_Time= pd.to_datetime(df_accidents.End_Time)"
   ]
  },
  {
   "cell_type": "markdown",
   "id": "ca9d765c",
   "metadata": {},
   "source": [
    "Number of unique values in every column"
   ]
  },
  {
   "cell_type": "code",
   "execution_count": 126,
   "id": "198a7f13",
   "metadata": {
    "scrolled": true
   },
   "outputs": [
    {
     "data": {
      "text/plain": [
       "ID                       2845342\n",
       "Severity                       4\n",
       "Start_Time               1807311\n",
       "End_Time                 2239983\n",
       "Start_Lat                1093618\n",
       "Start_Lng                1120365\n",
       "End_Lat                  1080811\n",
       "End_Lng                  1105404\n",
       "Distance(mi)               14165\n",
       "Description              1174563\n",
       "Number                     46402\n",
       "Street                    159651\n",
       "Side                           3\n",
       "City                       11681\n",
       "County                      1707\n",
       "State                         49\n",
       "Zipcode                   363085\n",
       "Country                        1\n",
       "Timezone                       4\n",
       "Airport_Code                2004\n",
       "Weather_Timestamp         474214\n",
       "Temperature(F)               788\n",
       "Wind_Chill(F)                897\n",
       "Humidity(%)                  100\n",
       "Pressure(in)                1068\n",
       "Visibility(mi)                76\n",
       "Wind_Direction                24\n",
       "Wind_Speed(mph)              136\n",
       "Precipitation(in)            230\n",
       "Weather_Condition            127\n",
       "Amenity                        2\n",
       "Bump                           2\n",
       "Crossing                       2\n",
       "Give_Way                       2\n",
       "Junction                       2\n",
       "No_Exit                        2\n",
       "Railway                        2\n",
       "Roundabout                     2\n",
       "Station                        2\n",
       "Stop                           2\n",
       "Traffic_Calming                2\n",
       "Traffic_Signal                 2\n",
       "Turning_Loop                   1\n",
       "Sunrise_Sunset                 2\n",
       "Civil_Twilight                 2\n",
       "Nautical_Twilight              2\n",
       "Astronomical_Twilight          2\n",
       "dtype: int64"
      ]
     },
     "execution_count": 126,
     "metadata": {},
     "output_type": "execute_result"
    }
   ],
   "source": [
    "df_accidents.nunique()"
   ]
  },
  {
   "cell_type": "markdown",
   "id": "9f987e62",
   "metadata": {},
   "source": [
    "Look how the first 3 rows are look like"
   ]
  },
  {
   "cell_type": "code",
   "execution_count": 127,
   "id": "af719a71",
   "metadata": {
    "scrolled": false
   },
   "outputs": [
    {
     "data": {
      "text/html": [
       "<div>\n",
       "<style scoped>\n",
       "    .dataframe tbody tr th:only-of-type {\n",
       "        vertical-align: middle;\n",
       "    }\n",
       "\n",
       "    .dataframe tbody tr th {\n",
       "        vertical-align: top;\n",
       "    }\n",
       "\n",
       "    .dataframe thead th {\n",
       "        text-align: right;\n",
       "    }\n",
       "</style>\n",
       "<table border=\"1\" class=\"dataframe\">\n",
       "  <thead>\n",
       "    <tr style=\"text-align: right;\">\n",
       "      <th></th>\n",
       "      <th>ID</th>\n",
       "      <th>Severity</th>\n",
       "      <th>Start_Time</th>\n",
       "      <th>End_Time</th>\n",
       "      <th>Start_Lat</th>\n",
       "      <th>Start_Lng</th>\n",
       "      <th>End_Lat</th>\n",
       "      <th>End_Lng</th>\n",
       "      <th>Distance(mi)</th>\n",
       "      <th>Description</th>\n",
       "      <th>Number</th>\n",
       "      <th>Street</th>\n",
       "      <th>Side</th>\n",
       "      <th>City</th>\n",
       "      <th>County</th>\n",
       "      <th>State</th>\n",
       "      <th>Zipcode</th>\n",
       "      <th>Country</th>\n",
       "      <th>Timezone</th>\n",
       "      <th>Airport_Code</th>\n",
       "      <th>Weather_Timestamp</th>\n",
       "      <th>Temperature(F)</th>\n",
       "      <th>Wind_Chill(F)</th>\n",
       "      <th>Humidity(%)</th>\n",
       "      <th>Pressure(in)</th>\n",
       "      <th>Visibility(mi)</th>\n",
       "      <th>Wind_Direction</th>\n",
       "      <th>Wind_Speed(mph)</th>\n",
       "      <th>Precipitation(in)</th>\n",
       "      <th>Weather_Condition</th>\n",
       "      <th>Amenity</th>\n",
       "      <th>Bump</th>\n",
       "      <th>Crossing</th>\n",
       "      <th>Give_Way</th>\n",
       "      <th>Junction</th>\n",
       "      <th>No_Exit</th>\n",
       "      <th>Railway</th>\n",
       "      <th>Roundabout</th>\n",
       "      <th>Station</th>\n",
       "      <th>Stop</th>\n",
       "      <th>Traffic_Calming</th>\n",
       "      <th>Traffic_Signal</th>\n",
       "      <th>Turning_Loop</th>\n",
       "      <th>Sunrise_Sunset</th>\n",
       "      <th>Civil_Twilight</th>\n",
       "      <th>Nautical_Twilight</th>\n",
       "      <th>Astronomical_Twilight</th>\n",
       "    </tr>\n",
       "  </thead>\n",
       "  <tbody>\n",
       "    <tr>\n",
       "      <th>0</th>\n",
       "      <td>A-1</td>\n",
       "      <td>3</td>\n",
       "      <td>2016-02-08 00:37:08</td>\n",
       "      <td>2016-02-08 06:37:08</td>\n",
       "      <td>40.10891</td>\n",
       "      <td>-83.09286</td>\n",
       "      <td>40.11206</td>\n",
       "      <td>-83.03187</td>\n",
       "      <td>3.230</td>\n",
       "      <td>Between Sawmill Rd/Exit 20 and OH-315/Olentang...</td>\n",
       "      <td>NaN</td>\n",
       "      <td>Outerbelt E</td>\n",
       "      <td>R</td>\n",
       "      <td>Dublin</td>\n",
       "      <td>Franklin</td>\n",
       "      <td>OH</td>\n",
       "      <td>43017</td>\n",
       "      <td>US</td>\n",
       "      <td>US/Eastern</td>\n",
       "      <td>KOSU</td>\n",
       "      <td>2016-02-08 00:53:00</td>\n",
       "      <td>42.1</td>\n",
       "      <td>36.1</td>\n",
       "      <td>58.0</td>\n",
       "      <td>29.76</td>\n",
       "      <td>10.0</td>\n",
       "      <td>SW</td>\n",
       "      <td>10.4</td>\n",
       "      <td>0.00</td>\n",
       "      <td>Light Rain</td>\n",
       "      <td>False</td>\n",
       "      <td>False</td>\n",
       "      <td>False</td>\n",
       "      <td>False</td>\n",
       "      <td>False</td>\n",
       "      <td>False</td>\n",
       "      <td>False</td>\n",
       "      <td>False</td>\n",
       "      <td>False</td>\n",
       "      <td>False</td>\n",
       "      <td>False</td>\n",
       "      <td>False</td>\n",
       "      <td>False</td>\n",
       "      <td>Night</td>\n",
       "      <td>Night</td>\n",
       "      <td>Night</td>\n",
       "      <td>Night</td>\n",
       "    </tr>\n",
       "    <tr>\n",
       "      <th>1</th>\n",
       "      <td>A-2</td>\n",
       "      <td>2</td>\n",
       "      <td>2016-02-08 05:56:20</td>\n",
       "      <td>2016-02-08 11:56:20</td>\n",
       "      <td>39.86542</td>\n",
       "      <td>-84.06280</td>\n",
       "      <td>39.86501</td>\n",
       "      <td>-84.04873</td>\n",
       "      <td>0.747</td>\n",
       "      <td>At OH-4/OH-235/Exit 41 - Accident.</td>\n",
       "      <td>NaN</td>\n",
       "      <td>I-70 E</td>\n",
       "      <td>R</td>\n",
       "      <td>Dayton</td>\n",
       "      <td>Montgomery</td>\n",
       "      <td>OH</td>\n",
       "      <td>45424</td>\n",
       "      <td>US</td>\n",
       "      <td>US/Eastern</td>\n",
       "      <td>KFFO</td>\n",
       "      <td>2016-02-08 05:58:00</td>\n",
       "      <td>36.9</td>\n",
       "      <td>NaN</td>\n",
       "      <td>91.0</td>\n",
       "      <td>29.68</td>\n",
       "      <td>10.0</td>\n",
       "      <td>Calm</td>\n",
       "      <td>NaN</td>\n",
       "      <td>0.02</td>\n",
       "      <td>Light Rain</td>\n",
       "      <td>False</td>\n",
       "      <td>False</td>\n",
       "      <td>False</td>\n",
       "      <td>False</td>\n",
       "      <td>False</td>\n",
       "      <td>False</td>\n",
       "      <td>False</td>\n",
       "      <td>False</td>\n",
       "      <td>False</td>\n",
       "      <td>False</td>\n",
       "      <td>False</td>\n",
       "      <td>False</td>\n",
       "      <td>False</td>\n",
       "      <td>Night</td>\n",
       "      <td>Night</td>\n",
       "      <td>Night</td>\n",
       "      <td>Night</td>\n",
       "    </tr>\n",
       "    <tr>\n",
       "      <th>2</th>\n",
       "      <td>A-3</td>\n",
       "      <td>2</td>\n",
       "      <td>2016-02-08 06:15:39</td>\n",
       "      <td>2016-02-08 12:15:39</td>\n",
       "      <td>39.10266</td>\n",
       "      <td>-84.52468</td>\n",
       "      <td>39.10209</td>\n",
       "      <td>-84.52396</td>\n",
       "      <td>0.055</td>\n",
       "      <td>At I-71/US-50/Exit 1 - Accident.</td>\n",
       "      <td>NaN</td>\n",
       "      <td>I-75 S</td>\n",
       "      <td>R</td>\n",
       "      <td>Cincinnati</td>\n",
       "      <td>Hamilton</td>\n",
       "      <td>OH</td>\n",
       "      <td>45203</td>\n",
       "      <td>US</td>\n",
       "      <td>US/Eastern</td>\n",
       "      <td>KLUK</td>\n",
       "      <td>2016-02-08 05:53:00</td>\n",
       "      <td>36.0</td>\n",
       "      <td>NaN</td>\n",
       "      <td>97.0</td>\n",
       "      <td>29.70</td>\n",
       "      <td>10.0</td>\n",
       "      <td>Calm</td>\n",
       "      <td>NaN</td>\n",
       "      <td>0.02</td>\n",
       "      <td>Overcast</td>\n",
       "      <td>False</td>\n",
       "      <td>False</td>\n",
       "      <td>False</td>\n",
       "      <td>False</td>\n",
       "      <td>True</td>\n",
       "      <td>False</td>\n",
       "      <td>False</td>\n",
       "      <td>False</td>\n",
       "      <td>False</td>\n",
       "      <td>False</td>\n",
       "      <td>False</td>\n",
       "      <td>False</td>\n",
       "      <td>False</td>\n",
       "      <td>Night</td>\n",
       "      <td>Night</td>\n",
       "      <td>Night</td>\n",
       "      <td>Day</td>\n",
       "    </tr>\n",
       "  </tbody>\n",
       "</table>\n",
       "</div>"
      ],
      "text/plain": [
       "    ID  Severity          Start_Time            End_Time  Start_Lat  \\\n",
       "0  A-1         3 2016-02-08 00:37:08 2016-02-08 06:37:08   40.10891   \n",
       "1  A-2         2 2016-02-08 05:56:20 2016-02-08 11:56:20   39.86542   \n",
       "2  A-3         2 2016-02-08 06:15:39 2016-02-08 12:15:39   39.10266   \n",
       "\n",
       "   Start_Lng   End_Lat   End_Lng  Distance(mi)  \\\n",
       "0  -83.09286  40.11206 -83.03187         3.230   \n",
       "1  -84.06280  39.86501 -84.04873         0.747   \n",
       "2  -84.52468  39.10209 -84.52396         0.055   \n",
       "\n",
       "                                         Description  Number       Street  \\\n",
       "0  Between Sawmill Rd/Exit 20 and OH-315/Olentang...     NaN  Outerbelt E   \n",
       "1                 At OH-4/OH-235/Exit 41 - Accident.     NaN       I-70 E   \n",
       "2                   At I-71/US-50/Exit 1 - Accident.     NaN       I-75 S   \n",
       "\n",
       "  Side        City      County State Zipcode Country    Timezone Airport_Code  \\\n",
       "0    R      Dublin    Franklin    OH   43017      US  US/Eastern         KOSU   \n",
       "1    R      Dayton  Montgomery    OH   45424      US  US/Eastern         KFFO   \n",
       "2    R  Cincinnati    Hamilton    OH   45203      US  US/Eastern         KLUK   \n",
       "\n",
       "     Weather_Timestamp  Temperature(F)  Wind_Chill(F)  Humidity(%)  \\\n",
       "0  2016-02-08 00:53:00            42.1           36.1         58.0   \n",
       "1  2016-02-08 05:58:00            36.9            NaN         91.0   \n",
       "2  2016-02-08 05:53:00            36.0            NaN         97.0   \n",
       "\n",
       "   Pressure(in)  Visibility(mi) Wind_Direction  Wind_Speed(mph)  \\\n",
       "0         29.76            10.0             SW             10.4   \n",
       "1         29.68            10.0           Calm              NaN   \n",
       "2         29.70            10.0           Calm              NaN   \n",
       "\n",
       "   Precipitation(in) Weather_Condition  Amenity   Bump  Crossing  Give_Way  \\\n",
       "0               0.00        Light Rain    False  False     False     False   \n",
       "1               0.02        Light Rain    False  False     False     False   \n",
       "2               0.02          Overcast    False  False     False     False   \n",
       "\n",
       "   Junction  No_Exit  Railway  Roundabout  Station   Stop  Traffic_Calming  \\\n",
       "0     False    False    False       False    False  False            False   \n",
       "1     False    False    False       False    False  False            False   \n",
       "2      True    False    False       False    False  False            False   \n",
       "\n",
       "   Traffic_Signal  Turning_Loop Sunrise_Sunset Civil_Twilight  \\\n",
       "0           False         False          Night          Night   \n",
       "1           False         False          Night          Night   \n",
       "2           False         False          Night          Night   \n",
       "\n",
       "  Nautical_Twilight Astronomical_Twilight  \n",
       "0             Night                 Night  \n",
       "1             Night                 Night  \n",
       "2             Night                   Day  "
      ]
     },
     "execution_count": 127,
     "metadata": {},
     "output_type": "execute_result"
    }
   ],
   "source": [
    "pd.options.display.max_columns = None\n",
    "df_accidents.head(3)"
   ]
  },
  {
   "cell_type": "markdown",
   "id": "3de08f94",
   "metadata": {},
   "source": [
    "Let's create separate columns for different frames of date"
   ]
  },
  {
   "cell_type": "code",
   "execution_count": 128,
   "id": "f89f07e4",
   "metadata": {},
   "outputs": [],
   "source": [
    "df_accidents['Year'] = df_accidents['Start_Time'].dt.year\n",
    "df_accidents['Month'] = df_accidents['Start_Time'].dt.month\n",
    "df_accidents['MonthName'] = df_accidents['Start_Time'].dt.month_name().str[:3]\n",
    "df_accidents['Year_Month'] = df_accidents['Start_Time'].dt.to_period('M')\n",
    "df_accidents['Weekday'] = df_accidents['Start_Time'].dt.day\n",
    "df_accidents['WeekdayName'] = df_accidents['Start_Time'].dt.day_name().str[:3]\n",
    "df_accidents['Hour'] = df_accidents['Start_Time'].dt.hour\n",
    "\n",
    "#We will use this lists for ordering in barcharts\n",
    "Months = ['Jan', 'Feb', 'Mar', 'Apr', 'May', 'Jun', 'Jul', 'Aug', 'Sep', 'Oct', 'Nov', 'Dec']\n",
    "Days = ['Mon', 'Tue', 'Wed', 'Thu', 'Fri', 'Sat', 'Sun']"
   ]
  },
  {
   "cell_type": "markdown",
   "id": "7ed25800",
   "metadata": {},
   "source": [
    "Let's look if we have missing data in some months"
   ]
  },
  {
   "cell_type": "code",
   "execution_count": 129,
   "id": "c7108124",
   "metadata": {
    "scrolled": false
   },
   "outputs": [
    {
     "data": {
      "image/png": "[encoded data removed]",
      "text/plain": [
       "<Figure size 1120x560 with 1 Axes>"
      ]
     },
     "metadata": {},
     "output_type": "display_data"
    }
   ],
   "source": [
    "df_YearMonth_accidents = df_accidents['Year_Month'].value_counts().to_frame().reset_index().set_axis(['Year_Month', 'Accidents_count'], axis=1)\n",
    "\n",
    "fig, ax = plt.subplots(figsize = (14,7), dpi = 80)\n",
    "plt.xticks(rotation=90)\n",
    "\n",
    "ax=sns.barplot(x='Year_Month', y='Accidents_count', data = df_YearMonth_accidents, color='#4e5798').set(title='Accidents Count by Year_Month, 2016-2021')"
   ]
  },
  {
   "cell_type": "markdown",
   "id": "cb6a650c",
   "metadata": {},
   "source": [
    "As we can see in the barchart, there is no data for 2016-01, 2016-02, 2020-07, 2020-08\n",
    "\n",
    "Also there is a few data for the 2016 H1"
   ]
  },
  {
   "cell_type": "markdown",
   "id": "ee8f2243",
   "metadata": {},
   "source": [
    "Below we count top 5 most frequent data for every column"
   ]
  },
  {
   "cell_type": "code",
   "execution_count": 130,
   "id": "c5da2748",
   "metadata": {
    "scrolled": true
   },
   "outputs": [
    {
     "data": {
      "text/html": [
       "<table><tr> <td><div>\n",
       "<style scoped>\n",
       "    .dataframe tbody tr th:only-of-type {\n",
       "        vertical-align: middle;\n",
       "    }\n",
       "\n",
       "    .dataframe tbody tr th {\n",
       "        vertical-align: top;\n",
       "    }\n",
       "\n",
       "    .dataframe thead th {\n",
       "        text-align: right;\n",
       "    }\n",
       "</style>\n",
       "<table border=\"1\" class=\"dataframe\">\n",
       "  <thead>\n",
       "    <tr style=\"text-align: right;\">\n",
       "      <th></th>\n",
       "      <th>ID</th>\n",
       "    </tr>\n",
       "  </thead>\n",
       "  <tbody>\n",
       "    <tr>\n",
       "      <th>A-1</th>\n",
       "      <td>1</td>\n",
       "    </tr>\n",
       "    <tr>\n",
       "      <th>A-1896898</th>\n",
       "      <td>1</td>\n",
       "    </tr>\n",
       "    <tr>\n",
       "      <th>A-1896890</th>\n",
       "      <td>1</td>\n",
       "    </tr>\n",
       "    <tr>\n",
       "      <th>A-1896891</th>\n",
       "      <td>1</td>\n",
       "    </tr>\n",
       "    <tr>\n",
       "      <th>A-1896892</th>\n",
       "      <td>1</td>\n",
       "    </tr>\n",
       "  </tbody>\n",
       "</table>\n",
       "</div></td><td><div>\n",
       "<style scoped>\n",
       "    .dataframe tbody tr th:only-of-type {\n",
       "        vertical-align: middle;\n",
       "    }\n",
       "\n",
       "    .dataframe tbody tr th {\n",
       "        vertical-align: top;\n",
       "    }\n",
       "\n",
       "    .dataframe thead th {\n",
       "        text-align: right;\n",
       "    }\n",
       "</style>\n",
       "<table border=\"1\" class=\"dataframe\">\n",
       "  <thead>\n",
       "    <tr style=\"text-align: right;\">\n",
       "      <th></th>\n",
       "      <th>Severity</th>\n",
       "    </tr>\n",
       "  </thead>\n",
       "  <tbody>\n",
       "    <tr>\n",
       "      <th>2</th>\n",
       "      <td>2532991</td>\n",
       "    </tr>\n",
       "    <tr>\n",
       "      <th>3</th>\n",
       "      <td>155105</td>\n",
       "    </tr>\n",
       "    <tr>\n",
       "      <th>4</th>\n",
       "      <td>131193</td>\n",
       "    </tr>\n",
       "    <tr>\n",
       "      <th>1</th>\n",
       "      <td>26053</td>\n",
       "    </tr>\n",
       "  </tbody>\n",
       "</table>\n",
       "</div></td><td><div>\n",
       "<style scoped>\n",
       "    .dataframe tbody tr th:only-of-type {\n",
       "        vertical-align: middle;\n",
       "    }\n",
       "\n",
       "    .dataframe tbody tr th {\n",
       "        vertical-align: top;\n",
       "    }\n",
       "\n",
       "    .dataframe thead th {\n",
       "        text-align: right;\n",
       "    }\n",
       "</style>\n",
       "<table border=\"1\" class=\"dataframe\">\n",
       "  <thead>\n",
       "    <tr style=\"text-align: right;\">\n",
       "      <th></th>\n",
       "      <th>Start_Time</th>\n",
       "    </tr>\n",
       "  </thead>\n",
       "  <tbody>\n",
       "    <tr>\n",
       "      <th>2021-01-26 16:16:13</th>\n",
       "      <td>252</td>\n",
       "    </tr>\n",
       "    <tr>\n",
       "      <th>2021-01-26 16:17:33</th>\n",
       "      <td>170</td>\n",
       "    </tr>\n",
       "    <tr>\n",
       "      <th>2021-02-16 06:42:43</th>\n",
       "      <td>157</td>\n",
       "    </tr>\n",
       "    <tr>\n",
       "      <th>2021-05-03 06:29:42</th>\n",
       "      <td>111</td>\n",
       "    </tr>\n",
       "    <tr>\n",
       "      <th>2021-11-21 18:37:51</th>\n",
       "      <td>102</td>\n",
       "    </tr>\n",
       "  </tbody>\n",
       "</table>\n",
       "</div></td><td><div>\n",
       "<style scoped>\n",
       "    .dataframe tbody tr th:only-of-type {\n",
       "        vertical-align: middle;\n",
       "    }\n",
       "\n",
       "    .dataframe tbody tr th {\n",
       "        vertical-align: top;\n",
       "    }\n",
       "\n",
       "    .dataframe thead th {\n",
       "        text-align: right;\n",
       "    }\n",
       "</style>\n",
       "<table border=\"1\" class=\"dataframe\">\n",
       "  <thead>\n",
       "    <tr style=\"text-align: right;\">\n",
       "      <th></th>\n",
       "      <th>End_Time</th>\n",
       "    </tr>\n",
       "  </thead>\n",
       "  <tbody>\n",
       "    <tr>\n",
       "      <th>2021-11-22 08:00:00</th>\n",
       "      <td>106</td>\n",
       "    </tr>\n",
       "    <tr>\n",
       "      <th>2017-05-15 15:22:55</th>\n",
       "      <td>58</td>\n",
       "    </tr>\n",
       "    <tr>\n",
       "      <th>2019-10-26 09:14:51</th>\n",
       "      <td>47</td>\n",
       "    </tr>\n",
       "    <tr>\n",
       "      <th>2020-02-14 00:00:00</th>\n",
       "      <td>46</td>\n",
       "    </tr>\n",
       "    <tr>\n",
       "      <th>2021-02-13 16:45:00</th>\n",
       "      <td>46</td>\n",
       "    </tr>\n",
       "  </tbody>\n",
       "</table>\n",
       "</div></td><td><div>\n",
       "<style scoped>\n",
       "    .dataframe tbody tr th:only-of-type {\n",
       "        vertical-align: middle;\n",
       "    }\n",
       "\n",
       "    .dataframe tbody tr th {\n",
       "        vertical-align: top;\n",
       "    }\n",
       "\n",
       "    .dataframe thead th {\n",
       "        text-align: right;\n",
       "    }\n",
       "</style>\n",
       "<table border=\"1\" class=\"dataframe\">\n",
       "  <thead>\n",
       "    <tr style=\"text-align: right;\">\n",
       "      <th></th>\n",
       "      <th>Start_Lat</th>\n",
       "    </tr>\n",
       "  </thead>\n",
       "  <tbody>\n",
       "    <tr>\n",
       "      <th>25.702455</th>\n",
       "      <td>348</td>\n",
       "    </tr>\n",
       "    <tr>\n",
       "      <th>27.447751</th>\n",
       "      <td>302</td>\n",
       "    </tr>\n",
       "    <tr>\n",
       "      <th>28.452192</th>\n",
       "      <td>285</td>\n",
       "    </tr>\n",
       "    <tr>\n",
       "      <th>28.449924</th>\n",
       "      <td>268</td>\n",
       "    </tr>\n",
       "    <tr>\n",
       "      <th>40.853060</th>\n",
       "      <td>255</td>\n",
       "    </tr>\n",
       "  </tbody>\n",
       "</table>\n",
       "</div></td><td><div>\n",
       "<style scoped>\n",
       "    .dataframe tbody tr th:only-of-type {\n",
       "        vertical-align: middle;\n",
       "    }\n",
       "\n",
       "    .dataframe tbody tr th {\n",
       "        vertical-align: top;\n",
       "    }\n",
       "\n",
       "    .dataframe thead th {\n",
       "        text-align: right;\n",
       "    }\n",
       "</style>\n",
       "<table border=\"1\" class=\"dataframe\">\n",
       "  <thead>\n",
       "    <tr style=\"text-align: right;\">\n",
       "      <th></th>\n",
       "      <th>Start_Lng</th>\n",
       "    </tr>\n",
       "  </thead>\n",
       "  <tbody>\n",
       "    <tr>\n",
       "      <th>-80.332105</th>\n",
       "      <td>348</td>\n",
       "    </tr>\n",
       "    <tr>\n",
       "      <th>-81.400388</th>\n",
       "      <td>285</td>\n",
       "    </tr>\n",
       "    <tr>\n",
       "      <th>-81.479136</th>\n",
       "      <td>268</td>\n",
       "    </tr>\n",
       "    <tr>\n",
       "      <th>-80.382872</th>\n",
       "      <td>254</td>\n",
       "    </tr>\n",
       "    <tr>\n",
       "      <th>-73.960110</th>\n",
       "      <td>248</td>\n",
       "    </tr>\n",
       "  </tbody>\n",
       "</table>\n",
       "</div></td><td><div>\n",
       "<style scoped>\n",
       "    .dataframe tbody tr th:only-of-type {\n",
       "        vertical-align: middle;\n",
       "    }\n",
       "\n",
       "    .dataframe tbody tr th {\n",
       "        vertical-align: top;\n",
       "    }\n",
       "\n",
       "    .dataframe thead th {\n",
       "        text-align: right;\n",
       "    }\n",
       "</style>\n",
       "<table border=\"1\" class=\"dataframe\">\n",
       "  <thead>\n",
       "    <tr style=\"text-align: right;\">\n",
       "      <th></th>\n",
       "      <th>End_Lat</th>\n",
       "    </tr>\n",
       "  </thead>\n",
       "  <tbody>\n",
       "    <tr>\n",
       "      <th>25.701774</th>\n",
       "      <td>755</td>\n",
       "    </tr>\n",
       "    <tr>\n",
       "      <th>25.684322</th>\n",
       "      <td>709</td>\n",
       "    </tr>\n",
       "    <tr>\n",
       "      <th>25.733160</th>\n",
       "      <td>589</td>\n",
       "    </tr>\n",
       "    <tr>\n",
       "      <th>28.449928</th>\n",
       "      <td>586</td>\n",
       "    </tr>\n",
       "    <tr>\n",
       "      <th>28.450190</th>\n",
       "      <td>581</td>\n",
       "    </tr>\n",
       "  </tbody>\n",
       "</table>\n",
       "</div></td><td><div>\n",
       "<style scoped>\n",
       "    .dataframe tbody tr th:only-of-type {\n",
       "        vertical-align: middle;\n",
       "    }\n",
       "\n",
       "    .dataframe tbody tr th {\n",
       "        vertical-align: top;\n",
       "    }\n",
       "\n",
       "    .dataframe thead th {\n",
       "        text-align: right;\n",
       "    }\n",
       "</style>\n",
       "<table border=\"1\" class=\"dataframe\">\n",
       "  <thead>\n",
       "    <tr style=\"text-align: right;\">\n",
       "      <th></th>\n",
       "      <th>End_Lng</th>\n",
       "    </tr>\n",
       "  </thead>\n",
       "  <tbody>\n",
       "    <tr>\n",
       "      <th>-80.334179</th>\n",
       "      <td>755</td>\n",
       "    </tr>\n",
       "    <tr>\n",
       "      <th>-80.416621</th>\n",
       "      <td>709</td>\n",
       "    </tr>\n",
       "    <tr>\n",
       "      <th>-80.336612</th>\n",
       "      <td>589</td>\n",
       "    </tr>\n",
       "    <tr>\n",
       "      <th>-81.477219</th>\n",
       "      <td>586</td>\n",
       "    </tr>\n",
       "    <tr>\n",
       "      <th>-81.399777</th>\n",
       "      <td>583</td>\n",
       "    </tr>\n",
       "  </tbody>\n",
       "</table>\n",
       "</div></td><td><div>\n",
       "<style scoped>\n",
       "    .dataframe tbody tr th:only-of-type {\n",
       "        vertical-align: middle;\n",
       "    }\n",
       "\n",
       "    .dataframe tbody tr th {\n",
       "        vertical-align: top;\n",
       "    }\n",
       "\n",
       "    .dataframe thead th {\n",
       "        text-align: right;\n",
       "    }\n",
       "</style>\n",
       "<table border=\"1\" class=\"dataframe\">\n",
       "  <thead>\n",
       "    <tr style=\"text-align: right;\">\n",
       "      <th></th>\n",
       "      <th>Distance(mi)</th>\n",
       "    </tr>\n",
       "  </thead>\n",
       "  <tbody>\n",
       "    <tr>\n",
       "      <th>0.000</th>\n",
       "      <td>385441</td>\n",
       "    </tr>\n",
       "    <tr>\n",
       "      <th>0.008</th>\n",
       "      <td>9262</td>\n",
       "    </tr>\n",
       "    <tr>\n",
       "      <th>0.009</th>\n",
       "      <td>8978</td>\n",
       "    </tr>\n",
       "    <tr>\n",
       "      <th>0.010</th>\n",
       "      <td>8737</td>\n",
       "    </tr>\n",
       "    <tr>\n",
       "      <th>0.007</th>\n",
       "      <td>7846</td>\n",
       "    </tr>\n",
       "  </tbody>\n",
       "</table>\n",
       "</div></td><td><div>\n",
       "<style scoped>\n",
       "    .dataframe tbody tr th:only-of-type {\n",
       "        vertical-align: middle;\n",
       "    }\n",
       "\n",
       "    .dataframe tbody tr th {\n",
       "        vertical-align: top;\n",
       "    }\n",
       "\n",
       "    .dataframe thead th {\n",
       "        text-align: right;\n",
       "    }\n",
       "</style>\n",
       "<table border=\"1\" class=\"dataframe\">\n",
       "  <thead>\n",
       "    <tr style=\"text-align: right;\">\n",
       "      <th></th>\n",
       "      <th>Description</th>\n",
       "    </tr>\n",
       "  </thead>\n",
       "  <tbody>\n",
       "    <tr>\n",
       "      <th>A crash has occurred causing no to minimum delays. Use caution.</th>\n",
       "      <td>7978</td>\n",
       "    </tr>\n",
       "    <tr>\n",
       "      <th>A crash has occurred use caution.</th>\n",
       "      <td>2531</td>\n",
       "    </tr>\n",
       "    <tr>\n",
       "      <th>An unconfirmed report of a crash has been received. Use caution.</th>\n",
       "      <td>2308</td>\n",
       "    </tr>\n",
       "    <tr>\n",
       "      <th>Hazardous debris is causing no to minimum delays. Use caution.</th>\n",
       "      <td>2095</td>\n",
       "    </tr>\n",
       "    <tr>\n",
       "      <th>At I-15 - Accident.</th>\n",
       "      <td>2070</td>\n",
       "    </tr>\n",
       "  </tbody>\n",
       "</table>\n",
       "</div></td><td><div>\n",
       "<style scoped>\n",
       "    .dataframe tbody tr th:only-of-type {\n",
       "        vertical-align: middle;\n",
       "    }\n",
       "\n",
       "    .dataframe tbody tr th {\n",
       "        vertical-align: top;\n",
       "    }\n",
       "\n",
       "    .dataframe thead th {\n",
       "        text-align: right;\n",
       "    }\n",
       "</style>\n",
       "<table border=\"1\" class=\"dataframe\">\n",
       "  <thead>\n",
       "    <tr style=\"text-align: right;\">\n",
       "      <th></th>\n",
       "      <th>Number</th>\n",
       "    </tr>\n",
       "  </thead>\n",
       "  <tbody>\n",
       "    <tr>\n",
       "      <th>1.0</th>\n",
       "      <td>10662</td>\n",
       "    </tr>\n",
       "    <tr>\n",
       "      <th>2.0</th>\n",
       "      <td>8747</td>\n",
       "    </tr>\n",
       "    <tr>\n",
       "      <th>101.0</th>\n",
       "      <td>6706</td>\n",
       "    </tr>\n",
       "    <tr>\n",
       "      <th>100.0</th>\n",
       "      <td>6187</td>\n",
       "    </tr>\n",
       "    <tr>\n",
       "      <th>198.0</th>\n",
       "      <td>2617</td>\n",
       "    </tr>\n",
       "  </tbody>\n",
       "</table>\n",
       "</div></td><td><div>\n",
       "<style scoped>\n",
       "    .dataframe tbody tr th:only-of-type {\n",
       "        vertical-align: middle;\n",
       "    }\n",
       "\n",
       "    .dataframe tbody tr th {\n",
       "        vertical-align: top;\n",
       "    }\n",
       "\n",
       "    .dataframe thead th {\n",
       "        text-align: right;\n",
       "    }\n",
       "</style>\n",
       "<table border=\"1\" class=\"dataframe\">\n",
       "  <thead>\n",
       "    <tr style=\"text-align: right;\">\n",
       "      <th></th>\n",
       "      <th>Street</th>\n",
       "    </tr>\n",
       "  </thead>\n",
       "  <tbody>\n",
       "    <tr>\n",
       "      <th>I-95 N</th>\n",
       "      <td>39853</td>\n",
       "    </tr>\n",
       "    <tr>\n",
       "      <th>I-5 N</th>\n",
       "      <td>39402</td>\n",
       "    </tr>\n",
       "    <tr>\n",
       "      <th>I-95 S</th>\n",
       "      <td>36425</td>\n",
       "    </tr>\n",
       "    <tr>\n",
       "      <th>I-5 S</th>\n",
       "      <td>30229</td>\n",
       "    </tr>\n",
       "    <tr>\n",
       "      <th>I-10 E</th>\n",
       "      <td>26164</td>\n",
       "    </tr>\n",
       "  </tbody>\n",
       "</table>\n",
       "</div></td><td><div>\n",
       "<style scoped>\n",
       "    .dataframe tbody tr th:only-of-type {\n",
       "        vertical-align: middle;\n",
       "    }\n",
       "\n",
       "    .dataframe tbody tr th {\n",
       "        vertical-align: top;\n",
       "    }\n",
       "\n",
       "    .dataframe thead th {\n",
       "        text-align: right;\n",
       "    }\n",
       "</style>\n",
       "<table border=\"1\" class=\"dataframe\">\n",
       "  <thead>\n",
       "    <tr style=\"text-align: right;\">\n",
       "      <th></th>\n",
       "      <th>Side</th>\n",
       "    </tr>\n",
       "  </thead>\n",
       "  <tbody>\n",
       "    <tr>\n",
       "      <th>R</th>\n",
       "      <td>2353309</td>\n",
       "    </tr>\n",
       "    <tr>\n",
       "      <th>L</th>\n",
       "      <td>492032</td>\n",
       "    </tr>\n",
       "    <tr>\n",
       "      <th>N</th>\n",
       "      <td>1</td>\n",
       "    </tr>\n",
       "  </tbody>\n",
       "</table>\n",
       "</div></td><td><div>\n",
       "<style scoped>\n",
       "    .dataframe tbody tr th:only-of-type {\n",
       "        vertical-align: middle;\n",
       "    }\n",
       "\n",
       "    .dataframe tbody tr th {\n",
       "        vertical-align: top;\n",
       "    }\n",
       "\n",
       "    .dataframe thead th {\n",
       "        text-align: right;\n",
       "    }\n",
       "</style>\n",
       "<table border=\"1\" class=\"dataframe\">\n",
       "  <thead>\n",
       "    <tr style=\"text-align: right;\">\n",
       "      <th></th>\n",
       "      <th>City</th>\n",
       "    </tr>\n",
       "  </thead>\n",
       "  <tbody>\n",
       "    <tr>\n",
       "      <th>Miami</th>\n",
       "      <td>106966</td>\n",
       "    </tr>\n",
       "    <tr>\n",
       "      <th>Los Angeles</th>\n",
       "      <td>68956</td>\n",
       "    </tr>\n",
       "    <tr>\n",
       "      <th>Orlando</th>\n",
       "      <td>54691</td>\n",
       "    </tr>\n",
       "    <tr>\n",
       "      <th>Dallas</th>\n",
       "      <td>41979</td>\n",
       "    </tr>\n",
       "    <tr>\n",
       "      <th>Houston</th>\n",
       "      <td>39448</td>\n",
       "    </tr>\n",
       "  </tbody>\n",
       "</table>\n",
       "</div></td><td><div>\n",
       "<style scoped>\n",
       "    .dataframe tbody tr th:only-of-type {\n",
       "        vertical-align: middle;\n",
       "    }\n",
       "\n",
       "    .dataframe tbody tr th {\n",
       "        vertical-align: top;\n",
       "    }\n",
       "\n",
       "    .dataframe thead th {\n",
       "        text-align: right;\n",
       "    }\n",
       "</style>\n",
       "<table border=\"1\" class=\"dataframe\">\n",
       "  <thead>\n",
       "    <tr style=\"text-align: right;\">\n",
       "      <th></th>\n",
       "      <th>County</th>\n",
       "    </tr>\n",
       "  </thead>\n",
       "  <tbody>\n",
       "    <tr>\n",
       "      <th>Los Angeles</th>\n",
       "      <td>234122</td>\n",
       "    </tr>\n",
       "    <tr>\n",
       "      <th>Miami-Dade</th>\n",
       "      <td>143939</td>\n",
       "    </tr>\n",
       "    <tr>\n",
       "      <th>Orange</th>\n",
       "      <td>114917</td>\n",
       "    </tr>\n",
       "    <tr>\n",
       "      <th>San Bernardino</th>\n",
       "      <td>55018</td>\n",
       "    </tr>\n",
       "    <tr>\n",
       "      <th>Dallas</th>\n",
       "      <td>50050</td>\n",
       "    </tr>\n",
       "  </tbody>\n",
       "</table>\n",
       "</div></td><td><div>\n",
       "<style scoped>\n",
       "    .dataframe tbody tr th:only-of-type {\n",
       "        vertical-align: middle;\n",
       "    }\n",
       "\n",
       "    .dataframe tbody tr th {\n",
       "        vertical-align: top;\n",
       "    }\n",
       "\n",
       "    .dataframe thead th {\n",
       "        text-align: right;\n",
       "    }\n",
       "</style>\n",
       "<table border=\"1\" class=\"dataframe\">\n",
       "  <thead>\n",
       "    <tr style=\"text-align: right;\">\n",
       "      <th></th>\n",
       "      <th>State</th>\n",
       "    </tr>\n",
       "  </thead>\n",
       "  <tbody>\n",
       "    <tr>\n",
       "      <th>CA</th>\n",
       "      <td>795868</td>\n",
       "    </tr>\n",
       "    <tr>\n",
       "      <th>FL</th>\n",
       "      <td>401388</td>\n",
       "    </tr>\n",
       "    <tr>\n",
       "      <th>TX</th>\n",
       "      <td>149037</td>\n",
       "    </tr>\n",
       "    <tr>\n",
       "      <th>OR</th>\n",
       "      <td>126341</td>\n",
       "    </tr>\n",
       "    <tr>\n",
       "      <th>VA</th>\n",
       "      <td>113535</td>\n",
       "    </tr>\n",
       "  </tbody>\n",
       "</table>\n",
       "</div></td><td><div>\n",
       "<style scoped>\n",
       "    .dataframe tbody tr th:only-of-type {\n",
       "        vertical-align: middle;\n",
       "    }\n",
       "\n",
       "    .dataframe tbody tr th {\n",
       "        vertical-align: top;\n",
       "    }\n",
       "\n",
       "    .dataframe thead th {\n",
       "        text-align: right;\n",
       "    }\n",
       "</style>\n",
       "<table border=\"1\" class=\"dataframe\">\n",
       "  <thead>\n",
       "    <tr style=\"text-align: right;\">\n",
       "      <th></th>\n",
       "      <th>Zipcode</th>\n",
       "    </tr>\n",
       "  </thead>\n",
       "  <tbody>\n",
       "    <tr>\n",
       "      <th>91761</th>\n",
       "      <td>6162</td>\n",
       "    </tr>\n",
       "    <tr>\n",
       "      <th>33186</th>\n",
       "      <td>5248</td>\n",
       "    </tr>\n",
       "    <tr>\n",
       "      <th>92407</th>\n",
       "      <td>4528</td>\n",
       "    </tr>\n",
       "    <tr>\n",
       "      <th>92507</th>\n",
       "      <td>4527</td>\n",
       "    </tr>\n",
       "    <tr>\n",
       "      <th>91706</th>\n",
       "      <td>4471</td>\n",
       "    </tr>\n",
       "  </tbody>\n",
       "</table>\n",
       "</div></td><td><div>\n",
       "<style scoped>\n",
       "    .dataframe tbody tr th:only-of-type {\n",
       "        vertical-align: middle;\n",
       "    }\n",
       "\n",
       "    .dataframe tbody tr th {\n",
       "        vertical-align: top;\n",
       "    }\n",
       "\n",
       "    .dataframe thead th {\n",
       "        text-align: right;\n",
       "    }\n",
       "</style>\n",
       "<table border=\"1\" class=\"dataframe\">\n",
       "  <thead>\n",
       "    <tr style=\"text-align: right;\">\n",
       "      <th></th>\n",
       "      <th>Country</th>\n",
       "    </tr>\n",
       "  </thead>\n",
       "  <tbody>\n",
       "    <tr>\n",
       "      <th>US</th>\n",
       "      <td>2845342</td>\n",
       "    </tr>\n",
       "  </tbody>\n",
       "</table>\n",
       "</div></td><td><div>\n",
       "<style scoped>\n",
       "    .dataframe tbody tr th:only-of-type {\n",
       "        vertical-align: middle;\n",
       "    }\n",
       "\n",
       "    .dataframe tbody tr th {\n",
       "        vertical-align: top;\n",
       "    }\n",
       "\n",
       "    .dataframe thead th {\n",
       "        text-align: right;\n",
       "    }\n",
       "</style>\n",
       "<table border=\"1\" class=\"dataframe\">\n",
       "  <thead>\n",
       "    <tr style=\"text-align: right;\">\n",
       "      <th></th>\n",
       "      <th>Timezone</th>\n",
       "    </tr>\n",
       "  </thead>\n",
       "  <tbody>\n",
       "    <tr>\n",
       "      <th>US/Eastern</th>\n",
       "      <td>1221927</td>\n",
       "    </tr>\n",
       "    <tr>\n",
       "      <th>US/Pacific</th>\n",
       "      <td>967094</td>\n",
       "    </tr>\n",
       "    <tr>\n",
       "      <th>US/Central</th>\n",
       "      <td>488065</td>\n",
       "    </tr>\n",
       "    <tr>\n",
       "      <th>US/Mountain</th>\n",
       "      <td>164597</td>\n",
       "    </tr>\n",
       "  </tbody>\n",
       "</table>\n",
       "</div></td><td><div>\n",
       "<style scoped>\n",
       "    .dataframe tbody tr th:only-of-type {\n",
       "        vertical-align: middle;\n",
       "    }\n",
       "\n",
       "    .dataframe tbody tr th {\n",
       "        vertical-align: top;\n",
       "    }\n",
       "\n",
       "    .dataframe thead th {\n",
       "        text-align: right;\n",
       "    }\n",
       "</style>\n",
       "<table border=\"1\" class=\"dataframe\">\n",
       "  <thead>\n",
       "    <tr style=\"text-align: right;\">\n",
       "      <th></th>\n",
       "      <th>Airport_Code</th>\n",
       "    </tr>\n",
       "  </thead>\n",
       "  <tbody>\n",
       "    <tr>\n",
       "      <th>KCQT</th>\n",
       "      <td>52790</td>\n",
       "    </tr>\n",
       "    <tr>\n",
       "      <th>KMIA</th>\n",
       "      <td>45740</td>\n",
       "    </tr>\n",
       "    <tr>\n",
       "      <th>KORL</th>\n",
       "      <td>39380</td>\n",
       "    </tr>\n",
       "    <tr>\n",
       "      <th>KOPF</th>\n",
       "      <td>38556</td>\n",
       "    </tr>\n",
       "    <tr>\n",
       "      <th>KTMB</th>\n",
       "      <td>36250</td>\n",
       "    </tr>\n",
       "  </tbody>\n",
       "</table>\n",
       "</div></td><td><div>\n",
       "<style scoped>\n",
       "    .dataframe tbody tr th:only-of-type {\n",
       "        vertical-align: middle;\n",
       "    }\n",
       "\n",
       "    .dataframe tbody tr th {\n",
       "        vertical-align: top;\n",
       "    }\n",
       "\n",
       "    .dataframe thead th {\n",
       "        text-align: right;\n",
       "    }\n",
       "</style>\n",
       "<table border=\"1\" class=\"dataframe\">\n",
       "  <thead>\n",
       "    <tr style=\"text-align: right;\">\n",
       "      <th></th>\n",
       "      <th>Weather_Timestamp</th>\n",
       "    </tr>\n",
       "  </thead>\n",
       "  <tbody>\n",
       "    <tr>\n",
       "      <th>2021-12-17 14:53:00</th>\n",
       "      <td>640</td>\n",
       "    </tr>\n",
       "    <tr>\n",
       "      <th>2021-12-23 14:53:00</th>\n",
       "      <td>629</td>\n",
       "    </tr>\n",
       "    <tr>\n",
       "      <th>2021-01-26 15:53:00</th>\n",
       "      <td>598</td>\n",
       "    </tr>\n",
       "    <tr>\n",
       "      <th>2021-12-06 16:53:00</th>\n",
       "      <td>595</td>\n",
       "    </tr>\n",
       "    <tr>\n",
       "      <th>2021-12-03 16:53:00</th>\n",
       "      <td>593</td>\n",
       "    </tr>\n",
       "  </tbody>\n",
       "</table>\n",
       "</div></td><td><div>\n",
       "<style scoped>\n",
       "    .dataframe tbody tr th:only-of-type {\n",
       "        vertical-align: middle;\n",
       "    }\n",
       "\n",
       "    .dataframe tbody tr th {\n",
       "        vertical-align: top;\n",
       "    }\n",
       "\n",
       "    .dataframe thead th {\n",
       "        text-align: right;\n",
       "    }\n",
       "</style>\n",
       "<table border=\"1\" class=\"dataframe\">\n",
       "  <thead>\n",
       "    <tr style=\"text-align: right;\">\n",
       "      <th></th>\n",
       "      <th>Temperature(F)</th>\n",
       "    </tr>\n",
       "  </thead>\n",
       "  <tbody>\n",
       "    <tr>\n",
       "      <th>73.0</th>\n",
       "      <td>64505</td>\n",
       "    </tr>\n",
       "    <tr>\n",
       "      <th>77.0</th>\n",
       "      <td>63575</td>\n",
       "    </tr>\n",
       "    <tr>\n",
       "      <th>75.0</th>\n",
       "      <td>60534</td>\n",
       "    </tr>\n",
       "    <tr>\n",
       "      <th>72.0</th>\n",
       "      <td>59681</td>\n",
       "    </tr>\n",
       "    <tr>\n",
       "      <th>68.0</th>\n",
       "      <td>58557</td>\n",
       "    </tr>\n",
       "  </tbody>\n",
       "</table>\n",
       "</div></td><td><div>\n",
       "<style scoped>\n",
       "    .dataframe tbody tr th:only-of-type {\n",
       "        vertical-align: middle;\n",
       "    }\n",
       "\n",
       "    .dataframe tbody tr th {\n",
       "        vertical-align: top;\n",
       "    }\n",
       "\n",
       "    .dataframe thead th {\n",
       "        text-align: right;\n",
       "    }\n",
       "</style>\n",
       "<table border=\"1\" class=\"dataframe\">\n",
       "  <thead>\n",
       "    <tr style=\"text-align: right;\">\n",
       "      <th></th>\n",
       "      <th>Wind_Chill(F)</th>\n",
       "    </tr>\n",
       "  </thead>\n",
       "  <tbody>\n",
       "    <tr>\n",
       "      <th>73.0</th>\n",
       "      <td>56492</td>\n",
       "    </tr>\n",
       "    <tr>\n",
       "      <th>77.0</th>\n",
       "      <td>53359</td>\n",
       "    </tr>\n",
       "    <tr>\n",
       "      <th>75.0</th>\n",
       "      <td>52898</td>\n",
       "    </tr>\n",
       "    <tr>\n",
       "      <th>72.0</th>\n",
       "      <td>52196</td>\n",
       "    </tr>\n",
       "    <tr>\n",
       "      <th>63.0</th>\n",
       "      <td>50784</td>\n",
       "    </tr>\n",
       "  </tbody>\n",
       "</table>\n",
       "</div></td><td><div>\n",
       "<style scoped>\n",
       "    .dataframe tbody tr th:only-of-type {\n",
       "        vertical-align: middle;\n",
       "    }\n",
       "\n",
       "    .dataframe tbody tr th {\n",
       "        vertical-align: top;\n",
       "    }\n",
       "\n",
       "    .dataframe thead th {\n",
       "        text-align: right;\n",
       "    }\n",
       "</style>\n",
       "<table border=\"1\" class=\"dataframe\">\n",
       "  <thead>\n",
       "    <tr style=\"text-align: right;\">\n",
       "      <th></th>\n",
       "      <th>Humidity(%)</th>\n",
       "    </tr>\n",
       "  </thead>\n",
       "  <tbody>\n",
       "    <tr>\n",
       "      <th>93.0</th>\n",
       "      <td>103607</td>\n",
       "    </tr>\n",
       "    <tr>\n",
       "      <th>100.0</th>\n",
       "      <td>96907</td>\n",
       "    </tr>\n",
       "    <tr>\n",
       "      <th>87.0</th>\n",
       "      <td>60236</td>\n",
       "    </tr>\n",
       "    <tr>\n",
       "      <th>90.0</th>\n",
       "      <td>57587</td>\n",
       "    </tr>\n",
       "    <tr>\n",
       "      <th>89.0</th>\n",
       "      <td>53396</td>\n",
       "    </tr>\n",
       "  </tbody>\n",
       "</table>\n",
       "</div></td><td><div>\n",
       "<style scoped>\n",
       "    .dataframe tbody tr th:only-of-type {\n",
       "        vertical-align: middle;\n",
       "    }\n",
       "\n",
       "    .dataframe tbody tr th {\n",
       "        vertical-align: top;\n",
       "    }\n",
       "\n",
       "    .dataframe thead th {\n",
       "        text-align: right;\n",
       "    }\n",
       "</style>\n",
       "<table border=\"1\" class=\"dataframe\">\n",
       "  <thead>\n",
       "    <tr style=\"text-align: right;\">\n",
       "      <th></th>\n",
       "      <th>Pressure(in)</th>\n",
       "    </tr>\n",
       "  </thead>\n",
       "  <tbody>\n",
       "    <tr>\n",
       "      <th>29.96</th>\n",
       "      <td>43668</td>\n",
       "    </tr>\n",
       "    <tr>\n",
       "      <th>29.94</th>\n",
       "      <td>43165</td>\n",
       "    </tr>\n",
       "    <tr>\n",
       "      <th>29.99</th>\n",
       "      <td>42978</td>\n",
       "    </tr>\n",
       "    <tr>\n",
       "      <th>30.01</th>\n",
       "      <td>41736</td>\n",
       "    </tr>\n",
       "    <tr>\n",
       "      <th>30.03</th>\n",
       "      <td>41477</td>\n",
       "    </tr>\n",
       "  </tbody>\n",
       "</table>\n",
       "</div></td><td><div>\n",
       "<style scoped>\n",
       "    .dataframe tbody tr th:only-of-type {\n",
       "        vertical-align: middle;\n",
       "    }\n",
       "\n",
       "    .dataframe tbody tr th {\n",
       "        vertical-align: top;\n",
       "    }\n",
       "\n",
       "    .dataframe thead th {\n",
       "        text-align: right;\n",
       "    }\n",
       "</style>\n",
       "<table border=\"1\" class=\"dataframe\">\n",
       "  <thead>\n",
       "    <tr style=\"text-align: right;\">\n",
       "      <th></th>\n",
       "      <th>Visibility(mi)</th>\n",
       "    </tr>\n",
       "  </thead>\n",
       "  <tbody>\n",
       "    <tr>\n",
       "      <th>10.0</th>\n",
       "      <td>2230276</td>\n",
       "    </tr>\n",
       "    <tr>\n",
       "      <th>7.0</th>\n",
       "      <td>79649</td>\n",
       "    </tr>\n",
       "    <tr>\n",
       "      <th>9.0</th>\n",
       "      <td>68817</td>\n",
       "    </tr>\n",
       "    <tr>\n",
       "      <th>8.0</th>\n",
       "      <td>55955</td>\n",
       "    </tr>\n",
       "    <tr>\n",
       "      <th>5.0</th>\n",
       "      <td>53933</td>\n",
       "    </tr>\n",
       "  </tbody>\n",
       "</table>\n",
       "</div></td><td><div>\n",
       "<style scoped>\n",
       "    .dataframe tbody tr th:only-of-type {\n",
       "        vertical-align: middle;\n",
       "    }\n",
       "\n",
       "    .dataframe tbody tr th {\n",
       "        vertical-align: top;\n",
       "    }\n",
       "\n",
       "    .dataframe thead th {\n",
       "        text-align: right;\n",
       "    }\n",
       "</style>\n",
       "<table border=\"1\" class=\"dataframe\">\n",
       "  <thead>\n",
       "    <tr style=\"text-align: right;\">\n",
       "      <th></th>\n",
       "      <th>Wind_Direction</th>\n",
       "    </tr>\n",
       "  </thead>\n",
       "  <tbody>\n",
       "    <tr>\n",
       "      <th>CALM</th>\n",
       "      <td>433622</td>\n",
       "    </tr>\n",
       "    <tr>\n",
       "      <th>S</th>\n",
       "      <td>169743</td>\n",
       "    </tr>\n",
       "    <tr>\n",
       "      <th>W</th>\n",
       "      <td>167830</td>\n",
       "    </tr>\n",
       "    <tr>\n",
       "      <th>WNW</th>\n",
       "      <td>145046</td>\n",
       "    </tr>\n",
       "    <tr>\n",
       "      <th>NW</th>\n",
       "      <td>141344</td>\n",
       "    </tr>\n",
       "  </tbody>\n",
       "</table>\n",
       "</div></td><td><div>\n",
       "<style scoped>\n",
       "    .dataframe tbody tr th:only-of-type {\n",
       "        vertical-align: middle;\n",
       "    }\n",
       "\n",
       "    .dataframe tbody tr th {\n",
       "        vertical-align: top;\n",
       "    }\n",
       "\n",
       "    .dataframe thead th {\n",
       "        text-align: right;\n",
       "    }\n",
       "</style>\n",
       "<table border=\"1\" class=\"dataframe\">\n",
       "  <thead>\n",
       "    <tr style=\"text-align: right;\">\n",
       "      <th></th>\n",
       "      <th>Wind_Speed(mph)</th>\n",
       "    </tr>\n",
       "  </thead>\n",
       "  <tbody>\n",
       "    <tr>\n",
       "      <th>0.0</th>\n",
       "      <td>433636</td>\n",
       "    </tr>\n",
       "    <tr>\n",
       "      <th>5.0</th>\n",
       "      <td>231000</td>\n",
       "    </tr>\n",
       "    <tr>\n",
       "      <th>3.0</th>\n",
       "      <td>225664</td>\n",
       "    </tr>\n",
       "    <tr>\n",
       "      <th>6.0</th>\n",
       "      <td>222502</td>\n",
       "    </tr>\n",
       "    <tr>\n",
       "      <th>7.0</th>\n",
       "      <td>205667</td>\n",
       "    </tr>\n",
       "  </tbody>\n",
       "</table>\n",
       "</div></td><td><div>\n",
       "<style scoped>\n",
       "    .dataframe tbody tr th:only-of-type {\n",
       "        vertical-align: middle;\n",
       "    }\n",
       "\n",
       "    .dataframe tbody tr th {\n",
       "        vertical-align: top;\n",
       "    }\n",
       "\n",
       "    .dataframe thead th {\n",
       "        text-align: right;\n",
       "    }\n",
       "</style>\n",
       "<table border=\"1\" class=\"dataframe\">\n",
       "  <thead>\n",
       "    <tr style=\"text-align: right;\">\n",
       "      <th></th>\n",
       "      <th>Precipitation(in)</th>\n",
       "    </tr>\n",
       "  </thead>\n",
       "  <tbody>\n",
       "    <tr>\n",
       "      <th>0.00</th>\n",
       "      <td>2104242</td>\n",
       "    </tr>\n",
       "    <tr>\n",
       "      <th>0.01</th>\n",
       "      <td>54160</td>\n",
       "    </tr>\n",
       "    <tr>\n",
       "      <th>0.02</th>\n",
       "      <td>26497</td>\n",
       "    </tr>\n",
       "    <tr>\n",
       "      <th>0.03</th>\n",
       "      <td>17786</td>\n",
       "    </tr>\n",
       "    <tr>\n",
       "      <th>0.04</th>\n",
       "      <td>13745</td>\n",
       "    </tr>\n",
       "  </tbody>\n",
       "</table>\n",
       "</div></td><td><div>\n",
       "<style scoped>\n",
       "    .dataframe tbody tr th:only-of-type {\n",
       "        vertical-align: middle;\n",
       "    }\n",
       "\n",
       "    .dataframe tbody tr th {\n",
       "        vertical-align: top;\n",
       "    }\n",
       "\n",
       "    .dataframe thead th {\n",
       "        text-align: right;\n",
       "    }\n",
       "</style>\n",
       "<table border=\"1\" class=\"dataframe\">\n",
       "  <thead>\n",
       "    <tr style=\"text-align: right;\">\n",
       "      <th></th>\n",
       "      <th>Weather_Condition</th>\n",
       "    </tr>\n",
       "  </thead>\n",
       "  <tbody>\n",
       "    <tr>\n",
       "      <th>Fair</th>\n",
       "      <td>1107194</td>\n",
       "    </tr>\n",
       "    <tr>\n",
       "      <th>Mostly Cloudy</th>\n",
       "      <td>363959</td>\n",
       "    </tr>\n",
       "    <tr>\n",
       "      <th>Cloudy</th>\n",
       "      <td>348767</td>\n",
       "    </tr>\n",
       "    <tr>\n",
       "      <th>Partly Cloudy</th>\n",
       "      <td>249939</td>\n",
       "    </tr>\n",
       "    <tr>\n",
       "      <th>Clear</th>\n",
       "      <td>173823</td>\n",
       "    </tr>\n",
       "  </tbody>\n",
       "</table>\n",
       "</div></td><td><div>\n",
       "<style scoped>\n",
       "    .dataframe tbody tr th:only-of-type {\n",
       "        vertical-align: middle;\n",
       "    }\n",
       "\n",
       "    .dataframe tbody tr th {\n",
       "        vertical-align: top;\n",
       "    }\n",
       "\n",
       "    .dataframe thead th {\n",
       "        text-align: right;\n",
       "    }\n",
       "</style>\n",
       "<table border=\"1\" class=\"dataframe\">\n",
       "  <thead>\n",
       "    <tr style=\"text-align: right;\">\n",
       "      <th></th>\n",
       "      <th>Amenity</th>\n",
       "    </tr>\n",
       "  </thead>\n",
       "  <tbody>\n",
       "    <tr>\n",
       "      <th>False</th>\n",
       "      <td>2817352</td>\n",
       "    </tr>\n",
       "    <tr>\n",
       "      <th>True</th>\n",
       "      <td>27990</td>\n",
       "    </tr>\n",
       "  </tbody>\n",
       "</table>\n",
       "</div></td><td><div>\n",
       "<style scoped>\n",
       "    .dataframe tbody tr th:only-of-type {\n",
       "        vertical-align: middle;\n",
       "    }\n",
       "\n",
       "    .dataframe tbody tr th {\n",
       "        vertical-align: top;\n",
       "    }\n",
       "\n",
       "    .dataframe thead th {\n",
       "        text-align: right;\n",
       "    }\n",
       "</style>\n",
       "<table border=\"1\" class=\"dataframe\">\n",
       "  <thead>\n",
       "    <tr style=\"text-align: right;\">\n",
       "      <th></th>\n",
       "      <th>Bump</th>\n",
       "    </tr>\n",
       "  </thead>\n",
       "  <tbody>\n",
       "    <tr>\n",
       "      <th>False</th>\n",
       "      <td>2844321</td>\n",
       "    </tr>\n",
       "    <tr>\n",
       "      <th>True</th>\n",
       "      <td>1021</td>\n",
       "    </tr>\n",
       "  </tbody>\n",
       "</table>\n",
       "</div></td><td><div>\n",
       "<style scoped>\n",
       "    .dataframe tbody tr th:only-of-type {\n",
       "        vertical-align: middle;\n",
       "    }\n",
       "\n",
       "    .dataframe tbody tr th {\n",
       "        vertical-align: top;\n",
       "    }\n",
       "\n",
       "    .dataframe thead th {\n",
       "        text-align: right;\n",
       "    }\n",
       "</style>\n",
       "<table border=\"1\" class=\"dataframe\">\n",
       "  <thead>\n",
       "    <tr style=\"text-align: right;\">\n",
       "      <th></th>\n",
       "      <th>Crossing</th>\n",
       "    </tr>\n",
       "  </thead>\n",
       "  <tbody>\n",
       "    <tr>\n",
       "      <th>False</th>\n",
       "      <td>2645130</td>\n",
       "    </tr>\n",
       "    <tr>\n",
       "      <th>True</th>\n",
       "      <td>200212</td>\n",
       "    </tr>\n",
       "  </tbody>\n",
       "</table>\n",
       "</div></td><td><div>\n",
       "<style scoped>\n",
       "    .dataframe tbody tr th:only-of-type {\n",
       "        vertical-align: middle;\n",
       "    }\n",
       "\n",
       "    .dataframe tbody tr th {\n",
       "        vertical-align: top;\n",
       "    }\n",
       "\n",
       "    .dataframe thead th {\n",
       "        text-align: right;\n",
       "    }\n",
       "</style>\n",
       "<table border=\"1\" class=\"dataframe\">\n",
       "  <thead>\n",
       "    <tr style=\"text-align: right;\">\n",
       "      <th></th>\n",
       "      <th>Give_Way</th>\n",
       "    </tr>\n",
       "  </thead>\n",
       "  <tbody>\n",
       "    <tr>\n",
       "      <th>False</th>\n",
       "      <td>2838474</td>\n",
       "    </tr>\n",
       "    <tr>\n",
       "      <th>True</th>\n",
       "      <td>6868</td>\n",
       "    </tr>\n",
       "  </tbody>\n",
       "</table>\n",
       "</div></td><td><div>\n",
       "<style scoped>\n",
       "    .dataframe tbody tr th:only-of-type {\n",
       "        vertical-align: middle;\n",
       "    }\n",
       "\n",
       "    .dataframe tbody tr th {\n",
       "        vertical-align: top;\n",
       "    }\n",
       "\n",
       "    .dataframe thead th {\n",
       "        text-align: right;\n",
       "    }\n",
       "</style>\n",
       "<table border=\"1\" class=\"dataframe\">\n",
       "  <thead>\n",
       "    <tr style=\"text-align: right;\">\n",
       "      <th></th>\n",
       "      <th>Junction</th>\n",
       "    </tr>\n",
       "  </thead>\n",
       "  <tbody>\n",
       "    <tr>\n",
       "      <th>False</th>\n",
       "      <td>2554837</td>\n",
       "    </tr>\n",
       "    <tr>\n",
       "      <th>True</th>\n",
       "      <td>290505</td>\n",
       "    </tr>\n",
       "  </tbody>\n",
       "</table>\n",
       "</div></td><td><div>\n",
       "<style scoped>\n",
       "    .dataframe tbody tr th:only-of-type {\n",
       "        vertical-align: middle;\n",
       "    }\n",
       "\n",
       "    .dataframe tbody tr th {\n",
       "        vertical-align: top;\n",
       "    }\n",
       "\n",
       "    .dataframe thead th {\n",
       "        text-align: right;\n",
       "    }\n",
       "</style>\n",
       "<table border=\"1\" class=\"dataframe\">\n",
       "  <thead>\n",
       "    <tr style=\"text-align: right;\">\n",
       "      <th></th>\n",
       "      <th>No_Exit</th>\n",
       "    </tr>\n",
       "  </thead>\n",
       "  <tbody>\n",
       "    <tr>\n",
       "      <th>False</th>\n",
       "      <td>2841048</td>\n",
       "    </tr>\n",
       "    <tr>\n",
       "      <th>True</th>\n",
       "      <td>4294</td>\n",
       "    </tr>\n",
       "  </tbody>\n",
       "</table>\n",
       "</div></td><td><div>\n",
       "<style scoped>\n",
       "    .dataframe tbody tr th:only-of-type {\n",
       "        vertical-align: middle;\n",
       "    }\n",
       "\n",
       "    .dataframe tbody tr th {\n",
       "        vertical-align: top;\n",
       "    }\n",
       "\n",
       "    .dataframe thead th {\n",
       "        text-align: right;\n",
       "    }\n",
       "</style>\n",
       "<table border=\"1\" class=\"dataframe\">\n",
       "  <thead>\n",
       "    <tr style=\"text-align: right;\">\n",
       "      <th></th>\n",
       "      <th>Railway</th>\n",
       "    </tr>\n",
       "  </thead>\n",
       "  <tbody>\n",
       "    <tr>\n",
       "      <th>False</th>\n",
       "      <td>2822711</td>\n",
       "    </tr>\n",
       "    <tr>\n",
       "      <th>True</th>\n",
       "      <td>22631</td>\n",
       "    </tr>\n",
       "  </tbody>\n",
       "</table>\n",
       "</div></td><td><div>\n",
       "<style scoped>\n",
       "    .dataframe tbody tr th:only-of-type {\n",
       "        vertical-align: middle;\n",
       "    }\n",
       "\n",
       "    .dataframe tbody tr th {\n",
       "        vertical-align: top;\n",
       "    }\n",
       "\n",
       "    .dataframe thead th {\n",
       "        text-align: right;\n",
       "    }\n",
       "</style>\n",
       "<table border=\"1\" class=\"dataframe\">\n",
       "  <thead>\n",
       "    <tr style=\"text-align: right;\">\n",
       "      <th></th>\n",
       "      <th>Roundabout</th>\n",
       "    </tr>\n",
       "  </thead>\n",
       "  <tbody>\n",
       "    <tr>\n",
       "      <th>False</th>\n",
       "      <td>2845219</td>\n",
       "    </tr>\n",
       "    <tr>\n",
       "      <th>True</th>\n",
       "      <td>123</td>\n",
       "    </tr>\n",
       "  </tbody>\n",
       "</table>\n",
       "</div></td><td><div>\n",
       "<style scoped>\n",
       "    .dataframe tbody tr th:only-of-type {\n",
       "        vertical-align: middle;\n",
       "    }\n",
       "\n",
       "    .dataframe tbody tr th {\n",
       "        vertical-align: top;\n",
       "    }\n",
       "\n",
       "    .dataframe thead th {\n",
       "        text-align: right;\n",
       "    }\n",
       "</style>\n",
       "<table border=\"1\" class=\"dataframe\">\n",
       "  <thead>\n",
       "    <tr style=\"text-align: right;\">\n",
       "      <th></th>\n",
       "      <th>Station</th>\n",
       "    </tr>\n",
       "  </thead>\n",
       "  <tbody>\n",
       "    <tr>\n",
       "      <th>False</th>\n",
       "      <td>2777347</td>\n",
       "    </tr>\n",
       "    <tr>\n",
       "      <th>True</th>\n",
       "      <td>67995</td>\n",
       "    </tr>\n",
       "  </tbody>\n",
       "</table>\n",
       "</div></td><td><div>\n",
       "<style scoped>\n",
       "    .dataframe tbody tr th:only-of-type {\n",
       "        vertical-align: middle;\n",
       "    }\n",
       "\n",
       "    .dataframe tbody tr th {\n",
       "        vertical-align: top;\n",
       "    }\n",
       "\n",
       "    .dataframe thead th {\n",
       "        text-align: right;\n",
       "    }\n",
       "</style>\n",
       "<table border=\"1\" class=\"dataframe\">\n",
       "  <thead>\n",
       "    <tr style=\"text-align: right;\">\n",
       "      <th></th>\n",
       "      <th>Stop</th>\n",
       "    </tr>\n",
       "  </thead>\n",
       "  <tbody>\n",
       "    <tr>\n",
       "      <th>False</th>\n",
       "      <td>2794942</td>\n",
       "    </tr>\n",
       "    <tr>\n",
       "      <th>True</th>\n",
       "      <td>50400</td>\n",
       "    </tr>\n",
       "  </tbody>\n",
       "</table>\n",
       "</div></td><td><div>\n",
       "<style scoped>\n",
       "    .dataframe tbody tr th:only-of-type {\n",
       "        vertical-align: middle;\n",
       "    }\n",
       "\n",
       "    .dataframe tbody tr th {\n",
       "        vertical-align: top;\n",
       "    }\n",
       "\n",
       "    .dataframe thead th {\n",
       "        text-align: right;\n",
       "    }\n",
       "</style>\n",
       "<table border=\"1\" class=\"dataframe\">\n",
       "  <thead>\n",
       "    <tr style=\"text-align: right;\">\n",
       "      <th></th>\n",
       "      <th>Traffic_Calming</th>\n",
       "    </tr>\n",
       "  </thead>\n",
       "  <tbody>\n",
       "    <tr>\n",
       "      <th>False</th>\n",
       "      <td>2843630</td>\n",
       "    </tr>\n",
       "    <tr>\n",
       "      <th>True</th>\n",
       "      <td>1712</td>\n",
       "    </tr>\n",
       "  </tbody>\n",
       "</table>\n",
       "</div></td><td><div>\n",
       "<style scoped>\n",
       "    .dataframe tbody tr th:only-of-type {\n",
       "        vertical-align: middle;\n",
       "    }\n",
       "\n",
       "    .dataframe tbody tr th {\n",
       "        vertical-align: top;\n",
       "    }\n",
       "\n",
       "    .dataframe thead th {\n",
       "        text-align: right;\n",
       "    }\n",
       "</style>\n",
       "<table border=\"1\" class=\"dataframe\">\n",
       "  <thead>\n",
       "    <tr style=\"text-align: right;\">\n",
       "      <th></th>\n",
       "      <th>Traffic_Signal</th>\n",
       "    </tr>\n",
       "  </thead>\n",
       "  <tbody>\n",
       "    <tr>\n",
       "      <th>False</th>\n",
       "      <td>2580079</td>\n",
       "    </tr>\n",
       "    <tr>\n",
       "      <th>True</th>\n",
       "      <td>265263</td>\n",
       "    </tr>\n",
       "  </tbody>\n",
       "</table>\n",
       "</div></td><td><div>\n",
       "<style scoped>\n",
       "    .dataframe tbody tr th:only-of-type {\n",
       "        vertical-align: middle;\n",
       "    }\n",
       "\n",
       "    .dataframe tbody tr th {\n",
       "        vertical-align: top;\n",
       "    }\n",
       "\n",
       "    .dataframe thead th {\n",
       "        text-align: right;\n",
       "    }\n",
       "</style>\n",
       "<table border=\"1\" class=\"dataframe\">\n",
       "  <thead>\n",
       "    <tr style=\"text-align: right;\">\n",
       "      <th></th>\n",
       "      <th>Turning_Loop</th>\n",
       "    </tr>\n",
       "  </thead>\n",
       "  <tbody>\n",
       "    <tr>\n",
       "      <th>False</th>\n",
       "      <td>2845342</td>\n",
       "    </tr>\n",
       "  </tbody>\n",
       "</table>\n",
       "</div></td><td><div>\n",
       "<style scoped>\n",
       "    .dataframe tbody tr th:only-of-type {\n",
       "        vertical-align: middle;\n",
       "    }\n",
       "\n",
       "    .dataframe tbody tr th {\n",
       "        vertical-align: top;\n",
       "    }\n",
       "\n",
       "    .dataframe thead th {\n",
       "        text-align: right;\n",
       "    }\n",
       "</style>\n",
       "<table border=\"1\" class=\"dataframe\">\n",
       "  <thead>\n",
       "    <tr style=\"text-align: right;\">\n",
       "      <th></th>\n",
       "      <th>Sunrise_Sunset</th>\n",
       "    </tr>\n",
       "  </thead>\n",
       "  <tbody>\n",
       "    <tr>\n",
       "      <th>Day</th>\n",
       "      <td>1811935</td>\n",
       "    </tr>\n",
       "    <tr>\n",
       "      <th>Night</th>\n",
       "      <td>1030540</td>\n",
       "    </tr>\n",
       "  </tbody>\n",
       "</table>\n",
       "</div></td><td><div>\n",
       "<style scoped>\n",
       "    .dataframe tbody tr th:only-of-type {\n",
       "        vertical-align: middle;\n",
       "    }\n",
       "\n",
       "    .dataframe tbody tr th {\n",
       "        vertical-align: top;\n",
       "    }\n",
       "\n",
       "    .dataframe thead th {\n",
       "        text-align: right;\n",
       "    }\n",
       "</style>\n",
       "<table border=\"1\" class=\"dataframe\">\n",
       "  <thead>\n",
       "    <tr style=\"text-align: right;\">\n",
       "      <th></th>\n",
       "      <th>Civil_Twilight</th>\n",
       "    </tr>\n",
       "  </thead>\n",
       "  <tbody>\n",
       "    <tr>\n",
       "      <th>Day</th>\n",
       "      <td>1929103</td>\n",
       "    </tr>\n",
       "    <tr>\n",
       "      <th>Night</th>\n",
       "      <td>913372</td>\n",
       "    </tr>\n",
       "  </tbody>\n",
       "</table>\n",
       "</div></td><td><div>\n",
       "<style scoped>\n",
       "    .dataframe tbody tr th:only-of-type {\n",
       "        vertical-align: middle;\n",
       "    }\n",
       "\n",
       "    .dataframe tbody tr th {\n",
       "        vertical-align: top;\n",
       "    }\n",
       "\n",
       "    .dataframe thead th {\n",
       "        text-align: right;\n",
       "    }\n",
       "</style>\n",
       "<table border=\"1\" class=\"dataframe\">\n",
       "  <thead>\n",
       "    <tr style=\"text-align: right;\">\n",
       "      <th></th>\n",
       "      <th>Nautical_Twilight</th>\n",
       "    </tr>\n",
       "  </thead>\n",
       "  <tbody>\n",
       "    <tr>\n",
       "      <th>Day</th>\n",
       "      <td>2063472</td>\n",
       "    </tr>\n",
       "    <tr>\n",
       "      <th>Night</th>\n",
       "      <td>779003</td>\n",
       "    </tr>\n",
       "  </tbody>\n",
       "</table>\n",
       "</div></td><td><div>\n",
       "<style scoped>\n",
       "    .dataframe tbody tr th:only-of-type {\n",
       "        vertical-align: middle;\n",
       "    }\n",
       "\n",
       "    .dataframe tbody tr th {\n",
       "        vertical-align: top;\n",
       "    }\n",
       "\n",
       "    .dataframe thead th {\n",
       "        text-align: right;\n",
       "    }\n",
       "</style>\n",
       "<table border=\"1\" class=\"dataframe\">\n",
       "  <thead>\n",
       "    <tr style=\"text-align: right;\">\n",
       "      <th></th>\n",
       "      <th>Astronomical_Twilight</th>\n",
       "    </tr>\n",
       "  </thead>\n",
       "  <tbody>\n",
       "    <tr>\n",
       "      <th>Day</th>\n",
       "      <td>2176983</td>\n",
       "    </tr>\n",
       "    <tr>\n",
       "      <th>Night</th>\n",
       "      <td>665492</td>\n",
       "    </tr>\n",
       "  </tbody>\n",
       "</table>\n",
       "</div></td><td><div>\n",
       "<style scoped>\n",
       "    .dataframe tbody tr th:only-of-type {\n",
       "        vertical-align: middle;\n",
       "    }\n",
       "\n",
       "    .dataframe tbody tr th {\n",
       "        vertical-align: top;\n",
       "    }\n",
       "\n",
       "    .dataframe thead th {\n",
       "        text-align: right;\n",
       "    }\n",
       "</style>\n",
       "<table border=\"1\" class=\"dataframe\">\n",
       "  <thead>\n",
       "    <tr style=\"text-align: right;\">\n",
       "      <th></th>\n",
       "      <th>Year</th>\n",
       "    </tr>\n",
       "  </thead>\n",
       "  <tbody>\n",
       "    <tr>\n",
       "      <th>2021</th>\n",
       "      <td>1511745</td>\n",
       "    </tr>\n",
       "    <tr>\n",
       "      <th>2020</th>\n",
       "      <td>625864</td>\n",
       "    </tr>\n",
       "    <tr>\n",
       "      <th>2019</th>\n",
       "      <td>258615</td>\n",
       "    </tr>\n",
       "    <tr>\n",
       "      <th>2017</th>\n",
       "      <td>163918</td>\n",
       "    </tr>\n",
       "    <tr>\n",
       "      <th>2018</th>\n",
       "      <td>163176</td>\n",
       "    </tr>\n",
       "  </tbody>\n",
       "</table>\n",
       "</div></td><td><div>\n",
       "<style scoped>\n",
       "    .dataframe tbody tr th:only-of-type {\n",
       "        vertical-align: middle;\n",
       "    }\n",
       "\n",
       "    .dataframe tbody tr th {\n",
       "        vertical-align: top;\n",
       "    }\n",
       "\n",
       "    .dataframe thead th {\n",
       "        text-align: right;\n",
       "    }\n",
       "</style>\n",
       "<table border=\"1\" class=\"dataframe\">\n",
       "  <thead>\n",
       "    <tr style=\"text-align: right;\">\n",
       "      <th></th>\n",
       "      <th>Month</th>\n",
       "    </tr>\n",
       "  </thead>\n",
       "  <tbody>\n",
       "    <tr>\n",
       "      <th>12</th>\n",
       "      <td>473943</td>\n",
       "    </tr>\n",
       "    <tr>\n",
       "      <th>11</th>\n",
       "      <td>360696</td>\n",
       "    </tr>\n",
       "    <tr>\n",
       "      <th>10</th>\n",
       "      <td>299131</td>\n",
       "    </tr>\n",
       "    <tr>\n",
       "      <th>9</th>\n",
       "      <td>241822</td>\n",
       "    </tr>\n",
       "    <tr>\n",
       "      <th>6</th>\n",
       "      <td>226561</td>\n",
       "    </tr>\n",
       "  </tbody>\n",
       "</table>\n",
       "</div></td><td><div>\n",
       "<style scoped>\n",
       "    .dataframe tbody tr th:only-of-type {\n",
       "        vertical-align: middle;\n",
       "    }\n",
       "\n",
       "    .dataframe tbody tr th {\n",
       "        vertical-align: top;\n",
       "    }\n",
       "\n",
       "    .dataframe thead th {\n",
       "        text-align: right;\n",
       "    }\n",
       "</style>\n",
       "<table border=\"1\" class=\"dataframe\">\n",
       "  <thead>\n",
       "    <tr style=\"text-align: right;\">\n",
       "      <th></th>\n",
       "      <th>MonthName</th>\n",
       "    </tr>\n",
       "  </thead>\n",
       "  <tbody>\n",
       "    <tr>\n",
       "      <th>Dec</th>\n",
       "      <td>473943</td>\n",
       "    </tr>\n",
       "    <tr>\n",
       "      <th>Nov</th>\n",
       "      <td>360696</td>\n",
       "    </tr>\n",
       "    <tr>\n",
       "      <th>Oct</th>\n",
       "      <td>299131</td>\n",
       "    </tr>\n",
       "    <tr>\n",
       "      <th>Sep</th>\n",
       "      <td>241822</td>\n",
       "    </tr>\n",
       "    <tr>\n",
       "      <th>Jun</th>\n",
       "      <td>226561</td>\n",
       "    </tr>\n",
       "  </tbody>\n",
       "</table>\n",
       "</div></td><td><div>\n",
       "<style scoped>\n",
       "    .dataframe tbody tr th:only-of-type {\n",
       "        vertical-align: middle;\n",
       "    }\n",
       "\n",
       "    .dataframe tbody tr th {\n",
       "        vertical-align: top;\n",
       "    }\n",
       "\n",
       "    .dataframe thead th {\n",
       "        text-align: right;\n",
       "    }\n",
       "</style>\n",
       "<table border=\"1\" class=\"dataframe\">\n",
       "  <thead>\n",
       "    <tr style=\"text-align: right;\">\n",
       "      <th></th>\n",
       "      <th>Year_Month</th>\n",
       "    </tr>\n",
       "  </thead>\n",
       "  <tbody>\n",
       "    <tr>\n",
       "      <th>2021-12</th>\n",
       "      <td>265747</td>\n",
       "    </tr>\n",
       "    <tr>\n",
       "      <th>2021-11</th>\n",
       "      <td>185363</td>\n",
       "    </tr>\n",
       "    <tr>\n",
       "      <th>2021-10</th>\n",
       "      <td>144466</td>\n",
       "    </tr>\n",
       "    <tr>\n",
       "      <th>2021-09</th>\n",
       "      <td>132475</td>\n",
       "    </tr>\n",
       "    <tr>\n",
       "      <th>2021-08</th>\n",
       "      <td>117710</td>\n",
       "    </tr>\n",
       "  </tbody>\n",
       "</table>\n",
       "</div></td><td><div>\n",
       "<style scoped>\n",
       "    .dataframe tbody tr th:only-of-type {\n",
       "        vertical-align: middle;\n",
       "    }\n",
       "\n",
       "    .dataframe tbody tr th {\n",
       "        vertical-align: top;\n",
       "    }\n",
       "\n",
       "    .dataframe thead th {\n",
       "        text-align: right;\n",
       "    }\n",
       "</style>\n",
       "<table border=\"1\" class=\"dataframe\">\n",
       "  <thead>\n",
       "    <tr style=\"text-align: right;\">\n",
       "      <th></th>\n",
       "      <th>Weekday</th>\n",
       "    </tr>\n",
       "  </thead>\n",
       "  <tbody>\n",
       "    <tr>\n",
       "      <th>23</th>\n",
       "      <td>106831</td>\n",
       "    </tr>\n",
       "    <tr>\n",
       "      <th>22</th>\n",
       "      <td>103229</td>\n",
       "    </tr>\n",
       "    <tr>\n",
       "      <th>18</th>\n",
       "      <td>98804</td>\n",
       "    </tr>\n",
       "    <tr>\n",
       "      <th>30</th>\n",
       "      <td>98654</td>\n",
       "    </tr>\n",
       "    <tr>\n",
       "      <th>19</th>\n",
       "      <td>98386</td>\n",
       "    </tr>\n",
       "  </tbody>\n",
       "</table>\n",
       "</div></td><td><div>\n",
       "<style scoped>\n",
       "    .dataframe tbody tr th:only-of-type {\n",
       "        vertical-align: middle;\n",
       "    }\n",
       "\n",
       "    .dataframe tbody tr th {\n",
       "        vertical-align: top;\n",
       "    }\n",
       "\n",
       "    .dataframe thead th {\n",
       "        text-align: right;\n",
       "    }\n",
       "</style>\n",
       "<table border=\"1\" class=\"dataframe\">\n",
       "  <thead>\n",
       "    <tr style=\"text-align: right;\">\n",
       "      <th></th>\n",
       "      <th>WeekdayName</th>\n",
       "    </tr>\n",
       "  </thead>\n",
       "  <tbody>\n",
       "    <tr>\n",
       "      <th>Fri</th>\n",
       "      <td>492074</td>\n",
       "    </tr>\n",
       "    <tr>\n",
       "      <th>Thu</th>\n",
       "      <td>463477</td>\n",
       "    </tr>\n",
       "    <tr>\n",
       "      <th>Wed</th>\n",
       "      <td>455037</td>\n",
       "    </tr>\n",
       "    <tr>\n",
       "      <th>Tue</th>\n",
       "      <td>443968</td>\n",
       "    </tr>\n",
       "    <tr>\n",
       "      <th>Mon</th>\n",
       "      <td>419821</td>\n",
       "    </tr>\n",
       "  </tbody>\n",
       "</table>\n",
       "</div></td><td><div>\n",
       "<style scoped>\n",
       "    .dataframe tbody tr th:only-of-type {\n",
       "        vertical-align: middle;\n",
       "    }\n",
       "\n",
       "    .dataframe tbody tr th {\n",
       "        vertical-align: top;\n",
       "    }\n",
       "\n",
       "    .dataframe thead th {\n",
       "        text-align: right;\n",
       "    }\n",
       "</style>\n",
       "<table border=\"1\" class=\"dataframe\">\n",
       "  <thead>\n",
       "    <tr style=\"text-align: right;\">\n",
       "      <th></th>\n",
       "      <th>Hour</th>\n",
       "    </tr>\n",
       "  </thead>\n",
       "  <tbody>\n",
       "    <tr>\n",
       "      <th>17</th>\n",
       "      <td>220358</td>\n",
       "    </tr>\n",
       "    <tr>\n",
       "      <th>16</th>\n",
       "      <td>218385</td>\n",
       "    </tr>\n",
       "    <tr>\n",
       "      <th>15</th>\n",
       "      <td>214264</td>\n",
       "    </tr>\n",
       "    <tr>\n",
       "      <th>14</th>\n",
       "      <td>191480</td>\n",
       "    </tr>\n",
       "    <tr>\n",
       "      <th>18</th>\n",
       "      <td>168982</td>\n",
       "    </tr>\n",
       "  </tbody>\n",
       "</table>\n",
       "</div></td> </tr></table>"
      ],
      "text/plain": [
       "<IPython.core.display.HTML object>"
      ]
     },
     "execution_count": 130,
     "metadata": {},
     "output_type": "execute_result"
    }
   ],
   "source": [
    "from IPython.core.display import HTML\n",
    "def multi_table(table_list):\n",
    "    return HTML(\n",
    "        f\"<table><tr> {''.join(['<td>' + table._repr_html_() + '</td>' for table in table_list])} </tr></table>\")\n",
    "multi_table([pd.DataFrame(df_accidents[col].value_counts().head(5)) for col in df_accidents.columns])"
   ]
  },
  {
   "cell_type": "markdown",
   "id": "2b078787",
   "metadata": {},
   "source": [
    "Let's create separate dataframes for every year, so we could operate specific year without appealing to the whole dataframe"
   ]
  },
  {
   "cell_type": "code",
   "execution_count": 131,
   "id": "6c80be06",
   "metadata": {},
   "outputs": [],
   "source": [
    "accidents_2016 = df_accidents[df_accidents.Start_Time.dt.year == 2016]\n",
    "accidents_2017 = df_accidents[df_accidents.Start_Time.dt.year == 2017]\n",
    "accidents_2018 = df_accidents[df_accidents.Start_Time.dt.year == 2018]\n",
    "accidents_2019 = df_accidents[df_accidents.Start_Time.dt.year == 2019]\n",
    "accidents_2020 = df_accidents[df_accidents.Start_Time.dt.year == 2020]\n",
    "accidents_2021 = df_accidents[df_accidents.Start_Time.dt.year == 2021]"
   ]
  },
  {
   "cell_type": "markdown",
   "id": "dfa7d2c1",
   "metadata": {
    "scrolled": false
   },
   "source": [
    "# Geographical Analysis"
   ]
  },
  {
   "cell_type": "markdown",
   "id": "a26085a8",
   "metadata": {},
   "source": [
    "### Cities"
   ]
  },
  {
   "cell_type": "markdown",
   "id": "1667349a",
   "metadata": {},
   "source": [
    "Create table of cities and number of accidents occured"
   ]
  },
  {
   "cell_type": "code",
   "execution_count": 132,
   "id": "d48ce4d5",
   "metadata": {
    "scrolled": true
   },
   "outputs": [
    {
     "data": {
      "text/html": [
       "<div>\n",
       "<style scoped>\n",
       "    .dataframe tbody tr th:only-of-type {\n",
       "        vertical-align: middle;\n",
       "    }\n",
       "\n",
       "    .dataframe tbody tr th {\n",
       "        vertical-align: top;\n",
       "    }\n",
       "\n",
       "    .dataframe thead th {\n",
       "        text-align: right;\n",
       "    }\n",
       "</style>\n",
       "<table border=\"1\" class=\"dataframe\">\n",
       "  <thead>\n",
       "    <tr style=\"text-align: right;\">\n",
       "      <th></th>\n",
       "      <th>City</th>\n",
       "      <th>State</th>\n",
       "      <th>Accidents_count</th>\n",
       "    </tr>\n",
       "  </thead>\n",
       "  <tbody>\n",
       "    <tr>\n",
       "      <th>0</th>\n",
       "      <td>Miami</td>\n",
       "      <td>FL</td>\n",
       "      <td>106896</td>\n",
       "    </tr>\n",
       "    <tr>\n",
       "      <th>1</th>\n",
       "      <td>Los Angeles</td>\n",
       "      <td>CA</td>\n",
       "      <td>68956</td>\n",
       "    </tr>\n",
       "    <tr>\n",
       "      <th>2</th>\n",
       "      <td>Orlando</td>\n",
       "      <td>FL</td>\n",
       "      <td>54654</td>\n",
       "    </tr>\n",
       "  </tbody>\n",
       "</table>\n",
       "</div>"
      ],
      "text/plain": [
       "          City State  Accidents_count\n",
       "0        Miami    FL           106896\n",
       "1  Los Angeles    CA            68956\n",
       "2      Orlando    FL            54654"
      ]
     },
     "execution_count": 132,
     "metadata": {},
     "output_type": "execute_result"
    }
   ],
   "source": [
    "df_cities = df_accidents[['City', 'State']].value_counts().to_frame().reset_index().set_axis(['City', 'State','Accidents_count'], axis=1)\n",
    "\n",
    "df_cities.head(3)"
   ]
  },
  {
   "cell_type": "markdown",
   "id": "b22dd145",
   "metadata": {},
   "source": [
    "Get 15 cities with the highest number of accidents in 2016-2021 and create a barchart"
   ]
  },
  {
   "cell_type": "code",
   "execution_count": 133,
   "id": "398f00fb",
   "metadata": {
    "scrolled": false
   },
   "outputs": [
    {
     "data": {
      "image/png": "[encoded data removed]",
      "text/plain": [
       "<Figure size 1120x560 with 1 Axes>"
      ]
     },
     "metadata": {},
     "output_type": "display_data"
    }
   ],
   "source": [
    "top_15_cities = df_cities.head(15)\n",
    "\n",
    "fig, ax = plt.subplots(figsize = (14,7), dpi = 80)\n",
    "ax.set(ylabel=None)\n",
    "\n",
    "ax=sns.barplot(y='City', x='Accidents_count', data = top_15_cities, palette='gist_earth').set(title='Accidents Count by Cities, 2016-2021')"
   ]
  },
  {
   "cell_type": "markdown",
   "id": "418ba7f8",
   "metadata": {},
   "source": [
    "Now we want to understand the ratio of accidents per capita\n",
    "\n",
    "We will get population information from wikipedia"
   ]
  },
  {
   "cell_type": "code",
   "execution_count": 134,
   "id": "210eec9a",
   "metadata": {},
   "outputs": [
    {
     "data": {
      "text/html": [
       "<div>\n",
       "<style scoped>\n",
       "    .dataframe tbody tr th:only-of-type {\n",
       "        vertical-align: middle;\n",
       "    }\n",
       "\n",
       "    .dataframe tbody tr th {\n",
       "        vertical-align: top;\n",
       "    }\n",
       "\n",
       "    .dataframe thead th {\n",
       "        text-align: right;\n",
       "    }\n",
       "</style>\n",
       "<table border=\"1\" class=\"dataframe\">\n",
       "  <thead>\n",
       "    <tr style=\"text-align: right;\">\n",
       "      <th></th>\n",
       "      <th>2021rank</th>\n",
       "      <th>City</th>\n",
       "      <th>State</th>\n",
       "      <th>2021estimate</th>\n",
       "      <th>2020census</th>\n",
       "      <th>Change</th>\n",
       "      <th>2020 land area</th>\n",
       "      <th>2020 land area.1</th>\n",
       "      <th>2020 population density</th>\n",
       "      <th>2020 population density.1</th>\n",
       "      <th>Location</th>\n",
       "    </tr>\n",
       "  </thead>\n",
       "  <tbody>\n",
       "    <tr>\n",
       "      <th>0</th>\n",
       "      <td>1</td>\n",
       "      <td>New York[d]</td>\n",
       "      <td>New York</td>\n",
       "      <td>8467513</td>\n",
       "      <td>8804190</td>\n",
       "      <td>−3.82%</td>\n",
       "      <td>300.5 sq mi</td>\n",
       "      <td>778.3 km2</td>\n",
       "      <td>29,298/sq mi</td>\n",
       "      <td>11,312/km2</td>\n",
       "      <td>.mw-parser-output .geo-default,.mw-parser-outp...</td>\n",
       "    </tr>\n",
       "    <tr>\n",
       "      <th>1</th>\n",
       "      <td>2</td>\n",
       "      <td>Los Angeles</td>\n",
       "      <td>California</td>\n",
       "      <td>3849297</td>\n",
       "      <td>3898747</td>\n",
       "      <td>−1.27%</td>\n",
       "      <td>469.5 sq mi</td>\n",
       "      <td>1,216.0 km2</td>\n",
       "      <td>8,304/sq mi</td>\n",
       "      <td>3,206/km2</td>\n",
       "      <td>34°01′N 118°25′W﻿ / ﻿34.01°N 118.41°W</td>\n",
       "    </tr>\n",
       "    <tr>\n",
       "      <th>2</th>\n",
       "      <td>3</td>\n",
       "      <td>Chicago</td>\n",
       "      <td>Illinois</td>\n",
       "      <td>2696555</td>\n",
       "      <td>2746388</td>\n",
       "      <td>−1.81%</td>\n",
       "      <td>227.7 sq mi</td>\n",
       "      <td>589.7 km2</td>\n",
       "      <td>12,061/sq mi</td>\n",
       "      <td>4,657/km2</td>\n",
       "      <td>41°50′N 87°41′W﻿ / ﻿41.83°N 87.68°W</td>\n",
       "    </tr>\n",
       "  </tbody>\n",
       "</table>\n",
       "</div>"
      ],
      "text/plain": [
       "   2021rank         City       State  2021estimate  2020census  Change  \\\n",
       "0         1  New York[d]    New York       8467513     8804190  −3.82%   \n",
       "1         2  Los Angeles  California       3849297     3898747  −1.27%   \n",
       "2         3      Chicago    Illinois       2696555     2746388  −1.81%   \n",
       "\n",
       "  2020 land area 2020 land area.1 2020 population density  \\\n",
       "0    300.5 sq mi        778.3 km2            29,298/sq mi   \n",
       "1    469.5 sq mi      1,216.0 km2             8,304/sq mi   \n",
       "2    227.7 sq mi        589.7 km2            12,061/sq mi   \n",
       "\n",
       "  2020 population density.1                                           Location  \n",
       "0                11,312/km2  .mw-parser-output .geo-default,.mw-parser-outp...  \n",
       "1                 3,206/km2              34°01′N 118°25′W﻿ / ﻿34.01°N 118.41°W  \n",
       "2                 4,657/km2                41°50′N 87°41′W﻿ / ﻿41.83°N 87.68°W  "
      ]
     },
     "execution_count": 134,
     "metadata": {},
     "output_type": "execute_result"
    }
   ],
   "source": [
    "wiki_city_population = pd.read_html(\"https://en.wikipedia.org/wiki/List_of_United_States_cities_by_population\")\n",
    "df_city_population = wiki_city_population[4]\n",
    "df_city_population = df_city_population.rename(columns={'State[c]': 'State'})\n",
    "df_city_population.head(3)"
   ]
  },
  {
   "cell_type": "markdown",
   "id": "3ef0a28b",
   "metadata": {},
   "source": [
    "Since the population data from wikipedia is for 2020-2021 years, we want to merge it with accidents data by cities for 2021"
   ]
  },
  {
   "cell_type": "code",
   "execution_count": 135,
   "id": "e254e7c9",
   "metadata": {
    "scrolled": true
   },
   "outputs": [
    {
     "data": {
      "text/html": [
       "<div>\n",
       "<style scoped>\n",
       "    .dataframe tbody tr th:only-of-type {\n",
       "        vertical-align: middle;\n",
       "    }\n",
       "\n",
       "    .dataframe tbody tr th {\n",
       "        vertical-align: top;\n",
       "    }\n",
       "\n",
       "    .dataframe thead th {\n",
       "        text-align: right;\n",
       "    }\n",
       "</style>\n",
       "<table border=\"1\" class=\"dataframe\">\n",
       "  <thead>\n",
       "    <tr style=\"text-align: right;\">\n",
       "      <th></th>\n",
       "      <th>City</th>\n",
       "      <th>State_x</th>\n",
       "      <th>Accidents_count</th>\n",
       "      <th>2021rank</th>\n",
       "      <th>State_y</th>\n",
       "      <th>2021estimate</th>\n",
       "      <th>2020census</th>\n",
       "      <th>Change</th>\n",
       "      <th>2020 land area</th>\n",
       "      <th>2020 land area.1</th>\n",
       "      <th>2020 population density</th>\n",
       "      <th>2020 population density.1</th>\n",
       "      <th>Location</th>\n",
       "      <th>Accidents per 1,000 population</th>\n",
       "    </tr>\n",
       "  </thead>\n",
       "  <tbody>\n",
       "    <tr>\n",
       "      <th>0</th>\n",
       "      <td>Miami</td>\n",
       "      <td>FL</td>\n",
       "      <td>78875</td>\n",
       "      <td>44</td>\n",
       "      <td>Florida</td>\n",
       "      <td>439890</td>\n",
       "      <td>442241</td>\n",
       "      <td>−0.53%</td>\n",
       "      <td>36.0 sq mi</td>\n",
       "      <td>93.2 km2</td>\n",
       "      <td>12,284/sq mi</td>\n",
       "      <td>4,743/km2</td>\n",
       "      <td>25°46′N 80°12′W﻿ / ﻿25.77°N 80.20°W</td>\n",
       "      <td>178.352979</td>\n",
       "    </tr>\n",
       "    <tr>\n",
       "      <th>3</th>\n",
       "      <td>Orlando</td>\n",
       "      <td>FL</td>\n",
       "      <td>41608</td>\n",
       "      <td>63</td>\n",
       "      <td>Florida</td>\n",
       "      <td>309154</td>\n",
       "      <td>307573</td>\n",
       "      <td>+0.51%</td>\n",
       "      <td>110.6 sq mi</td>\n",
       "      <td>286.5 km2</td>\n",
       "      <td>2,781/sq mi</td>\n",
       "      <td>1,074/km2</td>\n",
       "      <td>28°25′N 81°16′W﻿ / ﻿28.41°N 81.27°W</td>\n",
       "      <td>135.278454</td>\n",
       "    </tr>\n",
       "    <tr>\n",
       "      <th>46</th>\n",
       "      <td>Richmond</td>\n",
       "      <td>VA</td>\n",
       "      <td>6381</td>\n",
       "      <td>252</td>\n",
       "      <td>California</td>\n",
       "      <td>115639</td>\n",
       "      <td>116448</td>\n",
       "      <td>−0.69%</td>\n",
       "      <td>30.1 sq mi</td>\n",
       "      <td>78.0 km2</td>\n",
       "      <td>3,869/sq mi</td>\n",
       "      <td>1,494/km2</td>\n",
       "      <td>37°57′N 122°22′W﻿ / ﻿37.95°N 122.36°W</td>\n",
       "      <td>54.796991</td>\n",
       "    </tr>\n",
       "  </tbody>\n",
       "</table>\n",
       "</div>"
      ],
      "text/plain": [
       "        City State_x  Accidents_count  2021rank     State_y  2021estimate  \\\n",
       "0      Miami      FL            78875        44     Florida        439890   \n",
       "3    Orlando      FL            41608        63     Florida        309154   \n",
       "46  Richmond      VA             6381       252  California        115639   \n",
       "\n",
       "    2020census  Change 2020 land area 2020 land area.1  \\\n",
       "0       442241  −0.53%     36.0 sq mi         93.2 km2   \n",
       "3       307573  +0.51%    110.6 sq mi        286.5 km2   \n",
       "46      116448  −0.69%     30.1 sq mi         78.0 km2   \n",
       "\n",
       "   2020 population density 2020 population density.1  \\\n",
       "0             12,284/sq mi                 4,743/km2   \n",
       "3              2,781/sq mi                 1,074/km2   \n",
       "46             3,869/sq mi                 1,494/km2   \n",
       "\n",
       "                                 Location  Accidents per 1,000 population  \n",
       "0     25°46′N 80°12′W﻿ / ﻿25.77°N 80.20°W                      178.352979  \n",
       "3     28°25′N 81°16′W﻿ / ﻿28.41°N 81.27°W                      135.278454  \n",
       "46  37°57′N 122°22′W﻿ / ﻿37.95°N 122.36°W                       54.796991  "
      ]
     },
     "execution_count": 135,
     "metadata": {},
     "output_type": "execute_result"
    }
   ],
   "source": [
    "df_cities_2021 = accidents_2021[['City', 'State']].value_counts().to_frame().reset_index().set_axis(['City', 'State', 'Accidents_count'], axis=1)\n",
    "\n",
    "accidents_vs_city_population = pd.merge(df_cities_2021,df_city_population,how='inner',on='City')\n",
    "accidents_vs_city_population['Accidents per 1,000 population'] = accidents_vs_city_population['Accidents_count'] / accidents_vs_city_population['2020census'] * 1000\n",
    "accidents_vs_city_population = accidents_vs_city_population.sort_values(['Accidents per 1,000 population'],ascending=[False])\n",
    "accidents_vs_city_population.head(3)"
   ]
  },
  {
   "cell_type": "markdown",
   "id": "1622479c",
   "metadata": {},
   "source": [
    "A barchart depicts 15 cities with the highest number of accidents per 1,000 population"
   ]
  },
  {
   "cell_type": "code",
   "execution_count": 136,
   "id": "ea997d15",
   "metadata": {},
   "outputs": [
    {
     "data": {
      "image/png": "[encoded data removed]",
      "text/plain": [
       "<Figure size 1120x560 with 1 Axes>"
      ]
     },
     "metadata": {},
     "output_type": "display_data"
    }
   ],
   "source": [
    "top_15_cities_by_accidents_per_1000_population = accidents_vs_city_population.head(15)\n",
    "\n",
    "fig, ax = plt.subplots(figsize = (14,7), dpi = 80)\n",
    "\n",
    "ax=sns.barplot(y='City', x='Accidents per 1,000 population', data = top_15_cities_by_accidents_per_1000_population, palette='gist_earth').set(title='Accidents per 1,000 Population by Cities, 2021')"
   ]
  },
  {
   "cell_type": "markdown",
   "id": "15bb678b",
   "metadata": {},
   "source": [
    "What's that weird black lines in the Columbia bar?\n",
    "\n",
    "To understand that let's look for the same data in table view"
   ]
  },
  {
   "cell_type": "code",
   "execution_count": 137,
   "id": "6e53e26f",
   "metadata": {
    "scrolled": true
   },
   "outputs": [
    {
     "data": {
      "text/html": [
       "<div>\n",
       "<style scoped>\n",
       "    .dataframe tbody tr th:only-of-type {\n",
       "        vertical-align: middle;\n",
       "    }\n",
       "\n",
       "    .dataframe tbody tr th {\n",
       "        vertical-align: top;\n",
       "    }\n",
       "\n",
       "    .dataframe thead th {\n",
       "        text-align: right;\n",
       "    }\n",
       "</style>\n",
       "<table border=\"1\" class=\"dataframe\">\n",
       "  <thead>\n",
       "    <tr style=\"text-align: right;\">\n",
       "      <th></th>\n",
       "      <th>City</th>\n",
       "      <th>State_x</th>\n",
       "      <th>Accidents_count</th>\n",
       "      <th>2021rank</th>\n",
       "      <th>State_y</th>\n",
       "      <th>2021estimate</th>\n",
       "      <th>2020census</th>\n",
       "      <th>Change</th>\n",
       "      <th>2020 land area</th>\n",
       "      <th>2020 land area.1</th>\n",
       "      <th>2020 population density</th>\n",
       "      <th>2020 population density.1</th>\n",
       "      <th>Location</th>\n",
       "      <th>Accidents per 1,000 population</th>\n",
       "    </tr>\n",
       "  </thead>\n",
       "  <tbody>\n",
       "    <tr>\n",
       "      <th>0</th>\n",
       "      <td>Miami</td>\n",
       "      <td>FL</td>\n",
       "      <td>78875</td>\n",
       "      <td>44</td>\n",
       "      <td>Florida</td>\n",
       "      <td>439890</td>\n",
       "      <td>442241</td>\n",
       "      <td>−0.53%</td>\n",
       "      <td>36.0 sq mi</td>\n",
       "      <td>93.2 km2</td>\n",
       "      <td>12,284/sq mi</td>\n",
       "      <td>4,743/km2</td>\n",
       "      <td>25°46′N 80°12′W﻿ / ﻿25.77°N 80.20°W</td>\n",
       "      <td>178.352979</td>\n",
       "    </tr>\n",
       "    <tr>\n",
       "      <th>3</th>\n",
       "      <td>Orlando</td>\n",
       "      <td>FL</td>\n",
       "      <td>41608</td>\n",
       "      <td>63</td>\n",
       "      <td>Florida</td>\n",
       "      <td>309154</td>\n",
       "      <td>307573</td>\n",
       "      <td>+0.51%</td>\n",
       "      <td>110.6 sq mi</td>\n",
       "      <td>286.5 km2</td>\n",
       "      <td>2,781/sq mi</td>\n",
       "      <td>1,074/km2</td>\n",
       "      <td>28°25′N 81°16′W﻿ / ﻿28.41°N 81.27°W</td>\n",
       "      <td>135.278454</td>\n",
       "    </tr>\n",
       "    <tr>\n",
       "      <th>46</th>\n",
       "      <td>Richmond</td>\n",
       "      <td>VA</td>\n",
       "      <td>6381</td>\n",
       "      <td>252</td>\n",
       "      <td>California</td>\n",
       "      <td>115639</td>\n",
       "      <td>116448</td>\n",
       "      <td>−0.69%</td>\n",
       "      <td>30.1 sq mi</td>\n",
       "      <td>78.0 km2</td>\n",
       "      <td>3,869/sq mi</td>\n",
       "      <td>1,494/km2</td>\n",
       "      <td>37°57′N 122°22′W﻿ / ﻿37.95°N 122.36°W</td>\n",
       "      <td>54.796991</td>\n",
       "    </tr>\n",
       "    <tr>\n",
       "      <th>54</th>\n",
       "      <td>Columbia</td>\n",
       "      <td>SC</td>\n",
       "      <td>6265</td>\n",
       "      <td>219</td>\n",
       "      <td>Missouri</td>\n",
       "      <td>126853</td>\n",
       "      <td>126254</td>\n",
       "      <td>+0.47%</td>\n",
       "      <td>66.5 sq mi</td>\n",
       "      <td>172.2 km2</td>\n",
       "      <td>1,899/sq mi</td>\n",
       "      <td>733/km2</td>\n",
       "      <td>38°57′N 92°19′W﻿ / ﻿38.95°N 92.32°W</td>\n",
       "      <td>49.622190</td>\n",
       "    </tr>\n",
       "    <tr>\n",
       "      <th>53</th>\n",
       "      <td>Columbia</td>\n",
       "      <td>SC</td>\n",
       "      <td>6265</td>\n",
       "      <td>202</td>\n",
       "      <td>South Carolina</td>\n",
       "      <td>137541</td>\n",
       "      <td>136632</td>\n",
       "      <td>+0.67%</td>\n",
       "      <td>136.8 sq mi</td>\n",
       "      <td>354.3 km2</td>\n",
       "      <td>999/sq mi</td>\n",
       "      <td>386/km2</td>\n",
       "      <td>34°01′N 80°53′W﻿ / ﻿34.02°N 80.89°W</td>\n",
       "      <td>45.853094</td>\n",
       "    </tr>\n",
       "    <tr>\n",
       "      <th>45</th>\n",
       "      <td>Chattanooga</td>\n",
       "      <td>TN</td>\n",
       "      <td>6719</td>\n",
       "      <td>142</td>\n",
       "      <td>Tennessee</td>\n",
       "      <td>182113</td>\n",
       "      <td>181099</td>\n",
       "      <td>+0.56%</td>\n",
       "      <td>142.4 sq mi</td>\n",
       "      <td>368.8 km2</td>\n",
       "      <td>1,272/sq mi</td>\n",
       "      <td>491/km2</td>\n",
       "      <td>35°04′N 85°14′W﻿ / ﻿35.06°N 85.24°W</td>\n",
       "      <td>37.101254</td>\n",
       "    </tr>\n",
       "    <tr>\n",
       "      <th>97</th>\n",
       "      <td>Rochester</td>\n",
       "      <td>NY</td>\n",
       "      <td>4362</td>\n",
       "      <td>237</td>\n",
       "      <td>Minnesota</td>\n",
       "      <td>121465</td>\n",
       "      <td>121395</td>\n",
       "      <td>+0.06%</td>\n",
       "      <td>55.5 sq mi</td>\n",
       "      <td>143.7 km2</td>\n",
       "      <td>2,187/sq mi</td>\n",
       "      <td>844/km2</td>\n",
       "      <td>44°01′N 92°28′W﻿ / ﻿44.01°N 92.47°W</td>\n",
       "      <td>35.932287</td>\n",
       "    </tr>\n",
       "    <tr>\n",
       "      <th>36</th>\n",
       "      <td>Hialeah</td>\n",
       "      <td>FL</td>\n",
       "      <td>7307</td>\n",
       "      <td>102</td>\n",
       "      <td>Florida</td>\n",
       "      <td>220490</td>\n",
       "      <td>223109</td>\n",
       "      <td>−1.17%</td>\n",
       "      <td>21.6 sq mi</td>\n",
       "      <td>55.9 km2</td>\n",
       "      <td>10,329/sq mi</td>\n",
       "      <td>3,988/km2</td>\n",
       "      <td>25°52′N 80°18′W﻿ / ﻿25.86°N 80.30°W</td>\n",
       "      <td>32.750808</td>\n",
       "    </tr>\n",
       "    <tr>\n",
       "      <th>20</th>\n",
       "      <td>Raleigh</td>\n",
       "      <td>NC</td>\n",
       "      <td>15285</td>\n",
       "      <td>41</td>\n",
       "      <td>North Carolina</td>\n",
       "      <td>469124</td>\n",
       "      <td>467665</td>\n",
       "      <td>+0.31%</td>\n",
       "      <td>145.1 sq mi</td>\n",
       "      <td>375.8 km2</td>\n",
       "      <td>3,179/sq mi</td>\n",
       "      <td>1,227/km2</td>\n",
       "      <td>35°50′N 78°38′W﻿ / ﻿35.83°N 78.64°W</td>\n",
       "      <td>32.683652</td>\n",
       "    </tr>\n",
       "    <tr>\n",
       "      <th>16</th>\n",
       "      <td>Sacramento</td>\n",
       "      <td>CA</td>\n",
       "      <td>15848</td>\n",
       "      <td>35</td>\n",
       "      <td>California</td>\n",
       "      <td>525041</td>\n",
       "      <td>524943</td>\n",
       "      <td>+0.02%</td>\n",
       "      <td>98.6 sq mi</td>\n",
       "      <td>255.4 km2</td>\n",
       "      <td>5,324/sq mi</td>\n",
       "      <td>2,056/km2</td>\n",
       "      <td>38°34′N 121°28′W﻿ / ﻿38.56°N 121.46°W</td>\n",
       "      <td>30.189944</td>\n",
       "    </tr>\n",
       "    <tr>\n",
       "      <th>87</th>\n",
       "      <td>Fort Lauderdale</td>\n",
       "      <td>FL</td>\n",
       "      <td>5099</td>\n",
       "      <td>143</td>\n",
       "      <td>Florida</td>\n",
       "      <td>181668</td>\n",
       "      <td>182760</td>\n",
       "      <td>−0.60%</td>\n",
       "      <td>34.6 sq mi</td>\n",
       "      <td>89.6 km2</td>\n",
       "      <td>5,282/sq mi</td>\n",
       "      <td>2,039/km2</td>\n",
       "      <td>26°08′N 80°08′W﻿ / ﻿26.14°N 80.14°W</td>\n",
       "      <td>27.899978</td>\n",
       "    </tr>\n",
       "    <tr>\n",
       "      <th>90</th>\n",
       "      <td>Ontario</td>\n",
       "      <td>CA</td>\n",
       "      <td>4750</td>\n",
       "      <td>146</td>\n",
       "      <td>California</td>\n",
       "      <td>177963</td>\n",
       "      <td>175265</td>\n",
       "      <td>+1.54%</td>\n",
       "      <td>50.0 sq mi</td>\n",
       "      <td>129.5 km2</td>\n",
       "      <td>3,505/sq mi</td>\n",
       "      <td>1,353/km2</td>\n",
       "      <td>34°02′N 117°36′W﻿ / ﻿34.03°N 117.60°W</td>\n",
       "      <td>27.101817</td>\n",
       "    </tr>\n",
       "    <tr>\n",
       "      <th>28</th>\n",
       "      <td>Minneapolis</td>\n",
       "      <td>MN</td>\n",
       "      <td>11635</td>\n",
       "      <td>46</td>\n",
       "      <td>Minnesota</td>\n",
       "      <td>425336</td>\n",
       "      <td>429954</td>\n",
       "      <td>−1.07%</td>\n",
       "      <td>54.0 sq mi</td>\n",
       "      <td>139.9 km2</td>\n",
       "      <td>7,962/sq mi</td>\n",
       "      <td>3,074/km2</td>\n",
       "      <td>44°58′N 93°16′W﻿ / ﻿44.96°N 93.26°W</td>\n",
       "      <td>27.061034</td>\n",
       "    </tr>\n",
       "    <tr>\n",
       "      <th>128</th>\n",
       "      <td>Springfield</td>\n",
       "      <td>MO</td>\n",
       "      <td>3010</td>\n",
       "      <td>264</td>\n",
       "      <td>Illinois</td>\n",
       "      <td>113394</td>\n",
       "      <td>114394</td>\n",
       "      <td>−0.87%</td>\n",
       "      <td>61.1 sq mi</td>\n",
       "      <td>158.2 km2</td>\n",
       "      <td>1,872/sq mi</td>\n",
       "      <td>723/km2</td>\n",
       "      <td>39°47′N 89°38′W﻿ / ﻿39.79°N 89.64°W</td>\n",
       "      <td>26.312569</td>\n",
       "    </tr>\n",
       "    <tr>\n",
       "      <th>110</th>\n",
       "      <td>Corona</td>\n",
       "      <td>CA</td>\n",
       "      <td>4012</td>\n",
       "      <td>162</td>\n",
       "      <td>California</td>\n",
       "      <td>159743</td>\n",
       "      <td>157136</td>\n",
       "      <td>+1.66%</td>\n",
       "      <td>39.9 sq mi</td>\n",
       "      <td>103.3 km2</td>\n",
       "      <td>3,938/sq mi</td>\n",
       "      <td>1,520/km2</td>\n",
       "      <td>33°52′N 117°34′W﻿ / ﻿33.86°N 117.56°W</td>\n",
       "      <td>25.532023</td>\n",
       "    </tr>\n",
       "  </tbody>\n",
       "</table>\n",
       "</div>"
      ],
      "text/plain": [
       "                City State_x  Accidents_count  2021rank         State_y  \\\n",
       "0              Miami      FL            78875        44         Florida   \n",
       "3            Orlando      FL            41608        63         Florida   \n",
       "46          Richmond      VA             6381       252      California   \n",
       "54          Columbia      SC             6265       219        Missouri   \n",
       "53          Columbia      SC             6265       202  South Carolina   \n",
       "45       Chattanooga      TN             6719       142       Tennessee   \n",
       "97         Rochester      NY             4362       237       Minnesota   \n",
       "36           Hialeah      FL             7307       102         Florida   \n",
       "20           Raleigh      NC            15285        41  North Carolina   \n",
       "16        Sacramento      CA            15848        35      California   \n",
       "87   Fort Lauderdale      FL             5099       143         Florida   \n",
       "90           Ontario      CA             4750       146      California   \n",
       "28       Minneapolis      MN            11635        46       Minnesota   \n",
       "128      Springfield      MO             3010       264        Illinois   \n",
       "110           Corona      CA             4012       162      California   \n",
       "\n",
       "     2021estimate  2020census  Change 2020 land area 2020 land area.1  \\\n",
       "0          439890      442241  −0.53%     36.0 sq mi         93.2 km2   \n",
       "3          309154      307573  +0.51%    110.6 sq mi        286.5 km2   \n",
       "46         115639      116448  −0.69%     30.1 sq mi         78.0 km2   \n",
       "54         126853      126254  +0.47%     66.5 sq mi        172.2 km2   \n",
       "53         137541      136632  +0.67%    136.8 sq mi        354.3 km2   \n",
       "45         182113      181099  +0.56%    142.4 sq mi        368.8 km2   \n",
       "97         121465      121395  +0.06%     55.5 sq mi        143.7 km2   \n",
       "36         220490      223109  −1.17%     21.6 sq mi         55.9 km2   \n",
       "20         469124      467665  +0.31%    145.1 sq mi        375.8 km2   \n",
       "16         525041      524943  +0.02%     98.6 sq mi        255.4 km2   \n",
       "87         181668      182760  −0.60%     34.6 sq mi         89.6 km2   \n",
       "90         177963      175265  +1.54%     50.0 sq mi        129.5 km2   \n",
       "28         425336      429954  −1.07%     54.0 sq mi        139.9 km2   \n",
       "128        113394      114394  −0.87%     61.1 sq mi        158.2 km2   \n",
       "110        159743      157136  +1.66%     39.9 sq mi        103.3 km2   \n",
       "\n",
       "    2020 population density 2020 population density.1  \\\n",
       "0              12,284/sq mi                 4,743/km2   \n",
       "3               2,781/sq mi                 1,074/km2   \n",
       "46              3,869/sq mi                 1,494/km2   \n",
       "54              1,899/sq mi                   733/km2   \n",
       "53                999/sq mi                   386/km2   \n",
       "45              1,272/sq mi                   491/km2   \n",
       "97              2,187/sq mi                   844/km2   \n",
       "36             10,329/sq mi                 3,988/km2   \n",
       "20              3,179/sq mi                 1,227/km2   \n",
       "16              5,324/sq mi                 2,056/km2   \n",
       "87              5,282/sq mi                 2,039/km2   \n",
       "90              3,505/sq mi                 1,353/km2   \n",
       "28              7,962/sq mi                 3,074/km2   \n",
       "128             1,872/sq mi                   723/km2   \n",
       "110             3,938/sq mi                 1,520/km2   \n",
       "\n",
       "                                  Location  Accidents per 1,000 population  \n",
       "0      25°46′N 80°12′W﻿ / ﻿25.77°N 80.20°W                      178.352979  \n",
       "3      28°25′N 81°16′W﻿ / ﻿28.41°N 81.27°W                      135.278454  \n",
       "46   37°57′N 122°22′W﻿ / ﻿37.95°N 122.36°W                       54.796991  \n",
       "54     38°57′N 92°19′W﻿ / ﻿38.95°N 92.32°W                       49.622190  \n",
       "53     34°01′N 80°53′W﻿ / ﻿34.02°N 80.89°W                       45.853094  \n",
       "45     35°04′N 85°14′W﻿ / ﻿35.06°N 85.24°W                       37.101254  \n",
       "97     44°01′N 92°28′W﻿ / ﻿44.01°N 92.47°W                       35.932287  \n",
       "36     25°52′N 80°18′W﻿ / ﻿25.86°N 80.30°W                       32.750808  \n",
       "20     35°50′N 78°38′W﻿ / ﻿35.83°N 78.64°W                       32.683652  \n",
       "16   38°34′N 121°28′W﻿ / ﻿38.56°N 121.46°W                       30.189944  \n",
       "87     26°08′N 80°08′W﻿ / ﻿26.14°N 80.14°W                       27.899978  \n",
       "90   34°02′N 117°36′W﻿ / ﻿34.03°N 117.60°W                       27.101817  \n",
       "28     44°58′N 93°16′W﻿ / ﻿44.96°N 93.26°W                       27.061034  \n",
       "128    39°47′N 89°38′W﻿ / ﻿39.79°N 89.64°W                       26.312569  \n",
       "110  33°52′N 117°34′W﻿ / ﻿33.86°N 117.56°W                       25.532023  "
      ]
     },
     "execution_count": 137,
     "metadata": {},
     "output_type": "execute_result"
    }
   ],
   "source": [
    "top_15_cities_by_accidents_per_1000_population"
   ]
  },
  {
   "cell_type": "markdown",
   "id": "90fb3b07",
   "metadata": {},
   "source": [
    "Oops. It seems that there are two pair of big cities named Columbia and Springfield in different states. As a non-american person I haven't known that\n",
    "\n",
    "So we have to create a column with the City-State data to make them unique"
   ]
  },
  {
   "cell_type": "code",
   "execution_count": 138,
   "id": "59a8263a",
   "metadata": {
    "scrolled": true
   },
   "outputs": [
    {
     "data": {
      "text/html": [
       "<div>\n",
       "<style scoped>\n",
       "    .dataframe tbody tr th:only-of-type {\n",
       "        vertical-align: middle;\n",
       "    }\n",
       "\n",
       "    .dataframe tbody tr th {\n",
       "        vertical-align: top;\n",
       "    }\n",
       "\n",
       "    .dataframe thead th {\n",
       "        text-align: right;\n",
       "    }\n",
       "</style>\n",
       "<table border=\"1\" class=\"dataframe\">\n",
       "  <thead>\n",
       "    <tr style=\"text-align: right;\">\n",
       "      <th></th>\n",
       "      <th>City</th>\n",
       "      <th>State_x</th>\n",
       "      <th>Accidents_count</th>\n",
       "      <th>2021rank</th>\n",
       "      <th>State_y</th>\n",
       "      <th>2021estimate</th>\n",
       "      <th>2020census</th>\n",
       "      <th>Change</th>\n",
       "      <th>2020 land area</th>\n",
       "      <th>2020 land area.1</th>\n",
       "      <th>2020 population density</th>\n",
       "      <th>2020 population density.1</th>\n",
       "      <th>Location</th>\n",
       "      <th>Accidents per 1,000 population</th>\n",
       "      <th>City-State</th>\n",
       "    </tr>\n",
       "  </thead>\n",
       "  <tbody>\n",
       "    <tr>\n",
       "      <th>0</th>\n",
       "      <td>Miami</td>\n",
       "      <td>FL</td>\n",
       "      <td>78875</td>\n",
       "      <td>44</td>\n",
       "      <td>Florida</td>\n",
       "      <td>439890</td>\n",
       "      <td>442241</td>\n",
       "      <td>−0.53%</td>\n",
       "      <td>36.0 sq mi</td>\n",
       "      <td>93.2 km2</td>\n",
       "      <td>12,284/sq mi</td>\n",
       "      <td>4,743/km2</td>\n",
       "      <td>25°46′N 80°12′W﻿ / ﻿25.77°N 80.20°W</td>\n",
       "      <td>178.352979</td>\n",
       "      <td>Miami-FL</td>\n",
       "    </tr>\n",
       "    <tr>\n",
       "      <th>3</th>\n",
       "      <td>Orlando</td>\n",
       "      <td>FL</td>\n",
       "      <td>41608</td>\n",
       "      <td>63</td>\n",
       "      <td>Florida</td>\n",
       "      <td>309154</td>\n",
       "      <td>307573</td>\n",
       "      <td>+0.51%</td>\n",
       "      <td>110.6 sq mi</td>\n",
       "      <td>286.5 km2</td>\n",
       "      <td>2,781/sq mi</td>\n",
       "      <td>1,074/km2</td>\n",
       "      <td>28°25′N 81°16′W﻿ / ﻿28.41°N 81.27°W</td>\n",
       "      <td>135.278454</td>\n",
       "      <td>Orlando-FL</td>\n",
       "    </tr>\n",
       "    <tr>\n",
       "      <th>46</th>\n",
       "      <td>Richmond</td>\n",
       "      <td>VA</td>\n",
       "      <td>6381</td>\n",
       "      <td>252</td>\n",
       "      <td>California</td>\n",
       "      <td>115639</td>\n",
       "      <td>116448</td>\n",
       "      <td>−0.69%</td>\n",
       "      <td>30.1 sq mi</td>\n",
       "      <td>78.0 km2</td>\n",
       "      <td>3,869/sq mi</td>\n",
       "      <td>1,494/km2</td>\n",
       "      <td>37°57′N 122°22′W﻿ / ﻿37.95°N 122.36°W</td>\n",
       "      <td>54.796991</td>\n",
       "      <td>Richmond-VA</td>\n",
       "    </tr>\n",
       "    <tr>\n",
       "      <th>54</th>\n",
       "      <td>Columbia</td>\n",
       "      <td>SC</td>\n",
       "      <td>6265</td>\n",
       "      <td>219</td>\n",
       "      <td>Missouri</td>\n",
       "      <td>126853</td>\n",
       "      <td>126254</td>\n",
       "      <td>+0.47%</td>\n",
       "      <td>66.5 sq mi</td>\n",
       "      <td>172.2 km2</td>\n",
       "      <td>1,899/sq mi</td>\n",
       "      <td>733/km2</td>\n",
       "      <td>38°57′N 92°19′W﻿ / ﻿38.95°N 92.32°W</td>\n",
       "      <td>49.622190</td>\n",
       "      <td>Columbia-SC</td>\n",
       "    </tr>\n",
       "    <tr>\n",
       "      <th>53</th>\n",
       "      <td>Columbia</td>\n",
       "      <td>SC</td>\n",
       "      <td>6265</td>\n",
       "      <td>202</td>\n",
       "      <td>South Carolina</td>\n",
       "      <td>137541</td>\n",
       "      <td>136632</td>\n",
       "      <td>+0.67%</td>\n",
       "      <td>136.8 sq mi</td>\n",
       "      <td>354.3 km2</td>\n",
       "      <td>999/sq mi</td>\n",
       "      <td>386/km2</td>\n",
       "      <td>34°01′N 80°53′W﻿ / ﻿34.02°N 80.89°W</td>\n",
       "      <td>45.853094</td>\n",
       "      <td>Columbia-SC</td>\n",
       "    </tr>\n",
       "    <tr>\n",
       "      <th>45</th>\n",
       "      <td>Chattanooga</td>\n",
       "      <td>TN</td>\n",
       "      <td>6719</td>\n",
       "      <td>142</td>\n",
       "      <td>Tennessee</td>\n",
       "      <td>182113</td>\n",
       "      <td>181099</td>\n",
       "      <td>+0.56%</td>\n",
       "      <td>142.4 sq mi</td>\n",
       "      <td>368.8 km2</td>\n",
       "      <td>1,272/sq mi</td>\n",
       "      <td>491/km2</td>\n",
       "      <td>35°04′N 85°14′W﻿ / ﻿35.06°N 85.24°W</td>\n",
       "      <td>37.101254</td>\n",
       "      <td>Chattanooga-TN</td>\n",
       "    </tr>\n",
       "    <tr>\n",
       "      <th>97</th>\n",
       "      <td>Rochester</td>\n",
       "      <td>NY</td>\n",
       "      <td>4362</td>\n",
       "      <td>237</td>\n",
       "      <td>Minnesota</td>\n",
       "      <td>121465</td>\n",
       "      <td>121395</td>\n",
       "      <td>+0.06%</td>\n",
       "      <td>55.5 sq mi</td>\n",
       "      <td>143.7 km2</td>\n",
       "      <td>2,187/sq mi</td>\n",
       "      <td>844/km2</td>\n",
       "      <td>44°01′N 92°28′W﻿ / ﻿44.01°N 92.47°W</td>\n",
       "      <td>35.932287</td>\n",
       "      <td>Rochester-NY</td>\n",
       "    </tr>\n",
       "    <tr>\n",
       "      <th>36</th>\n",
       "      <td>Hialeah</td>\n",
       "      <td>FL</td>\n",
       "      <td>7307</td>\n",
       "      <td>102</td>\n",
       "      <td>Florida</td>\n",
       "      <td>220490</td>\n",
       "      <td>223109</td>\n",
       "      <td>−1.17%</td>\n",
       "      <td>21.6 sq mi</td>\n",
       "      <td>55.9 km2</td>\n",
       "      <td>10,329/sq mi</td>\n",
       "      <td>3,988/km2</td>\n",
       "      <td>25°52′N 80°18′W﻿ / ﻿25.86°N 80.30°W</td>\n",
       "      <td>32.750808</td>\n",
       "      <td>Hialeah-FL</td>\n",
       "    </tr>\n",
       "    <tr>\n",
       "      <th>20</th>\n",
       "      <td>Raleigh</td>\n",
       "      <td>NC</td>\n",
       "      <td>15285</td>\n",
       "      <td>41</td>\n",
       "      <td>North Carolina</td>\n",
       "      <td>469124</td>\n",
       "      <td>467665</td>\n",
       "      <td>+0.31%</td>\n",
       "      <td>145.1 sq mi</td>\n",
       "      <td>375.8 km2</td>\n",
       "      <td>3,179/sq mi</td>\n",
       "      <td>1,227/km2</td>\n",
       "      <td>35°50′N 78°38′W﻿ / ﻿35.83°N 78.64°W</td>\n",
       "      <td>32.683652</td>\n",
       "      <td>Raleigh-NC</td>\n",
       "    </tr>\n",
       "    <tr>\n",
       "      <th>16</th>\n",
       "      <td>Sacramento</td>\n",
       "      <td>CA</td>\n",
       "      <td>15848</td>\n",
       "      <td>35</td>\n",
       "      <td>California</td>\n",
       "      <td>525041</td>\n",
       "      <td>524943</td>\n",
       "      <td>+0.02%</td>\n",
       "      <td>98.6 sq mi</td>\n",
       "      <td>255.4 km2</td>\n",
       "      <td>5,324/sq mi</td>\n",
       "      <td>2,056/km2</td>\n",
       "      <td>38°34′N 121°28′W﻿ / ﻿38.56°N 121.46°W</td>\n",
       "      <td>30.189944</td>\n",
       "      <td>Sacramento-CA</td>\n",
       "    </tr>\n",
       "    <tr>\n",
       "      <th>87</th>\n",
       "      <td>Fort Lauderdale</td>\n",
       "      <td>FL</td>\n",
       "      <td>5099</td>\n",
       "      <td>143</td>\n",
       "      <td>Florida</td>\n",
       "      <td>181668</td>\n",
       "      <td>182760</td>\n",
       "      <td>−0.60%</td>\n",
       "      <td>34.6 sq mi</td>\n",
       "      <td>89.6 km2</td>\n",
       "      <td>5,282/sq mi</td>\n",
       "      <td>2,039/km2</td>\n",
       "      <td>26°08′N 80°08′W﻿ / ﻿26.14°N 80.14°W</td>\n",
       "      <td>27.899978</td>\n",
       "      <td>Fort Lauderdale-FL</td>\n",
       "    </tr>\n",
       "    <tr>\n",
       "      <th>90</th>\n",
       "      <td>Ontario</td>\n",
       "      <td>CA</td>\n",
       "      <td>4750</td>\n",
       "      <td>146</td>\n",
       "      <td>California</td>\n",
       "      <td>177963</td>\n",
       "      <td>175265</td>\n",
       "      <td>+1.54%</td>\n",
       "      <td>50.0 sq mi</td>\n",
       "      <td>129.5 km2</td>\n",
       "      <td>3,505/sq mi</td>\n",
       "      <td>1,353/km2</td>\n",
       "      <td>34°02′N 117°36′W﻿ / ﻿34.03°N 117.60°W</td>\n",
       "      <td>27.101817</td>\n",
       "      <td>Ontario-CA</td>\n",
       "    </tr>\n",
       "    <tr>\n",
       "      <th>28</th>\n",
       "      <td>Minneapolis</td>\n",
       "      <td>MN</td>\n",
       "      <td>11635</td>\n",
       "      <td>46</td>\n",
       "      <td>Minnesota</td>\n",
       "      <td>425336</td>\n",
       "      <td>429954</td>\n",
       "      <td>−1.07%</td>\n",
       "      <td>54.0 sq mi</td>\n",
       "      <td>139.9 km2</td>\n",
       "      <td>7,962/sq mi</td>\n",
       "      <td>3,074/km2</td>\n",
       "      <td>44°58′N 93°16′W﻿ / ﻿44.96°N 93.26°W</td>\n",
       "      <td>27.061034</td>\n",
       "      <td>Minneapolis-MN</td>\n",
       "    </tr>\n",
       "    <tr>\n",
       "      <th>128</th>\n",
       "      <td>Springfield</td>\n",
       "      <td>MO</td>\n",
       "      <td>3010</td>\n",
       "      <td>264</td>\n",
       "      <td>Illinois</td>\n",
       "      <td>113394</td>\n",
       "      <td>114394</td>\n",
       "      <td>−0.87%</td>\n",
       "      <td>61.1 sq mi</td>\n",
       "      <td>158.2 km2</td>\n",
       "      <td>1,872/sq mi</td>\n",
       "      <td>723/km2</td>\n",
       "      <td>39°47′N 89°38′W﻿ / ﻿39.79°N 89.64°W</td>\n",
       "      <td>26.312569</td>\n",
       "      <td>Springfield-MO</td>\n",
       "    </tr>\n",
       "    <tr>\n",
       "      <th>110</th>\n",
       "      <td>Corona</td>\n",
       "      <td>CA</td>\n",
       "      <td>4012</td>\n",
       "      <td>162</td>\n",
       "      <td>California</td>\n",
       "      <td>159743</td>\n",
       "      <td>157136</td>\n",
       "      <td>+1.66%</td>\n",
       "      <td>39.9 sq mi</td>\n",
       "      <td>103.3 km2</td>\n",
       "      <td>3,938/sq mi</td>\n",
       "      <td>1,520/km2</td>\n",
       "      <td>33°52′N 117°34′W﻿ / ﻿33.86°N 117.56°W</td>\n",
       "      <td>25.532023</td>\n",
       "      <td>Corona-CA</td>\n",
       "    </tr>\n",
       "  </tbody>\n",
       "</table>\n",
       "</div>"
      ],
      "text/plain": [
       "                City State_x  Accidents_count  2021rank         State_y  \\\n",
       "0              Miami      FL            78875        44         Florida   \n",
       "3            Orlando      FL            41608        63         Florida   \n",
       "46          Richmond      VA             6381       252      California   \n",
       "54          Columbia      SC             6265       219        Missouri   \n",
       "53          Columbia      SC             6265       202  South Carolina   \n",
       "45       Chattanooga      TN             6719       142       Tennessee   \n",
       "97         Rochester      NY             4362       237       Minnesota   \n",
       "36           Hialeah      FL             7307       102         Florida   \n",
       "20           Raleigh      NC            15285        41  North Carolina   \n",
       "16        Sacramento      CA            15848        35      California   \n",
       "87   Fort Lauderdale      FL             5099       143         Florida   \n",
       "90           Ontario      CA             4750       146      California   \n",
       "28       Minneapolis      MN            11635        46       Minnesota   \n",
       "128      Springfield      MO             3010       264        Illinois   \n",
       "110           Corona      CA             4012       162      California   \n",
       "\n",
       "     2021estimate  2020census  Change 2020 land area 2020 land area.1  \\\n",
       "0          439890      442241  −0.53%     36.0 sq mi         93.2 km2   \n",
       "3          309154      307573  +0.51%    110.6 sq mi        286.5 km2   \n",
       "46         115639      116448  −0.69%     30.1 sq mi         78.0 km2   \n",
       "54         126853      126254  +0.47%     66.5 sq mi        172.2 km2   \n",
       "53         137541      136632  +0.67%    136.8 sq mi        354.3 km2   \n",
       "45         182113      181099  +0.56%    142.4 sq mi        368.8 km2   \n",
       "97         121465      121395  +0.06%     55.5 sq mi        143.7 km2   \n",
       "36         220490      223109  −1.17%     21.6 sq mi         55.9 km2   \n",
       "20         469124      467665  +0.31%    145.1 sq mi        375.8 km2   \n",
       "16         525041      524943  +0.02%     98.6 sq mi        255.4 km2   \n",
       "87         181668      182760  −0.60%     34.6 sq mi         89.6 km2   \n",
       "90         177963      175265  +1.54%     50.0 sq mi        129.5 km2   \n",
       "28         425336      429954  −1.07%     54.0 sq mi        139.9 km2   \n",
       "128        113394      114394  −0.87%     61.1 sq mi        158.2 km2   \n",
       "110        159743      157136  +1.66%     39.9 sq mi        103.3 km2   \n",
       "\n",
       "    2020 population density 2020 population density.1  \\\n",
       "0              12,284/sq mi                 4,743/km2   \n",
       "3               2,781/sq mi                 1,074/km2   \n",
       "46              3,869/sq mi                 1,494/km2   \n",
       "54              1,899/sq mi                   733/km2   \n",
       "53                999/sq mi                   386/km2   \n",
       "45              1,272/sq mi                   491/km2   \n",
       "97              2,187/sq mi                   844/km2   \n",
       "36             10,329/sq mi                 3,988/km2   \n",
       "20              3,179/sq mi                 1,227/km2   \n",
       "16              5,324/sq mi                 2,056/km2   \n",
       "87              5,282/sq mi                 2,039/km2   \n",
       "90              3,505/sq mi                 1,353/km2   \n",
       "28              7,962/sq mi                 3,074/km2   \n",
       "128             1,872/sq mi                   723/km2   \n",
       "110             3,938/sq mi                 1,520/km2   \n",
       "\n",
       "                                  Location  Accidents per 1,000 population  \\\n",
       "0      25°46′N 80°12′W﻿ / ﻿25.77°N 80.20°W                      178.352979   \n",
       "3      28°25′N 81°16′W﻿ / ﻿28.41°N 81.27°W                      135.278454   \n",
       "46   37°57′N 122°22′W﻿ / ﻿37.95°N 122.36°W                       54.796991   \n",
       "54     38°57′N 92°19′W﻿ / ﻿38.95°N 92.32°W                       49.622190   \n",
       "53     34°01′N 80°53′W﻿ / ﻿34.02°N 80.89°W                       45.853094   \n",
       "45     35°04′N 85°14′W﻿ / ﻿35.06°N 85.24°W                       37.101254   \n",
       "97     44°01′N 92°28′W﻿ / ﻿44.01°N 92.47°W                       35.932287   \n",
       "36     25°52′N 80°18′W﻿ / ﻿25.86°N 80.30°W                       32.750808   \n",
       "20     35°50′N 78°38′W﻿ / ﻿35.83°N 78.64°W                       32.683652   \n",
       "16   38°34′N 121°28′W﻿ / ﻿38.56°N 121.46°W                       30.189944   \n",
       "87     26°08′N 80°08′W﻿ / ﻿26.14°N 80.14°W                       27.899978   \n",
       "90   34°02′N 117°36′W﻿ / ﻿34.03°N 117.60°W                       27.101817   \n",
       "28     44°58′N 93°16′W﻿ / ﻿44.96°N 93.26°W                       27.061034   \n",
       "128    39°47′N 89°38′W﻿ / ﻿39.79°N 89.64°W                       26.312569   \n",
       "110  33°52′N 117°34′W﻿ / ﻿33.86°N 117.56°W                       25.532023   \n",
       "\n",
       "             City-State  \n",
       "0              Miami-FL  \n",
       "3            Orlando-FL  \n",
       "46          Richmond-VA  \n",
       "54          Columbia-SC  \n",
       "53          Columbia-SC  \n",
       "45       Chattanooga-TN  \n",
       "97         Rochester-NY  \n",
       "36           Hialeah-FL  \n",
       "20           Raleigh-NC  \n",
       "16        Sacramento-CA  \n",
       "87   Fort Lauderdale-FL  \n",
       "90           Ontario-CA  \n",
       "28       Minneapolis-MN  \n",
       "128      Springfield-MO  \n",
       "110           Corona-CA  "
      ]
     },
     "execution_count": 138,
     "metadata": {},
     "output_type": "execute_result"
    }
   ],
   "source": [
    "top_15_cities_by_accidents_per_1000_population['City-State'] = top_15_cities_by_accidents_per_1000_population['City'].iloc[:] + '-' + top_15_cities_by_accidents_per_1000_population['State_x'].iloc[:]\n",
    "\n",
    "top_15_cities_by_accidents_per_1000_population.head(15)"
   ]
  },
  {
   "cell_type": "markdown",
   "id": "ea0707a5",
   "metadata": {},
   "source": [
    "Let's find out if it helped"
   ]
  },
  {
   "cell_type": "code",
   "execution_count": 139,
   "id": "73e74b70",
   "metadata": {},
   "outputs": [
    {
     "data": {
      "image/png": "[encoded data removed]",
      "text/plain": [
       "<Figure size 1120x560 with 1 Axes>"
      ]
     },
     "metadata": {},
     "output_type": "display_data"
    }
   ],
   "source": [
    "fig, ax = plt.subplots(figsize = (14,7), dpi = 80)\n",
    "\n",
    "ax=sns.barplot(x='Accidents per 1,000 population', y='City-State', data = top_15_cities_by_accidents_per_1000_population, palette='gist_earth').set(title='Accidents per 1,000 Population by Cities, 2021')"
   ]
  },
  {
   "cell_type": "markdown",
   "id": "dfbad785",
   "metadata": {},
   "source": [
    "⚡ Great! So now we can see, that charts by total number of accidents and number of accidents per 1,000 population are consist of different set of cities. For instance, Los Angeles and Dallas are in top-5 by number of accidents, but they don't even appear in top-15 cities by number of accidents per capita\n",
    "\n",
    "⚡ Another insight is that 7 out of 15 cities with the highest accident rates are located in California and Florida. Genuinely, I can't believe, that people drive in a crazy manner there or that transportation and road systems are in the worst conditions in that states. My hypothesis is that these states provided more data to the consolidated dataframe or they have the most complete of accidents data collection systems."
   ]
  },
  {
   "cell_type": "markdown",
   "id": "5fa2ca9b",
   "metadata": {},
   "source": [
    "So let's combine these two metrics on one chart"
   ]
  },
  {
   "cell_type": "code",
   "execution_count": 140,
   "id": "6e75c2ae",
   "metadata": {},
   "outputs": [],
   "source": [
    "top_15_cities_by_accidents_per_1000_population_accs_desc = top_15_cities_by_accidents_per_1000_population.sort_values(['Accidents_count'],ascending=[False]).head(15)"
   ]
  },
  {
   "cell_type": "code",
   "execution_count": 141,
   "id": "3b2b8956",
   "metadata": {},
   "outputs": [
    {
     "data": {
      "text/plain": [
       "Text(0, 0.5, 'Accidents per 1,000 Population')"
      ]
     },
     "execution_count": 141,
     "metadata": {},
     "output_type": "execute_result"
    },
    {
     "data": {
      "image/png": "[encoded data removed]",
      "text/plain": [
       "<Figure size 1120x400 with 2 Axes>"
      ]
     },
     "metadata": {},
     "output_type": "display_data"
    }
   ],
   "source": [
    "top_8_cities_by_accidents_per_1000_population_accs_desc = top_15_cities_by_accidents_per_1000_population.sort_values(['Accidents_count'],ascending=[False]).head(8)\n",
    "\n",
    "sns.set_theme(style=\"white\")\n",
    "\n",
    "fig, ax1 = plt.subplots(figsize = (14,5), dpi = 80)\n",
    "\n",
    "ax2 = ax1.twinx()\n",
    "\n",
    "ax1.bar(top_8_cities_by_accidents_per_1000_population_accs_desc['City'], top_8_cities_by_accidents_per_1000_population_accs_desc['Accidents_count'],color='#c3d5da')\n",
    "ax1.set_title(\"Accidents Count and Accidents per 1,000 Population by Cities, 2016-2021\")\n",
    "ax1.set_ylabel(\"Total Accidents\")\n",
    "\n",
    "ax2.plot(top_8_cities_by_accidents_per_1000_population_accs_desc['City'], top_8_cities_by_accidents_per_1000_population_accs_desc['Accidents per 1,000 population'],'o',color='#e45b5c')\n",
    "ax2.set_ylabel(\"Accidents per 1,000 Population\")"
   ]
  },
  {
   "cell_type": "markdown",
   "id": "54f5d85d",
   "metadata": {},
   "source": [
    "⚡ And here we can see that Miami and Orlando are leaders in both total accidents and accidents per capita. But we can't say for other cities. So, Los Angelenos, if by this point you have started to think to change your mayor, please don't! You have a huge number because of the city is giantic, but the number of accidents per 1,000 of population is relatively small."
   ]
  },
  {
   "cell_type": "markdown",
   "id": "76f909fd",
   "metadata": {},
   "source": [
    "### States"
   ]
  },
  {
   "cell_type": "markdown",
   "id": "d0d49dda",
   "metadata": {},
   "source": [
    "Let's look for the data by states"
   ]
  },
  {
   "cell_type": "code",
   "execution_count": 142,
   "id": "b0f604a7",
   "metadata": {},
   "outputs": [
    {
     "data": {
      "text/html": [
       "<div>\n",
       "<style scoped>\n",
       "    .dataframe tbody tr th:only-of-type {\n",
       "        vertical-align: middle;\n",
       "    }\n",
       "\n",
       "    .dataframe tbody tr th {\n",
       "        vertical-align: top;\n",
       "    }\n",
       "\n",
       "    .dataframe thead th {\n",
       "        text-align: right;\n",
       "    }\n",
       "</style>\n",
       "<table border=\"1\" class=\"dataframe\">\n",
       "  <thead>\n",
       "    <tr style=\"text-align: right;\">\n",
       "      <th></th>\n",
       "      <th>State</th>\n",
       "      <th>Accidents_count</th>\n",
       "    </tr>\n",
       "  </thead>\n",
       "  <tbody>\n",
       "    <tr>\n",
       "      <th>0</th>\n",
       "      <td>CA</td>\n",
       "      <td>795868</td>\n",
       "    </tr>\n",
       "    <tr>\n",
       "      <th>1</th>\n",
       "      <td>FL</td>\n",
       "      <td>401388</td>\n",
       "    </tr>\n",
       "    <tr>\n",
       "      <th>2</th>\n",
       "      <td>TX</td>\n",
       "      <td>149037</td>\n",
       "    </tr>\n",
       "  </tbody>\n",
       "</table>\n",
       "</div>"
      ],
      "text/plain": [
       "  State  Accidents_count\n",
       "0    CA           795868\n",
       "1    FL           401388\n",
       "2    TX           149037"
      ]
     },
     "execution_count": 142,
     "metadata": {},
     "output_type": "execute_result"
    }
   ],
   "source": [
    "df_states = df_accidents['State'].value_counts().to_frame().reset_index().set_axis(['State', 'Accidents_count'], axis=1)\n",
    "\n",
    "df_states.head(3)"
   ]
  },
  {
   "cell_type": "code",
   "execution_count": 143,
   "id": "cddb77c1",
   "metadata": {},
   "outputs": [
    {
     "data": {
      "application/vnd.plotly.v1+json": {
       "config": {
        "linkText": "Export to plot.ly",
        "plotlyServerURL": "https://plot.ly",
        "showLink": false
       },
       "data": [
        {
         "colorbar": {
          "title": {
           "text": "Accidents Count"
          }
         },
         "colorscale": [
          [
           0,
           "rgb(237, 229, 207)"
          ],
          [
           0.16666666666666666,
           "rgb(224, 194, 162)"
          ],
          [
           0.3333333333333333,
           "rgb(211, 156, 131)"
          ],
          [
           0.5,
           "rgb(193, 118, 111)"
          ],
          [
           0.6666666666666666,
           "rgb(166, 84, 97)"
          ],
          [
           0.8333333333333334,
           "rgb(129, 55, 83)"
          ],
          [
           1,
           "rgb(84, 31, 63)"
          ]
         ],
         "locationmode": "USA-states",
         "locations": [
          "CA",
          "FL",
          "TX",
          "OR",
          "VA",
          "NY",
          "PA",
          "MN",
          "NC",
          "SC",
          "MD",
          "AZ",
          "NJ",
          "TN",
          "UT",
          "LA",
          "IL",
          "MI",
          "GA",
          "WA",
          "CT",
          "MO",
          "CO",
          "OH",
          "IN",
          "AL",
          "MT",
          "AR",
          "IA",
          "DC",
          "KS",
          "OK",
          "ID",
          "WI",
          "WV",
          "KY",
          "MA",
          "NV",
          "MS",
          "DE",
          "RI",
          "NH",
          "NE",
          "NM",
          "ND",
          "ME",
          "WY",
          "VT",
          "SD"
         ],
         "text": [],
         "type": "choropleth",
         "z": [
          795868,
          401388,
          149037,
          126341,
          113535,
          108049,
          99975,
          97185,
          91362,
          89216,
          65085,
          56504,
          52902,
          52613,
          49193,
          47232,
          47105,
          43843,
          40086,
          32554,
          29762,
          29633,
          25340,
          24409,
          20850,
          19322,
          15964,
          10935,
          9607,
          9133,
          9033,
          8806,
          8544,
          7896,
          7632,
          6638,
          6392,
          6197,
          5320,
          4842,
          4451,
          3866,
          3320,
          2370,
          2258,
          2193,
          990,
          365,
          201
         ]
        }
       ],
       "layout": {
        "geo": {
         "scope": "usa"
        },
        "template": {
         "data": {
          "bar": [
           {
            "error_x": {
             "color": "#2a3f5f"
            },
            "error_y": {
             "color": "#2a3f5f"
            },
            "marker": {
             "line": {
              "color": "#E5ECF6",
              "width": 0.5
             },
             "pattern": {
              "fillmode": "overlay",
              "size": 10,
              "solidity": 0.2
             }
            },
            "type": "bar"
           }
          ],
          "barpolar": [
           {
            "marker": {
             "line": {
              "color": "#E5ECF6",
              "width": 0.5
             },
             "pattern": {
              "fillmode": "overlay",
              "size": 10,
              "solidity": 0.2
             }
            },
            "type": "barpolar"
           }
          ],
          "carpet": [
           {
            "aaxis": {
             "endlinecolor": "#2a3f5f",
             "gridcolor": "white",
             "linecolor": "white",
             "minorgridcolor": "white",
             "startlinecolor": "#2a3f5f"
            },
            "baxis": {
             "endlinecolor": "#2a3f5f",
             "gridcolor": "white",
             "linecolor": "white",
             "minorgridcolor": "white",
             "startlinecolor": "#2a3f5f"
            },
            "type": "carpet"
           }
          ],
          "choropleth": [
           {
            "colorbar": {
             "outlinewidth": 0,
             "ticks": ""
            },
            "type": "choropleth"
           }
          ],
          "contour": [
           {
            "colorbar": {
             "outlinewidth": 0,
             "ticks": ""
            },
            "colorscale": [
             [
              0,
              "#0d0887"
             ],
             [
              0.1111111111111111,
              "#46039f"
             ],
             [
              0.2222222222222222,
              "#7201a8"
             ],
             [
              0.3333333333333333,
              "#9c179e"
             ],
             [
              0.4444444444444444,
              "#bd3786"
             ],
             [
              0.5555555555555556,
              "#d8576b"
             ],
             [
              0.6666666666666666,
              "#ed7953"
             ],
             [
              0.7777777777777778,
              "#fb9f3a"
             ],
             [
              0.8888888888888888,
              "#fdca26"
             ],
             [
              1,
              "#f0f921"
             ]
            ],
            "type": "contour"
           }
          ],
          "contourcarpet": [
           {
            "colorbar": {
             "outlinewidth": 0,
             "ticks": ""
            },
            "type": "contourcarpet"
           }
          ],
          "heatmap": [
           {
            "colorbar": {
             "outlinewidth": 0,
             "ticks": ""
            },
            "colorscale": [
             [
              0,
              "#0d0887"
             ],
             [
              0.1111111111111111,
              "#46039f"
             ],
             [
              0.2222222222222222,
              "#7201a8"
             ],
             [
              0.3333333333333333,
              "#9c179e"
             ],
             [
              0.4444444444444444,
              "#bd3786"
             ],
             [
              0.5555555555555556,
              "#d8576b"
             ],
             [
              0.6666666666666666,
              "#ed7953"
             ],
             [
              0.7777777777777778,
              "#fb9f3a"
             ],
             [
              0.8888888888888888,
              "#fdca26"
             ],
             [
              1,
              "#f0f921"
             ]
            ],
            "type": "heatmap"
           }
          ],
          "heatmapgl": [
           {
            "colorbar": {
             "outlinewidth": 0,
             "ticks": ""
            },
            "colorscale": [
             [
              0,
              "#0d0887"
             ],
             [
              0.1111111111111111,
              "#46039f"
             ],
             [
              0.2222222222222222,
              "#7201a8"
             ],
             [
              0.3333333333333333,
              "#9c179e"
             ],
             [
              0.4444444444444444,
              "#bd3786"
             ],
             [
              0.5555555555555556,
              "#d8576b"
             ],
             [
              0.6666666666666666,
              "#ed7953"
             ],
             [
              0.7777777777777778,
              "#fb9f3a"
             ],
             [
              0.8888888888888888,
              "#fdca26"
             ],
             [
              1,
              "#f0f921"
             ]
            ],
            "type": "heatmapgl"
           }
          ],
          "histogram": [
           {
            "marker": {
             "pattern": {
              "fillmode": "overlay",
              "size": 10,
              "solidity": 0.2
             }
            },
            "type": "histogram"
           }
          ],
          "histogram2d": [
           {
            "colorbar": {
             "outlinewidth": 0,
             "ticks": ""
            },
            "colorscale": [
             [
              0,
              "#0d0887"
             ],
             [
              0.1111111111111111,
              "#46039f"
             ],
             [
              0.2222222222222222,
              "#7201a8"
             ],
             [
              0.3333333333333333,
              "#9c179e"
             ],
             [
              0.4444444444444444,
              "#bd3786"
             ],
             [
              0.5555555555555556,
              "#d8576b"
             ],
             [
              0.6666666666666666,
              "#ed7953"
             ],
             [
              0.7777777777777778,
              "#fb9f3a"
             ],
             [
              0.8888888888888888,
              "#fdca26"
             ],
             [
              1,
              "#f0f921"
             ]
            ],
            "type": "histogram2d"
           }
          ],
          "histogram2dcontour": [
           {
            "colorbar": {
             "outlinewidth": 0,
             "ticks": ""
            },
            "colorscale": [
             [
              0,
              "#0d0887"
             ],
             [
              0.1111111111111111,
              "#46039f"
             ],
             [
              0.2222222222222222,
              "#7201a8"
             ],
             [
              0.3333333333333333,
              "#9c179e"
             ],
             [
              0.4444444444444444,
              "#bd3786"
             ],
             [
              0.5555555555555556,
              "#d8576b"
             ],
             [
              0.6666666666666666,
              "#ed7953"
             ],
             [
              0.7777777777777778,
              "#fb9f3a"
             ],
             [
              0.8888888888888888,
              "#fdca26"
             ],
             [
              1,
              "#f0f921"
             ]
            ],
            "type": "histogram2dcontour"
           }
          ],
          "mesh3d": [
           {
            "colorbar": {
             "outlinewidth": 0,
             "ticks": ""
            },
            "type": "mesh3d"
           }
          ],
          "parcoords": [
           {
            "line": {
             "colorbar": {
              "outlinewidth": 0,
              "ticks": ""
             }
            },
            "type": "parcoords"
           }
          ],
          "pie": [
           {
            "automargin": true,
            "type": "pie"
           }
          ],
          "scatter": [
           {
            "marker": {
             "colorbar": {
              "outlinewidth": 0,
              "ticks": ""
             }
            },
            "type": "scatter"
           }
          ],
          "scatter3d": [
           {
            "line": {
             "colorbar": {
              "outlinewidth": 0,
              "ticks": ""
             }
            },
            "marker": {
             "colorbar": {
              "outlinewidth": 0,
              "ticks": ""
             }
            },
            "type": "scatter3d"
           }
          ],
          "scattercarpet": [
           {
            "marker": {
             "colorbar": {
              "outlinewidth": 0,
              "ticks": ""
             }
            },
            "type": "scattercarpet"
           }
          ],
          "scattergeo": [
           {
            "marker": {
             "colorbar": {
              "outlinewidth": 0,
              "ticks": ""
             }
            },
            "type": "scattergeo"
           }
          ],
          "scattergl": [
           {
            "marker": {
             "colorbar": {
              "outlinewidth": 0,
              "ticks": ""
             }
            },
            "type": "scattergl"
           }
          ],
          "scattermapbox": [
           {
            "marker": {
             "colorbar": {
              "outlinewidth": 0,
              "ticks": ""
             }
            },
            "type": "scattermapbox"
           }
          ],
          "scatterpolar": [
           {
            "marker": {
             "colorbar": {
              "outlinewidth": 0,
              "ticks": ""
             }
            },
            "type": "scatterpolar"
           }
          ],
          "scatterpolargl": [
           {
            "marker": {
             "colorbar": {
              "outlinewidth": 0,
              "ticks": ""
             }
            },
            "type": "scatterpolargl"
           }
          ],
          "scatterternary": [
           {
            "marker": {
             "colorbar": {
              "outlinewidth": 0,
              "ticks": ""
             }
            },
            "type": "scatterternary"
           }
          ],
          "surface": [
           {
            "colorbar": {
             "outlinewidth": 0,
             "ticks": ""
            },
            "colorscale": [
             [
              0,
              "#0d0887"
             ],
             [
              0.1111111111111111,
              "#46039f"
             ],
             [
              0.2222222222222222,
              "#7201a8"
             ],
             [
              0.3333333333333333,
              "#9c179e"
             ],
             [
              0.4444444444444444,
              "#bd3786"
             ],
             [
              0.5555555555555556,
              "#d8576b"
             ],
             [
              0.6666666666666666,
              "#ed7953"
             ],
             [
              0.7777777777777778,
              "#fb9f3a"
             ],
             [
              0.8888888888888888,
              "#fdca26"
             ],
             [
              1,
              "#f0f921"
             ]
            ],
            "type": "surface"
           }
          ],
          "table": [
           {
            "cells": {
             "fill": {
              "color": "#EBF0F8"
             },
             "line": {
              "color": "white"
             }
            },
            "header": {
             "fill": {
              "color": "#C8D4E3"
             },
             "line": {
              "color": "white"
             }
            },
            "type": "table"
           }
          ]
         },
         "layout": {
          "annotationdefaults": {
           "arrowcolor": "#2a3f5f",
           "arrowhead": 0,
           "arrowwidth": 1
          },
          "autotypenumbers": "strict",
          "coloraxis": {
           "colorbar": {
            "outlinewidth": 0,
            "ticks": ""
           }
          },
          "colorscale": {
           "diverging": [
            [
             0,
             "#8e0152"
            ],
            [
             0.1,
             "#c51b7d"
            ],
            [
             0.2,
             "#de77ae"
            ],
            [
             0.3,
             "#f1b6da"
            ],
            [
             0.4,
             "#fde0ef"
            ],
            [
             0.5,
             "#f7f7f7"
            ],
            [
             0.6,
             "#e6f5d0"
            ],
            [
             0.7,
             "#b8e186"
            ],
            [
             0.8,
             "#7fbc41"
            ],
            [
             0.9,
             "#4d9221"
            ],
            [
             1,
             "#276419"
            ]
           ],
           "sequential": [
            [
             0,
             "#0d0887"
            ],
            [
             0.1111111111111111,
             "#46039f"
            ],
            [
             0.2222222222222222,
             "#7201a8"
            ],
            [
             0.3333333333333333,
             "#9c179e"
            ],
            [
             0.4444444444444444,
             "#bd3786"
            ],
            [
             0.5555555555555556,
             "#d8576b"
            ],
            [
             0.6666666666666666,
             "#ed7953"
            ],
            [
             0.7777777777777778,
             "#fb9f3a"
            ],
            [
             0.8888888888888888,
             "#fdca26"
            ],
            [
             1,
             "#f0f921"
            ]
           ],
           "sequentialminus": [
            [
             0,
             "#0d0887"
            ],
            [
             0.1111111111111111,
             "#46039f"
            ],
            [
             0.2222222222222222,
             "#7201a8"
            ],
            [
             0.3333333333333333,
             "#9c179e"
            ],
            [
             0.4444444444444444,
             "#bd3786"
            ],
            [
             0.5555555555555556,
             "#d8576b"
            ],
            [
             0.6666666666666666,
             "#ed7953"
            ],
            [
             0.7777777777777778,
             "#fb9f3a"
            ],
            [
             0.8888888888888888,
             "#fdca26"
            ],
            [
             1,
             "#f0f921"
            ]
           ]
          },
          "colorway": [
           "#636efa",
           "#EF553B",
           "#00cc96",
           "#ab63fa",
           "#FFA15A",
           "#19d3f3",
           "#FF6692",
           "#B6E880",
           "#FF97FF",
           "#FECB52"
          ],
          "font": {
           "color": "#2a3f5f"
          },
          "geo": {
           "bgcolor": "white",
           "lakecolor": "white",
           "landcolor": "#E5ECF6",
           "showlakes": true,
           "showland": true,
           "subunitcolor": "white"
          },
          "hoverlabel": {
           "align": "left"
          },
          "hovermode": "closest",
          "mapbox": {
           "style": "light"
          },
          "paper_bgcolor": "white",
          "plot_bgcolor": "#E5ECF6",
          "polar": {
           "angularaxis": {
            "gridcolor": "white",
            "linecolor": "white",
            "ticks": ""
           },
           "bgcolor": "#E5ECF6",
           "radialaxis": {
            "gridcolor": "white",
            "linecolor": "white",
            "ticks": ""
           }
          },
          "scene": {
           "xaxis": {
            "backgroundcolor": "#E5ECF6",
            "gridcolor": "white",
            "gridwidth": 2,
            "linecolor": "white",
            "showbackground": true,
            "ticks": "",
            "zerolinecolor": "white"
           },
           "yaxis": {
            "backgroundcolor": "#E5ECF6",
            "gridcolor": "white",
            "gridwidth": 2,
            "linecolor": "white",
            "showbackground": true,
            "ticks": "",
            "zerolinecolor": "white"
           },
           "zaxis": {
            "backgroundcolor": "#E5ECF6",
            "gridcolor": "white",
            "gridwidth": 2,
            "linecolor": "white",
            "showbackground": true,
            "ticks": "",
            "zerolinecolor": "white"
           }
          },
          "shapedefaults": {
           "line": {
            "color": "#2a3f5f"
           }
          },
          "ternary": {
           "aaxis": {
            "gridcolor": "white",
            "linecolor": "white",
            "ticks": ""
           },
           "baxis": {
            "gridcolor": "white",
            "linecolor": "white",
            "ticks": ""
           },
           "bgcolor": "#E5ECF6",
           "caxis": {
            "gridcolor": "white",
            "linecolor": "white",
            "ticks": ""
           }
          },
          "title": {
           "x": 0.05
          },
          "xaxis": {
           "automargin": true,
           "gridcolor": "white",
           "linecolor": "white",
           "ticks": "",
           "title": {
            "standoff": 15
           },
           "zerolinecolor": "white",
           "zerolinewidth": 2
          },
          "yaxis": {
           "automargin": true,
           "gridcolor": "white",
           "linecolor": "white",
           "ticks": "",
           "title": {
            "standoff": 15
           },
           "zerolinecolor": "white",
           "zerolinewidth": 2
          }
         }
        },
        "title": {
         "text": "Accidents Count by States, 2016-2021"
        }
       }
      },
      "text/html": [
       "<div>                            <div id=\"533584ad-e736-48a7-85ff-483ff8871d90\" class=\"plotly-graph-div\" style=\"height:525px; width:100%;\"></div>            <script type=\"text/javascript\">                require([\"plotly\"], function(Plotly) {                    window.PLOTLYENV=window.PLOTLYENV || {};                                    if (document.getElementById(\"533584ad-e736-48a7-85ff-483ff8871d90\")) {                    Plotly.newPlot(                        \"533584ad-e736-48a7-85ff-483ff8871d90\",                        [{\"colorbar\":{\"title\":{\"text\":\"Accidents Count\"}},\"colorscale\":[[0.0,\"rgb(237, 229, 207)\"],[0.16666666666666666,\"rgb(224, 194, 162)\"],[0.3333333333333333,\"rgb(211, 156, 131)\"],[0.5,\"rgb(193, 118, 111)\"],[0.6666666666666666,\"rgb(166, 84, 97)\"],[0.8333333333333334,\"rgb(129, 55, 83)\"],[1.0,\"rgb(84, 31, 63)\"]],\"locationmode\":\"USA-states\",\"locations\":[\"CA\",\"FL\",\"TX\",\"OR\",\"VA\",\"NY\",\"PA\",\"MN\",\"NC\",\"SC\",\"MD\",\"AZ\",\"NJ\",\"TN\",\"UT\",\"LA\",\"IL\",\"MI\",\"GA\",\"WA\",\"CT\",\"MO\",\"CO\",\"OH\",\"IN\",\"AL\",\"MT\",\"AR\",\"IA\",\"DC\",\"KS\",\"OK\",\"ID\",\"WI\",\"WV\",\"KY\",\"MA\",\"NV\",\"MS\",\"DE\",\"RI\",\"NH\",\"NE\",\"NM\",\"ND\",\"ME\",\"WY\",\"VT\",\"SD\"],\"text\":[],\"z\":[795868,401388,149037,126341,113535,108049,99975,97185,91362,89216,65085,56504,52902,52613,49193,47232,47105,43843,40086,32554,29762,29633,25340,24409,20850,19322,15964,10935,9607,9133,9033,8806,8544,7896,7632,6638,6392,6197,5320,4842,4451,3866,3320,2370,2258,2193,990,365,201],\"type\":\"choropleth\"}],                        {\"geo\":{\"scope\":\"usa\"},\"title\":{\"text\":\"Accidents Count by States, 2016-2021\"},\"template\":{\"data\":{\"bar\":[{\"error_x\":{\"color\":\"#2a3f5f\"},\"error_y\":{\"color\":\"#2a3f5f\"},\"marker\":{\"line\":{\"color\":\"#E5ECF6\",\"width\":0.5},\"pattern\":{\"fillmode\":\"overlay\",\"size\":10,\"solidity\":0.2}},\"type\":\"bar\"}],\"barpolar\":[{\"marker\":{\"line\":{\"color\":\"#E5ECF6\",\"width\":0.5},\"pattern\":{\"fillmode\":\"overlay\",\"size\":10,\"solidity\":0.2}},\"type\":\"barpolar\"}],\"carpet\":[{\"aaxis\":{\"endlinecolor\":\"#2a3f5f\",\"gridcolor\":\"white\",\"linecolor\":\"white\",\"minorgridcolor\":\"white\",\"startlinecolor\":\"#2a3f5f\"},\"baxis\":{\"endlinecolor\":\"#2a3f5f\",\"gridcolor\":\"white\",\"linecolor\":\"white\",\"minorgridcolor\":\"white\",\"startlinecolor\":\"#2a3f5f\"},\"type\":\"carpet\"}],\"choropleth\":[{\"colorbar\":{\"outlinewidth\":0,\"ticks\":\"\"},\"type\":\"choropleth\"}],\"contour\":[{\"colorbar\":{\"outlinewidth\":0,\"ticks\":\"\"},\"colorscale\":[[0.0,\"#0d0887\"],[0.1111111111111111,\"#46039f\"],[0.2222222222222222,\"#7201a8\"],[0.3333333333333333,\"#9c179e\"],[0.4444444444444444,\"#bd3786\"],[0.5555555555555556,\"#d8576b\"],[0.6666666666666666,\"#ed7953\"],[0.7777777777777778,\"#fb9f3a\"],[0.8888888888888888,\"#fdca26\"],[1.0,\"#f0f921\"]],\"type\":\"contour\"}],\"contourcarpet\":[{\"colorbar\":{\"outlinewidth\":0,\"ticks\":\"\"},\"type\":\"contourcarpet\"}],\"heatmap\":[{\"colorbar\":{\"outlinewidth\":0,\"ticks\":\"\"},\"colorscale\":[[0.0,\"#0d0887\"],[0.1111111111111111,\"#46039f\"],[0.2222222222222222,\"#7201a8\"],[0.3333333333333333,\"#9c179e\"],[0.4444444444444444,\"#bd3786\"],[0.5555555555555556,\"#d8576b\"],[0.6666666666666666,\"#ed7953\"],[0.7777777777777778,\"#fb9f3a\"],[0.8888888888888888,\"#fdca26\"],[1.0,\"#f0f921\"]],\"type\":\"heatmap\"}],\"heatmapgl\":[{\"colorbar\":{\"outlinewidth\":0,\"ticks\":\"\"},\"colorscale\":[[0.0,\"#0d0887\"],[0.1111111111111111,\"#46039f\"],[0.2222222222222222,\"#7201a8\"],[0.3333333333333333,\"#9c179e\"],[0.4444444444444444,\"#bd3786\"],[0.5555555555555556,\"#d8576b\"],[0.6666666666666666,\"#ed7953\"],[0.7777777777777778,\"#fb9f3a\"],[0.8888888888888888,\"#fdca26\"],[1.0,\"#f0f921\"]],\"type\":\"heatmapgl\"}],\"histogram\":[{\"marker\":{\"pattern\":{\"fillmode\":\"overlay\",\"size\":10,\"solidity\":0.2}},\"type\":\"histogram\"}],\"histogram2d\":[{\"colorbar\":{\"outlinewidth\":0,\"ticks\":\"\"},\"colorscale\":[[0.0,\"#0d0887\"],[0.1111111111111111,\"#46039f\"],[0.2222222222222222,\"#7201a8\"],[0.3333333333333333,\"#9c179e\"],[0.4444444444444444,\"#bd3786\"],[0.5555555555555556,\"#d8576b\"],[0.6666666666666666,\"#ed7953\"],[0.7777777777777778,\"#fb9f3a\"],[0.8888888888888888,\"#fdca26\"],[1.0,\"#f0f921\"]],\"type\":\"histogram2d\"}],\"histogram2dcontour\":[{\"colorbar\":{\"outlinewidth\":0,\"ticks\":\"\"},\"colorscale\":[[0.0,\"#0d0887\"],[0.1111111111111111,\"#46039f\"],[0.2222222222222222,\"#7201a8\"],[0.3333333333333333,\"#9c179e\"],[0.4444444444444444,\"#bd3786\"],[0.5555555555555556,\"#d8576b\"],[0.6666666666666666,\"#ed7953\"],[0.7777777777777778,\"#fb9f3a\"],[0.8888888888888888,\"#fdca26\"],[1.0,\"#f0f921\"]],\"type\":\"histogram2dcontour\"}],\"mesh3d\":[{\"colorbar\":{\"outlinewidth\":0,\"ticks\":\"\"},\"type\":\"mesh3d\"}],\"parcoords\":[{\"line\":{\"colorbar\":{\"outlinewidth\":0,\"ticks\":\"\"}},\"type\":\"parcoords\"}],\"pie\":[{\"automargin\":true,\"type\":\"pie\"}],\"scatter\":[{\"marker\":{\"colorbar\":{\"outlinewidth\":0,\"ticks\":\"\"}},\"type\":\"scatter\"}],\"scatter3d\":[{\"line\":{\"colorbar\":{\"outlinewidth\":0,\"ticks\":\"\"}},\"marker\":{\"colorbar\":{\"outlinewidth\":0,\"ticks\":\"\"}},\"type\":\"scatter3d\"}],\"scattercarpet\":[{\"marker\":{\"colorbar\":{\"outlinewidth\":0,\"ticks\":\"\"}},\"type\":\"scattercarpet\"}],\"scattergeo\":[{\"marker\":{\"colorbar\":{\"outlinewidth\":0,\"ticks\":\"\"}},\"type\":\"scattergeo\"}],\"scattergl\":[{\"marker\":{\"colorbar\":{\"outlinewidth\":0,\"ticks\":\"\"}},\"type\":\"scattergl\"}],\"scattermapbox\":[{\"marker\":{\"colorbar\":{\"outlinewidth\":0,\"ticks\":\"\"}},\"type\":\"scattermapbox\"}],\"scatterpolar\":[{\"marker\":{\"colorbar\":{\"outlinewidth\":0,\"ticks\":\"\"}},\"type\":\"scatterpolar\"}],\"scatterpolargl\":[{\"marker\":{\"colorbar\":{\"outlinewidth\":0,\"ticks\":\"\"}},\"type\":\"scatterpolargl\"}],\"scatterternary\":[{\"marker\":{\"colorbar\":{\"outlinewidth\":0,\"ticks\":\"\"}},\"type\":\"scatterternary\"}],\"surface\":[{\"colorbar\":{\"outlinewidth\":0,\"ticks\":\"\"},\"colorscale\":[[0.0,\"#0d0887\"],[0.1111111111111111,\"#46039f\"],[0.2222222222222222,\"#7201a8\"],[0.3333333333333333,\"#9c179e\"],[0.4444444444444444,\"#bd3786\"],[0.5555555555555556,\"#d8576b\"],[0.6666666666666666,\"#ed7953\"],[0.7777777777777778,\"#fb9f3a\"],[0.8888888888888888,\"#fdca26\"],[1.0,\"#f0f921\"]],\"type\":\"surface\"}],\"table\":[{\"cells\":{\"fill\":{\"color\":\"#EBF0F8\"},\"line\":{\"color\":\"white\"}},\"header\":{\"fill\":{\"color\":\"#C8D4E3\"},\"line\":{\"color\":\"white\"}},\"type\":\"table\"}]},\"layout\":{\"annotationdefaults\":{\"arrowcolor\":\"#2a3f5f\",\"arrowhead\":0,\"arrowwidth\":1},\"autotypenumbers\":\"strict\",\"coloraxis\":{\"colorbar\":{\"outlinewidth\":0,\"ticks\":\"\"}},\"colorscale\":{\"diverging\":[[0,\"#8e0152\"],[0.1,\"#c51b7d\"],[0.2,\"#de77ae\"],[0.3,\"#f1b6da\"],[0.4,\"#fde0ef\"],[0.5,\"#f7f7f7\"],[0.6,\"#e6f5d0\"],[0.7,\"#b8e186\"],[0.8,\"#7fbc41\"],[0.9,\"#4d9221\"],[1,\"#276419\"]],\"sequential\":[[0.0,\"#0d0887\"],[0.1111111111111111,\"#46039f\"],[0.2222222222222222,\"#7201a8\"],[0.3333333333333333,\"#9c179e\"],[0.4444444444444444,\"#bd3786\"],[0.5555555555555556,\"#d8576b\"],[0.6666666666666666,\"#ed7953\"],[0.7777777777777778,\"#fb9f3a\"],[0.8888888888888888,\"#fdca26\"],[1.0,\"#f0f921\"]],\"sequentialminus\":[[0.0,\"#0d0887\"],[0.1111111111111111,\"#46039f\"],[0.2222222222222222,\"#7201a8\"],[0.3333333333333333,\"#9c179e\"],[0.4444444444444444,\"#bd3786\"],[0.5555555555555556,\"#d8576b\"],[0.6666666666666666,\"#ed7953\"],[0.7777777777777778,\"#fb9f3a\"],[0.8888888888888888,\"#fdca26\"],[1.0,\"#f0f921\"]]},\"colorway\":[\"#636efa\",\"#EF553B\",\"#00cc96\",\"#ab63fa\",\"#FFA15A\",\"#19d3f3\",\"#FF6692\",\"#B6E880\",\"#FF97FF\",\"#FECB52\"],\"font\":{\"color\":\"#2a3f5f\"},\"geo\":{\"bgcolor\":\"white\",\"lakecolor\":\"white\",\"landcolor\":\"#E5ECF6\",\"showlakes\":true,\"showland\":true,\"subunitcolor\":\"white\"},\"hoverlabel\":{\"align\":\"left\"},\"hovermode\":\"closest\",\"mapbox\":{\"style\":\"light\"},\"paper_bgcolor\":\"white\",\"plot_bgcolor\":\"#E5ECF6\",\"polar\":{\"angularaxis\":{\"gridcolor\":\"white\",\"linecolor\":\"white\",\"ticks\":\"\"},\"bgcolor\":\"#E5ECF6\",\"radialaxis\":{\"gridcolor\":\"white\",\"linecolor\":\"white\",\"ticks\":\"\"}},\"scene\":{\"xaxis\":{\"backgroundcolor\":\"#E5ECF6\",\"gridcolor\":\"white\",\"gridwidth\":2,\"linecolor\":\"white\",\"showbackground\":true,\"ticks\":\"\",\"zerolinecolor\":\"white\"},\"yaxis\":{\"backgroundcolor\":\"#E5ECF6\",\"gridcolor\":\"white\",\"gridwidth\":2,\"linecolor\":\"white\",\"showbackground\":true,\"ticks\":\"\",\"zerolinecolor\":\"white\"},\"zaxis\":{\"backgroundcolor\":\"#E5ECF6\",\"gridcolor\":\"white\",\"gridwidth\":2,\"linecolor\":\"white\",\"showbackground\":true,\"ticks\":\"\",\"zerolinecolor\":\"white\"}},\"shapedefaults\":{\"line\":{\"color\":\"#2a3f5f\"}},\"ternary\":{\"aaxis\":{\"gridcolor\":\"white\",\"linecolor\":\"white\",\"ticks\":\"\"},\"baxis\":{\"gridcolor\":\"white\",\"linecolor\":\"white\",\"ticks\":\"\"},\"bgcolor\":\"#E5ECF6\",\"caxis\":{\"gridcolor\":\"white\",\"linecolor\":\"white\",\"ticks\":\"\"}},\"title\":{\"x\":0.05},\"xaxis\":{\"automargin\":true,\"gridcolor\":\"white\",\"linecolor\":\"white\",\"ticks\":\"\",\"title\":{\"standoff\":15},\"zerolinecolor\":\"white\",\"zerolinewidth\":2},\"yaxis\":{\"automargin\":true,\"gridcolor\":\"white\",\"linecolor\":\"white\",\"ticks\":\"\",\"title\":{\"standoff\":15},\"zerolinecolor\":\"white\",\"zerolinewidth\":2}}}},                        {\"responsive\": true}                    ).then(function(){\n",
       "                            \n",
       "var gd = document.getElementById('533584ad-e736-48a7-85ff-483ff8871d90');\n",
       "var x = new MutationObserver(function (mutations, observer) {{\n",
       "        var display = window.getComputedStyle(gd).display;\n",
       "        if (!display || display === 'none') {{\n",
       "            console.log([gd, 'removed!']);\n",
       "            Plotly.purge(gd);\n",
       "            observer.disconnect();\n",
       "        }}\n",
       "}});\n",
       "\n",
       "// Listen for the removal of the full notebook cells\n",
       "var notebookContainer = gd.closest('#notebook-container');\n",
       "if (notebookContainer) {{\n",
       "    x.observe(notebookContainer, {childList: true});\n",
       "}}\n",
       "\n",
       "// Listen for the clearing of the current output cell\n",
       "var outputEl = gd.closest('.output');\n",
       "if (outputEl) {{\n",
       "    x.observe(outputEl, {childList: true});\n",
       "}}\n",
       "\n",
       "                        })                };                });            </script>        </div>"
      ]
     },
     "metadata": {},
     "output_type": "display_data"
    }
   ],
   "source": [
    "data = dict(\n",
    "        type = 'choropleth',\n",
    "        locations = df_states['State'],\n",
    "        locationmode = 'USA-states',\n",
    "        z = df_states['Accidents_count'],\n",
    "        text = [],\n",
    "        colorscale = 'brwnyl',\n",
    "        colorbar = {'title' : 'Accidents Count'},\n",
    "      )\n",
    "\n",
    "layout = dict(title = 'Accidents Count by States, 2016-2021',\n",
    "              geo = {'scope':'usa'})\n",
    "\n",
    "choromap = go.Figure(data = [data],layout = layout,skip_invalid=True)\n",
    "iplot(choromap,validate=False)"
   ]
  },
  {
   "cell_type": "markdown",
   "id": "6c37a2c8",
   "metadata": {},
   "source": [
    "We will make pretty the same as for cities: compare total number of accidents with number of accidents per 1,000 population"
   ]
  },
  {
   "cell_type": "code",
   "execution_count": 144,
   "id": "c7b3eb21",
   "metadata": {},
   "outputs": [
    {
     "data": {
      "text/html": [
       "<div>\n",
       "<style scoped>\n",
       "    .dataframe tbody tr th:only-of-type {\n",
       "        vertical-align: middle;\n",
       "    }\n",
       "\n",
       "    .dataframe tbody tr th {\n",
       "        vertical-align: top;\n",
       "    }\n",
       "\n",
       "    .dataframe thead th {\n",
       "        text-align: right;\n",
       "    }\n",
       "</style>\n",
       "<table border=\"1\" class=\"dataframe\">\n",
       "  <thead>\n",
       "    <tr style=\"text-align: right;\">\n",
       "      <th></th>\n",
       "      <th>2020</th>\n",
       "      <th>2010</th>\n",
       "      <th>State</th>\n",
       "      <th>July 1, 2021 (est.)</th>\n",
       "      <th>April 1, 2020</th>\n",
       "      <th>April 1, 2010</th>\n",
       "      <th>%</th>\n",
       "      <th>Abs.</th>\n",
       "      <th>Seats</th>\n",
       "      <th>%</th>\n",
       "      <th>Pop. per elec. vote, 2020[b] from the 2022 elections</th>\n",
       "      <th>From 2022</th>\n",
       "      <th>2010</th>\n",
       "      <th>2020</th>\n",
       "      <th>2010</th>\n",
       "      <th>% of Elec. Coll.</th>\n",
       "      <th>Unnamed: 16_level_1</th>\n",
       "    </tr>\n",
       "  </thead>\n",
       "  <tbody>\n",
       "    <tr>\n",
       "      <th>0</th>\n",
       "      <td>1.0</td>\n",
       "      <td>1.0</td>\n",
       "      <td>CA</td>\n",
       "      <td>39237836.0</td>\n",
       "      <td>39538223</td>\n",
       "      <td>37253956</td>\n",
       "      <td>6.13%</td>\n",
       "      <td>2284267</td>\n",
       "      <td>52</td>\n",
       "      <td>11.95%</td>\n",
       "      <td>732189</td>\n",
       "      <td>760350</td>\n",
       "      <td>702905</td>\n",
       "      <td>11.800%</td>\n",
       "      <td>11.908%</td>\n",
       "      <td>10.04%</td>\n",
       "      <td>NaN</td>\n",
       "    </tr>\n",
       "    <tr>\n",
       "      <th>1</th>\n",
       "      <td>2.0</td>\n",
       "      <td>2.0</td>\n",
       "      <td>TX</td>\n",
       "      <td>29527941.0</td>\n",
       "      <td>29145505</td>\n",
       "      <td>25145561</td>\n",
       "      <td>15.91%</td>\n",
       "      <td>3999944</td>\n",
       "      <td>38</td>\n",
       "      <td>8.74%</td>\n",
       "      <td>728638</td>\n",
       "      <td>766987</td>\n",
       "      <td>698488</td>\n",
       "      <td>8.698%</td>\n",
       "      <td>8.038%</td>\n",
       "      <td>7.43%</td>\n",
       "      <td>NaN</td>\n",
       "    </tr>\n",
       "    <tr>\n",
       "      <th>2</th>\n",
       "      <td>3.0</td>\n",
       "      <td>4.0</td>\n",
       "      <td>FL</td>\n",
       "      <td>21781128.0</td>\n",
       "      <td>21538187</td>\n",
       "      <td>18801310</td>\n",
       "      <td>14.56%</td>\n",
       "      <td>2736877</td>\n",
       "      <td>28</td>\n",
       "      <td>6.44%</td>\n",
       "      <td>717940</td>\n",
       "      <td>769221</td>\n",
       "      <td>696345</td>\n",
       "      <td>6.428%</td>\n",
       "      <td>6.010%</td>\n",
       "      <td>5.58%</td>\n",
       "      <td>NaN</td>\n",
       "    </tr>\n",
       "  </tbody>\n",
       "</table>\n",
       "</div>"
      ],
      "text/plain": [
       "  2020 2010 State  July 1, 2021 (est.)  April 1, 2020  April 1, 2010       %  \\\n",
       "0  1.0  1.0    CA           39237836.0       39538223       37253956   6.13%   \n",
       "1  2.0  2.0    TX           29527941.0       29145505       25145561  15.91%   \n",
       "2  3.0  4.0    FL           21781128.0       21538187       18801310  14.56%   \n",
       "\n",
       "      Abs. Seats       % Pop. per elec. vote, 2020[b] from the 2022 elections  \\\n",
       "0  2284267    52  11.95%                                             732189     \n",
       "1  3999944    38   8.74%                                             728638     \n",
       "2  2736877    28   6.44%                                             717940     \n",
       "\n",
       "  From 2022    2010     2020     2010 % of Elec. Coll. Unnamed: 16_level_1  \n",
       "0    760350  702905  11.800%  11.908%           10.04%                 NaN  \n",
       "1    766987  698488   8.698%   8.038%            7.43%                 NaN  \n",
       "2    769221  696345   6.428%   6.010%            5.58%                 NaN  "
      ]
     },
     "execution_count": 144,
     "metadata": {},
     "output_type": "execute_result"
    }
   ],
   "source": [
    "wiki_states_population = pd.read_html(\"https://en.wikipedia.org/wiki/List_of_U.S._states_and_territories_by_population\")\n",
    "df_states_population = wiki_states_population[0]\n",
    "df_states_population=df_states_population.droplevel(0, axis=1).rename(columns={'State or territory': 'State'})\n",
    "\n",
    "\n",
    "us_state_abbrev = {\n",
    "'Alabama': 'AL', 'Alaska': 'AK', 'Arizona': 'AZ', 'Arkansas': 'AR', 'California': 'CA', 'Colorado': 'CO',\n",
    "'Connecticut': 'CT', 'Delaware': 'DE', 'Florida': 'FL', 'Georgia': 'GA', 'Hawaii': 'HI', 'Idaho': 'ID',\n",
    "'Illinois': 'IL', 'Indiana': 'IN', 'Iowa': 'IA', 'Kansas': 'KS', 'Kentucky': 'KY', 'Louisiana': 'LA',\n",
    "'Maine': 'ME', 'Maryland': 'MD', 'Massachusetts': 'MA', 'Michigan': 'MI', 'Minnesota': 'MN', 'Mississippi': 'MS',\n",
    "'Missouri': 'MO', 'Montana': 'MT', 'Nebraska': 'NE', 'Nevada': 'NV', 'New Hampshire': 'NH', 'New Jersey': 'NJ',\n",
    "'New Mexico': 'NM', 'New York': 'NY', 'North Carolina': 'NC', 'North Dakota': 'ND', 'Ohio': 'OH', 'Oklahoma': 'OK',\n",
    "'Oregon': 'OR', 'Pennsylvania': 'PA', 'Rhode Island': 'RI', 'South Carolina': 'SC', 'South Dakota': 'SD',\n",
    "'Tennessee': 'TN', 'Texas': 'TX', 'Utah': 'UT', 'Vermont': 'VT', 'Virginia': 'VA', 'Washington': 'WA',\n",
    "'West Virginia': 'WV', 'Wisconsin': 'WI', 'Wyoming': 'WY'}\n",
    "\n",
    "df_states_population['State'] = df_states_population['State'].map(us_state_abbrev).fillna(df_states_population['State'])\n",
    "\n",
    "df_states_population.head(3)"
   ]
  },
  {
   "cell_type": "code",
   "execution_count": 145,
   "id": "ec81bb0d",
   "metadata": {},
   "outputs": [
    {
     "data": {
      "text/html": [
       "<div>\n",
       "<style scoped>\n",
       "    .dataframe tbody tr th:only-of-type {\n",
       "        vertical-align: middle;\n",
       "    }\n",
       "\n",
       "    .dataframe tbody tr th {\n",
       "        vertical-align: top;\n",
       "    }\n",
       "\n",
       "    .dataframe thead th {\n",
       "        text-align: right;\n",
       "    }\n",
       "</style>\n",
       "<table border=\"1\" class=\"dataframe\">\n",
       "  <thead>\n",
       "    <tr style=\"text-align: right;\">\n",
       "      <th></th>\n",
       "      <th>State</th>\n",
       "      <th>Accidents_count_2021</th>\n",
       "      <th>2020</th>\n",
       "      <th>2010</th>\n",
       "      <th>July 1, 2021 (est.)</th>\n",
       "      <th>April 1, 2020</th>\n",
       "      <th>April 1, 2010</th>\n",
       "      <th>%</th>\n",
       "      <th>Abs.</th>\n",
       "      <th>Seats</th>\n",
       "      <th>%</th>\n",
       "      <th>Pop. per elec. vote, 2020[b] from the 2022 elections</th>\n",
       "      <th>From 2022</th>\n",
       "      <th>2010</th>\n",
       "      <th>2020</th>\n",
       "      <th>2010</th>\n",
       "      <th>% of Elec. Coll.</th>\n",
       "      <th>Unnamed: 16_level_1</th>\n",
       "      <th>Accidents per 1,000 population</th>\n",
       "    </tr>\n",
       "  </thead>\n",
       "  <tbody>\n",
       "    <tr>\n",
       "      <th>4</th>\n",
       "      <td>SC</td>\n",
       "      <td>66813</td>\n",
       "      <td>23.0</td>\n",
       "      <td>24.0</td>\n",
       "      <td>5190705.0</td>\n",
       "      <td>5118425</td>\n",
       "      <td>4625364</td>\n",
       "      <td>10.66%</td>\n",
       "      <td>493061</td>\n",
       "      <td>7</td>\n",
       "      <td>1.61%</td>\n",
       "      <td>568714</td>\n",
       "      <td>731204</td>\n",
       "      <td>660766</td>\n",
       "      <td>1.528%</td>\n",
       "      <td>1.478%</td>\n",
       "      <td>1.67%</td>\n",
       "      <td>NaN</td>\n",
       "      <td>12.871662</td>\n",
       "    </tr>\n",
       "    <tr>\n",
       "      <th>1</th>\n",
       "      <td>FL</td>\n",
       "      <td>278395</td>\n",
       "      <td>3.0</td>\n",
       "      <td>4.0</td>\n",
       "      <td>21781128.0</td>\n",
       "      <td>21538187</td>\n",
       "      <td>18801310</td>\n",
       "      <td>14.56%</td>\n",
       "      <td>2736877</td>\n",
       "      <td>28</td>\n",
       "      <td>6.44%</td>\n",
       "      <td>717940</td>\n",
       "      <td>769221</td>\n",
       "      <td>696345</td>\n",
       "      <td>6.428%</td>\n",
       "      <td>6.010%</td>\n",
       "      <td>5.58%</td>\n",
       "      <td>NaN</td>\n",
       "      <td>12.781478</td>\n",
       "    </tr>\n",
       "    <tr>\n",
       "      <th>19</th>\n",
       "      <td>MT</td>\n",
       "      <td>13327</td>\n",
       "      <td>45.0</td>\n",
       "      <td>45.0</td>\n",
       "      <td>1104271.0</td>\n",
       "      <td>1084225</td>\n",
       "      <td>989415</td>\n",
       "      <td>9.58%</td>\n",
       "      <td>94810</td>\n",
       "      <td>2</td>\n",
       "      <td>0.46%</td>\n",
       "      <td>271056</td>\n",
       "      <td>542113</td>\n",
       "      <td>989415</td>\n",
       "      <td>0.324%</td>\n",
       "      <td>0.316%</td>\n",
       "      <td>0.74%</td>\n",
       "      <td>NaN</td>\n",
       "      <td>12.068595</td>\n",
       "    </tr>\n",
       "  </tbody>\n",
       "</table>\n",
       "</div>"
      ],
      "text/plain": [
       "   State  Accidents_count_2021  2020  2010  July 1, 2021 (est.)  \\\n",
       "4     SC                 66813  23.0  24.0            5190705.0   \n",
       "1     FL                278395   3.0   4.0           21781128.0   \n",
       "19    MT                 13327  45.0  45.0            1104271.0   \n",
       "\n",
       "    April 1, 2020  April 1, 2010       %     Abs. Seats      %  \\\n",
       "4         5118425        4625364  10.66%   493061     7  1.61%   \n",
       "1        21538187       18801310  14.56%  2736877    28  6.44%   \n",
       "19        1084225         989415   9.58%    94810     2  0.46%   \n",
       "\n",
       "   Pop. per elec. vote, 2020[b] from the 2022 elections From 2022    2010  \\\n",
       "4                                              568714      731204  660766   \n",
       "1                                              717940      769221  696345   \n",
       "19                                             271056      542113  989415   \n",
       "\n",
       "      2020    2010 % of Elec. Coll. Unnamed: 16_level_1  \\\n",
       "4   1.528%  1.478%            1.67%                 NaN   \n",
       "1   6.428%  6.010%            5.58%                 NaN   \n",
       "19  0.324%  0.316%            0.74%                 NaN   \n",
       "\n",
       "    Accidents per 1,000 population  \n",
       "4                        12.871662  \n",
       "1                        12.781478  \n",
       "19                       12.068595  "
      ]
     },
     "execution_count": 145,
     "metadata": {},
     "output_type": "execute_result"
    }
   ],
   "source": [
    "df_states_2021 = accidents_2021['State'].value_counts().to_frame().reset_index().set_axis(['State', 'Accidents_count_2021'], axis=1)\n",
    "df_states_2021.head(3)\n",
    "\n",
    "accidents_vs_state_population = pd.merge(df_states_2021,df_states_population,how='inner',on='State')\n",
    "accidents_vs_state_population['Accidents per 1,000 population'] = accidents_vs_state_population['Accidents_count_2021'] / accidents_vs_state_population['July 1, 2021 (est.)'] * 1000\n",
    "accidents_vs_state_population = accidents_vs_state_population.sort_values(['Accidents per 1,000 population'],ascending=[False])\n",
    "accidents_vs_state_population.head(3)"
   ]
  },
  {
   "cell_type": "code",
   "execution_count": 146,
   "id": "2c8d2ff6",
   "metadata": {},
   "outputs": [
    {
     "data": {
      "application/vnd.plotly.v1+json": {
       "config": {
        "linkText": "Export to plot.ly",
        "plotlyServerURL": "https://plot.ly",
        "showLink": false
       },
       "data": [
        {
         "colorbar": {
          "title": {
           "text": "Accidents per 1,000 population"
          }
         },
         "colorscale": [
          [
           0,
           "rgb(237, 229, 207)"
          ],
          [
           0.16666666666666666,
           "rgb(224, 194, 162)"
          ],
          [
           0.3333333333333333,
           "rgb(211, 156, 131)"
          ],
          [
           0.5,
           "rgb(193, 118, 111)"
          ],
          [
           0.6666666666666666,
           "rgb(166, 84, 97)"
          ],
          [
           0.8333333333333334,
           "rgb(129, 55, 83)"
          ],
          [
           1,
           "rgb(84, 31, 63)"
          ]
         ],
         "locationmode": "USA-states",
         "locations": [
          "SC",
          "FL",
          "MT",
          "OR",
          "CA",
          "MN",
          "VA",
          "LA",
          "MD",
          "UT",
          "PA",
          "TN",
          "NC",
          "CT",
          "AZ",
          "NY",
          "TX",
          "NJ",
          "DE",
          "ID",
          "WV",
          "AR",
          "ND",
          "AL",
          "MO",
          "MI",
          "IA",
          "IN",
          "KS",
          "WA",
          "CO",
          "WY",
          "GA",
          "MS",
          "NV",
          "OK",
          "RI",
          "IL",
          "NE",
          "NM",
          "OH",
          "KY",
          "MA",
          "NH",
          "WI",
          "VT",
          "SD",
          "ME"
         ],
         "text": [],
         "type": "choropleth",
         "z": [
          12.871661941874947,
          12.781477616769893,
          12.06859548063836,
          10.682134778405404,
          9.909771782521341,
          8.96451793201446,
          8.324198006219197,
          6.961434431786701,
          5.789173267907289,
          5.3223749536854355,
          5.010006127711883,
          4.882284682715293,
          4.78800344454952,
          4.514647643649582,
          4.130249428419546,
          2.8334465875102395,
          2.831386042121935,
          2.805830931475009,
          2.7895601285250713,
          2.714996872571903,
          2.678693116330774,
          2.431680453790305,
          2.4040322705523467,
          2.3020403077297322,
          2.2917593127445715,
          1.868704923413643,
          1.7055638147380632,
          1.4863388620456848,
          1.4853904235765094,
          1.4052762404809493,
          1.1854642468972751,
          1.1523782703268644,
          1.1116187446791843,
          0.9518757002201721,
          0.9077634128087517,
          0.8398051591829608,
          0.7776489809329962,
          0.6508321963301966,
          0.6360467934889993,
          0.47308988187876705,
          0.2795411925127103,
          0.2652241077182433,
          0.1168263938312228,
          0.05615583099110722,
          0.03171691281478612,
          0.024784299146490697,
          0.02457068315433963,
          0.004372390684767392
         ]
        }
       ],
       "layout": {
        "geo": {
         "scope": "usa"
        },
        "template": {
         "data": {
          "bar": [
           {
            "error_x": {
             "color": "#2a3f5f"
            },
            "error_y": {
             "color": "#2a3f5f"
            },
            "marker": {
             "line": {
              "color": "#E5ECF6",
              "width": 0.5
             },
             "pattern": {
              "fillmode": "overlay",
              "size": 10,
              "solidity": 0.2
             }
            },
            "type": "bar"
           }
          ],
          "barpolar": [
           {
            "marker": {
             "line": {
              "color": "#E5ECF6",
              "width": 0.5
             },
             "pattern": {
              "fillmode": "overlay",
              "size": 10,
              "solidity": 0.2
             }
            },
            "type": "barpolar"
           }
          ],
          "carpet": [
           {
            "aaxis": {
             "endlinecolor": "#2a3f5f",
             "gridcolor": "white",
             "linecolor": "white",
             "minorgridcolor": "white",
             "startlinecolor": "#2a3f5f"
            },
            "baxis": {
             "endlinecolor": "#2a3f5f",
             "gridcolor": "white",
             "linecolor": "white",
             "minorgridcolor": "white",
             "startlinecolor": "#2a3f5f"
            },
            "type": "carpet"
           }
          ],
          "choropleth": [
           {
            "colorbar": {
             "outlinewidth": 0,
             "ticks": ""
            },
            "type": "choropleth"
           }
          ],
          "contour": [
           {
            "colorbar": {
             "outlinewidth": 0,
             "ticks": ""
            },
            "colorscale": [
             [
              0,
              "#0d0887"
             ],
             [
              0.1111111111111111,
              "#46039f"
             ],
             [
              0.2222222222222222,
              "#7201a8"
             ],
             [
              0.3333333333333333,
              "#9c179e"
             ],
             [
              0.4444444444444444,
              "#bd3786"
             ],
             [
              0.5555555555555556,
              "#d8576b"
             ],
             [
              0.6666666666666666,
              "#ed7953"
             ],
             [
              0.7777777777777778,
              "#fb9f3a"
             ],
             [
              0.8888888888888888,
              "#fdca26"
             ],
             [
              1,
              "#f0f921"
             ]
            ],
            "type": "contour"
           }
          ],
          "contourcarpet": [
           {
            "colorbar": {
             "outlinewidth": 0,
             "ticks": ""
            },
            "type": "contourcarpet"
           }
          ],
          "heatmap": [
           {
            "colorbar": {
             "outlinewidth": 0,
             "ticks": ""
            },
            "colorscale": [
             [
              0,
              "#0d0887"
             ],
             [
              0.1111111111111111,
              "#46039f"
             ],
             [
              0.2222222222222222,
              "#7201a8"
             ],
             [
              0.3333333333333333,
              "#9c179e"
             ],
             [
              0.4444444444444444,
              "#bd3786"
             ],
             [
              0.5555555555555556,
              "#d8576b"
             ],
             [
              0.6666666666666666,
              "#ed7953"
             ],
             [
              0.7777777777777778,
              "#fb9f3a"
             ],
             [
              0.8888888888888888,
              "#fdca26"
             ],
             [
              1,
              "#f0f921"
             ]
            ],
            "type": "heatmap"
           }
          ],
          "heatmapgl": [
           {
            "colorbar": {
             "outlinewidth": 0,
             "ticks": ""
            },
            "colorscale": [
             [
              0,
              "#0d0887"
             ],
             [
              0.1111111111111111,
              "#46039f"
             ],
             [
              0.2222222222222222,
              "#7201a8"
             ],
             [
              0.3333333333333333,
              "#9c179e"
             ],
             [
              0.4444444444444444,
              "#bd3786"
             ],
             [
              0.5555555555555556,
              "#d8576b"
             ],
             [
              0.6666666666666666,
              "#ed7953"
             ],
             [
              0.7777777777777778,
              "#fb9f3a"
             ],
             [
              0.8888888888888888,
              "#fdca26"
             ],
             [
              1,
              "#f0f921"
             ]
            ],
            "type": "heatmapgl"
           }
          ],
          "histogram": [
           {
            "marker": {
             "pattern": {
              "fillmode": "overlay",
              "size": 10,
              "solidity": 0.2
             }
            },
            "type": "histogram"
           }
          ],
          "histogram2d": [
           {
            "colorbar": {
             "outlinewidth": 0,
             "ticks": ""
            },
            "colorscale": [
             [
              0,
              "#0d0887"
             ],
             [
              0.1111111111111111,
              "#46039f"
             ],
             [
              0.2222222222222222,
              "#7201a8"
             ],
             [
              0.3333333333333333,
              "#9c179e"
             ],
             [
              0.4444444444444444,
              "#bd3786"
             ],
             [
              0.5555555555555556,
              "#d8576b"
             ],
             [
              0.6666666666666666,
              "#ed7953"
             ],
             [
              0.7777777777777778,
              "#fb9f3a"
             ],
             [
              0.8888888888888888,
              "#fdca26"
             ],
             [
              1,
              "#f0f921"
             ]
            ],
            "type": "histogram2d"
           }
          ],
          "histogram2dcontour": [
           {
            "colorbar": {
             "outlinewidth": 0,
             "ticks": ""
            },
            "colorscale": [
             [
              0,
              "#0d0887"
             ],
             [
              0.1111111111111111,
              "#46039f"
             ],
             [
              0.2222222222222222,
              "#7201a8"
             ],
             [
              0.3333333333333333,
              "#9c179e"
             ],
             [
              0.4444444444444444,
              "#bd3786"
             ],
             [
              0.5555555555555556,
              "#d8576b"
             ],
             [
              0.6666666666666666,
              "#ed7953"
             ],
             [
              0.7777777777777778,
              "#fb9f3a"
             ],
             [
              0.8888888888888888,
              "#fdca26"
             ],
             [
              1,
              "#f0f921"
             ]
            ],
            "type": "histogram2dcontour"
           }
          ],
          "mesh3d": [
           {
            "colorbar": {
             "outlinewidth": 0,
             "ticks": ""
            },
            "type": "mesh3d"
           }
          ],
          "parcoords": [
           {
            "line": {
             "colorbar": {
              "outlinewidth": 0,
              "ticks": ""
             }
            },
            "type": "parcoords"
           }
          ],
          "pie": [
           {
            "automargin": true,
            "type": "pie"
           }
          ],
          "scatter": [
           {
            "marker": {
             "colorbar": {
              "outlinewidth": 0,
              "ticks": ""
             }
            },
            "type": "scatter"
           }
          ],
          "scatter3d": [
           {
            "line": {
             "colorbar": {
              "outlinewidth": 0,
              "ticks": ""
             }
            },
            "marker": {
             "colorbar": {
              "outlinewidth": 0,
              "ticks": ""
             }
            },
            "type": "scatter3d"
           }
          ],
          "scattercarpet": [
           {
            "marker": {
             "colorbar": {
              "outlinewidth": 0,
              "ticks": ""
             }
            },
            "type": "scattercarpet"
           }
          ],
          "scattergeo": [
           {
            "marker": {
             "colorbar": {
              "outlinewidth": 0,
              "ticks": ""
             }
            },
            "type": "scattergeo"
           }
          ],
          "scattergl": [
           {
            "marker": {
             "colorbar": {
              "outlinewidth": 0,
              "ticks": ""
             }
            },
            "type": "scattergl"
           }
          ],
          "scattermapbox": [
           {
            "marker": {
             "colorbar": {
              "outlinewidth": 0,
              "ticks": ""
             }
            },
            "type": "scattermapbox"
           }
          ],
          "scatterpolar": [
           {
            "marker": {
             "colorbar": {
              "outlinewidth": 0,
              "ticks": ""
             }
            },
            "type": "scatterpolar"
           }
          ],
          "scatterpolargl": [
           {
            "marker": {
             "colorbar": {
              "outlinewidth": 0,
              "ticks": ""
             }
            },
            "type": "scatterpolargl"
           }
          ],
          "scatterternary": [
           {
            "marker": {
             "colorbar": {
              "outlinewidth": 0,
              "ticks": ""
             }
            },
            "type": "scatterternary"
           }
          ],
          "surface": [
           {
            "colorbar": {
             "outlinewidth": 0,
             "ticks": ""
            },
            "colorscale": [
             [
              0,
              "#0d0887"
             ],
             [
              0.1111111111111111,
              "#46039f"
             ],
             [
              0.2222222222222222,
              "#7201a8"
             ],
             [
              0.3333333333333333,
              "#9c179e"
             ],
             [
              0.4444444444444444,
              "#bd3786"
             ],
             [
              0.5555555555555556,
              "#d8576b"
             ],
             [
              0.6666666666666666,
              "#ed7953"
             ],
             [
              0.7777777777777778,
              "#fb9f3a"
             ],
             [
              0.8888888888888888,
              "#fdca26"
             ],
             [
              1,
              "#f0f921"
             ]
            ],
            "type": "surface"
           }
          ],
          "table": [
           {
            "cells": {
             "fill": {
              "color": "#EBF0F8"
             },
             "line": {
              "color": "white"
             }
            },
            "header": {
             "fill": {
              "color": "#C8D4E3"
             },
             "line": {
              "color": "white"
             }
            },
            "type": "table"
           }
          ]
         },
         "layout": {
          "annotationdefaults": {
           "arrowcolor": "#2a3f5f",
           "arrowhead": 0,
           "arrowwidth": 1
          },
          "autotypenumbers": "strict",
          "coloraxis": {
           "colorbar": {
            "outlinewidth": 0,
            "ticks": ""
           }
          },
          "colorscale": {
           "diverging": [
            [
             0,
             "#8e0152"
            ],
            [
             0.1,
             "#c51b7d"
            ],
            [
             0.2,
             "#de77ae"
            ],
            [
             0.3,
             "#f1b6da"
            ],
            [
             0.4,
             "#fde0ef"
            ],
            [
             0.5,
             "#f7f7f7"
            ],
            [
             0.6,
             "#e6f5d0"
            ],
            [
             0.7,
             "#b8e186"
            ],
            [
             0.8,
             "#7fbc41"
            ],
            [
             0.9,
             "#4d9221"
            ],
            [
             1,
             "#276419"
            ]
           ],
           "sequential": [
            [
             0,
             "#0d0887"
            ],
            [
             0.1111111111111111,
             "#46039f"
            ],
            [
             0.2222222222222222,
             "#7201a8"
            ],
            [
             0.3333333333333333,
             "#9c179e"
            ],
            [
             0.4444444444444444,
             "#bd3786"
            ],
            [
             0.5555555555555556,
             "#d8576b"
            ],
            [
             0.6666666666666666,
             "#ed7953"
            ],
            [
             0.7777777777777778,
             "#fb9f3a"
            ],
            [
             0.8888888888888888,
             "#fdca26"
            ],
            [
             1,
             "#f0f921"
            ]
           ],
           "sequentialminus": [
            [
             0,
             "#0d0887"
            ],
            [
             0.1111111111111111,
             "#46039f"
            ],
            [
             0.2222222222222222,
             "#7201a8"
            ],
            [
             0.3333333333333333,
             "#9c179e"
            ],
            [
             0.4444444444444444,
             "#bd3786"
            ],
            [
             0.5555555555555556,
             "#d8576b"
            ],
            [
             0.6666666666666666,
             "#ed7953"
            ],
            [
             0.7777777777777778,
             "#fb9f3a"
            ],
            [
             0.8888888888888888,
             "#fdca26"
            ],
            [
             1,
             "#f0f921"
            ]
           ]
          },
          "colorway": [
           "#636efa",
           "#EF553B",
           "#00cc96",
           "#ab63fa",
           "#FFA15A",
           "#19d3f3",
           "#FF6692",
           "#B6E880",
           "#FF97FF",
           "#FECB52"
          ],
          "font": {
           "color": "#2a3f5f"
          },
          "geo": {
           "bgcolor": "white",
           "lakecolor": "white",
           "landcolor": "#E5ECF6",
           "showlakes": true,
           "showland": true,
           "subunitcolor": "white"
          },
          "hoverlabel": {
           "align": "left"
          },
          "hovermode": "closest",
          "mapbox": {
           "style": "light"
          },
          "paper_bgcolor": "white",
          "plot_bgcolor": "#E5ECF6",
          "polar": {
           "angularaxis": {
            "gridcolor": "white",
            "linecolor": "white",
            "ticks": ""
           },
           "bgcolor": "#E5ECF6",
           "radialaxis": {
            "gridcolor": "white",
            "linecolor": "white",
            "ticks": ""
           }
          },
          "scene": {
           "xaxis": {
            "backgroundcolor": "#E5ECF6",
            "gridcolor": "white",
            "gridwidth": 2,
            "linecolor": "white",
            "showbackground": true,
            "ticks": "",
            "zerolinecolor": "white"
           },
           "yaxis": {
            "backgroundcolor": "#E5ECF6",
            "gridcolor": "white",
            "gridwidth": 2,
            "linecolor": "white",
            "showbackground": true,
            "ticks": "",
            "zerolinecolor": "white"
           },
           "zaxis": {
            "backgroundcolor": "#E5ECF6",
            "gridcolor": "white",
            "gridwidth": 2,
            "linecolor": "white",
            "showbackground": true,
            "ticks": "",
            "zerolinecolor": "white"
           }
          },
          "shapedefaults": {
           "line": {
            "color": "#2a3f5f"
           }
          },
          "ternary": {
           "aaxis": {
            "gridcolor": "white",
            "linecolor": "white",
            "ticks": ""
           },
           "baxis": {
            "gridcolor": "white",
            "linecolor": "white",
            "ticks": ""
           },
           "bgcolor": "#E5ECF6",
           "caxis": {
            "gridcolor": "white",
            "linecolor": "white",
            "ticks": ""
           }
          },
          "title": {
           "x": 0.05
          },
          "xaxis": {
           "automargin": true,
           "gridcolor": "white",
           "linecolor": "white",
           "ticks": "",
           "title": {
            "standoff": 15
           },
           "zerolinecolor": "white",
           "zerolinewidth": 2
          },
          "yaxis": {
           "automargin": true,
           "gridcolor": "white",
           "linecolor": "white",
           "ticks": "",
           "title": {
            "standoff": 15
           },
           "zerolinecolor": "white",
           "zerolinewidth": 2
          }
         }
        },
        "title": {
         "text": "Accidents Per 1,000 Population By States, 2021"
        }
       }
      },
      "text/html": [
       "<div>                            <div id=\"d164dbde-d13f-4262-a50c-cdc4c683b867\" class=\"plotly-graph-div\" style=\"height:525px; width:100%;\"></div>            <script type=\"text/javascript\">                require([\"plotly\"], function(Plotly) {                    window.PLOTLYENV=window.PLOTLYENV || {};                                    if (document.getElementById(\"d164dbde-d13f-4262-a50c-cdc4c683b867\")) {                    Plotly.newPlot(                        \"d164dbde-d13f-4262-a50c-cdc4c683b867\",                        [{\"colorbar\":{\"title\":{\"text\":\"Accidents per 1,000 population\"}},\"colorscale\":[[0.0,\"rgb(237, 229, 207)\"],[0.16666666666666666,\"rgb(224, 194, 162)\"],[0.3333333333333333,\"rgb(211, 156, 131)\"],[0.5,\"rgb(193, 118, 111)\"],[0.6666666666666666,\"rgb(166, 84, 97)\"],[0.8333333333333334,\"rgb(129, 55, 83)\"],[1.0,\"rgb(84, 31, 63)\"]],\"locationmode\":\"USA-states\",\"locations\":[\"SC\",\"FL\",\"MT\",\"OR\",\"CA\",\"MN\",\"VA\",\"LA\",\"MD\",\"UT\",\"PA\",\"TN\",\"NC\",\"CT\",\"AZ\",\"NY\",\"TX\",\"NJ\",\"DE\",\"ID\",\"WV\",\"AR\",\"ND\",\"AL\",\"MO\",\"MI\",\"IA\",\"IN\",\"KS\",\"WA\",\"CO\",\"WY\",\"GA\",\"MS\",\"NV\",\"OK\",\"RI\",\"IL\",\"NE\",\"NM\",\"OH\",\"KY\",\"MA\",\"NH\",\"WI\",\"VT\",\"SD\",\"ME\"],\"text\":[],\"z\":[12.871661941874947,12.781477616769893,12.06859548063836,10.682134778405404,9.909771782521341,8.96451793201446,8.324198006219197,6.961434431786701,5.789173267907289,5.3223749536854355,5.010006127711883,4.882284682715293,4.78800344454952,4.514647643649582,4.130249428419546,2.8334465875102395,2.831386042121935,2.805830931475009,2.7895601285250713,2.714996872571903,2.678693116330774,2.431680453790305,2.4040322705523467,2.3020403077297322,2.2917593127445715,1.868704923413643,1.7055638147380632,1.4863388620456848,1.4853904235765094,1.4052762404809493,1.1854642468972751,1.1523782703268644,1.1116187446791843,0.9518757002201721,0.9077634128087517,0.8398051591829608,0.7776489809329962,0.6508321963301966,0.6360467934889993,0.47308988187876705,0.2795411925127103,0.2652241077182433,0.1168263938312228,0.05615583099110722,0.03171691281478612,0.024784299146490697,0.02457068315433963,0.004372390684767392],\"type\":\"choropleth\"}],                        {\"geo\":{\"scope\":\"usa\"},\"title\":{\"text\":\"Accidents Per 1,000 Population By States, 2021\"},\"template\":{\"data\":{\"bar\":[{\"error_x\":{\"color\":\"#2a3f5f\"},\"error_y\":{\"color\":\"#2a3f5f\"},\"marker\":{\"line\":{\"color\":\"#E5ECF6\",\"width\":0.5},\"pattern\":{\"fillmode\":\"overlay\",\"size\":10,\"solidity\":0.2}},\"type\":\"bar\"}],\"barpolar\":[{\"marker\":{\"line\":{\"color\":\"#E5ECF6\",\"width\":0.5},\"pattern\":{\"fillmode\":\"overlay\",\"size\":10,\"solidity\":0.2}},\"type\":\"barpolar\"}],\"carpet\":[{\"aaxis\":{\"endlinecolor\":\"#2a3f5f\",\"gridcolor\":\"white\",\"linecolor\":\"white\",\"minorgridcolor\":\"white\",\"startlinecolor\":\"#2a3f5f\"},\"baxis\":{\"endlinecolor\":\"#2a3f5f\",\"gridcolor\":\"white\",\"linecolor\":\"white\",\"minorgridcolor\":\"white\",\"startlinecolor\":\"#2a3f5f\"},\"type\":\"carpet\"}],\"choropleth\":[{\"colorbar\":{\"outlinewidth\":0,\"ticks\":\"\"},\"type\":\"choropleth\"}],\"contour\":[{\"colorbar\":{\"outlinewidth\":0,\"ticks\":\"\"},\"colorscale\":[[0.0,\"#0d0887\"],[0.1111111111111111,\"#46039f\"],[0.2222222222222222,\"#7201a8\"],[0.3333333333333333,\"#9c179e\"],[0.4444444444444444,\"#bd3786\"],[0.5555555555555556,\"#d8576b\"],[0.6666666666666666,\"#ed7953\"],[0.7777777777777778,\"#fb9f3a\"],[0.8888888888888888,\"#fdca26\"],[1.0,\"#f0f921\"]],\"type\":\"contour\"}],\"contourcarpet\":[{\"colorbar\":{\"outlinewidth\":0,\"ticks\":\"\"},\"type\":\"contourcarpet\"}],\"heatmap\":[{\"colorbar\":{\"outlinewidth\":0,\"ticks\":\"\"},\"colorscale\":[[0.0,\"#0d0887\"],[0.1111111111111111,\"#46039f\"],[0.2222222222222222,\"#7201a8\"],[0.3333333333333333,\"#9c179e\"],[0.4444444444444444,\"#bd3786\"],[0.5555555555555556,\"#d8576b\"],[0.6666666666666666,\"#ed7953\"],[0.7777777777777778,\"#fb9f3a\"],[0.8888888888888888,\"#fdca26\"],[1.0,\"#f0f921\"]],\"type\":\"heatmap\"}],\"heatmapgl\":[{\"colorbar\":{\"outlinewidth\":0,\"ticks\":\"\"},\"colorscale\":[[0.0,\"#0d0887\"],[0.1111111111111111,\"#46039f\"],[0.2222222222222222,\"#7201a8\"],[0.3333333333333333,\"#9c179e\"],[0.4444444444444444,\"#bd3786\"],[0.5555555555555556,\"#d8576b\"],[0.6666666666666666,\"#ed7953\"],[0.7777777777777778,\"#fb9f3a\"],[0.8888888888888888,\"#fdca26\"],[1.0,\"#f0f921\"]],\"type\":\"heatmapgl\"}],\"histogram\":[{\"marker\":{\"pattern\":{\"fillmode\":\"overlay\",\"size\":10,\"solidity\":0.2}},\"type\":\"histogram\"}],\"histogram2d\":[{\"colorbar\":{\"outlinewidth\":0,\"ticks\":\"\"},\"colorscale\":[[0.0,\"#0d0887\"],[0.1111111111111111,\"#46039f\"],[0.2222222222222222,\"#7201a8\"],[0.3333333333333333,\"#9c179e\"],[0.4444444444444444,\"#bd3786\"],[0.5555555555555556,\"#d8576b\"],[0.6666666666666666,\"#ed7953\"],[0.7777777777777778,\"#fb9f3a\"],[0.8888888888888888,\"#fdca26\"],[1.0,\"#f0f921\"]],\"type\":\"histogram2d\"}],\"histogram2dcontour\":[{\"colorbar\":{\"outlinewidth\":0,\"ticks\":\"\"},\"colorscale\":[[0.0,\"#0d0887\"],[0.1111111111111111,\"#46039f\"],[0.2222222222222222,\"#7201a8\"],[0.3333333333333333,\"#9c179e\"],[0.4444444444444444,\"#bd3786\"],[0.5555555555555556,\"#d8576b\"],[0.6666666666666666,\"#ed7953\"],[0.7777777777777778,\"#fb9f3a\"],[0.8888888888888888,\"#fdca26\"],[1.0,\"#f0f921\"]],\"type\":\"histogram2dcontour\"}],\"mesh3d\":[{\"colorbar\":{\"outlinewidth\":0,\"ticks\":\"\"},\"type\":\"mesh3d\"}],\"parcoords\":[{\"line\":{\"colorbar\":{\"outlinewidth\":0,\"ticks\":\"\"}},\"type\":\"parcoords\"}],\"pie\":[{\"automargin\":true,\"type\":\"pie\"}],\"scatter\":[{\"marker\":{\"colorbar\":{\"outlinewidth\":0,\"ticks\":\"\"}},\"type\":\"scatter\"}],\"scatter3d\":[{\"line\":{\"colorbar\":{\"outlinewidth\":0,\"ticks\":\"\"}},\"marker\":{\"colorbar\":{\"outlinewidth\":0,\"ticks\":\"\"}},\"type\":\"scatter3d\"}],\"scattercarpet\":[{\"marker\":{\"colorbar\":{\"outlinewidth\":0,\"ticks\":\"\"}},\"type\":\"scattercarpet\"}],\"scattergeo\":[{\"marker\":{\"colorbar\":{\"outlinewidth\":0,\"ticks\":\"\"}},\"type\":\"scattergeo\"}],\"scattergl\":[{\"marker\":{\"colorbar\":{\"outlinewidth\":0,\"ticks\":\"\"}},\"type\":\"scattergl\"}],\"scattermapbox\":[{\"marker\":{\"colorbar\":{\"outlinewidth\":0,\"ticks\":\"\"}},\"type\":\"scattermapbox\"}],\"scatterpolar\":[{\"marker\":{\"colorbar\":{\"outlinewidth\":0,\"ticks\":\"\"}},\"type\":\"scatterpolar\"}],\"scatterpolargl\":[{\"marker\":{\"colorbar\":{\"outlinewidth\":0,\"ticks\":\"\"}},\"type\":\"scatterpolargl\"}],\"scatterternary\":[{\"marker\":{\"colorbar\":{\"outlinewidth\":0,\"ticks\":\"\"}},\"type\":\"scatterternary\"}],\"surface\":[{\"colorbar\":{\"outlinewidth\":0,\"ticks\":\"\"},\"colorscale\":[[0.0,\"#0d0887\"],[0.1111111111111111,\"#46039f\"],[0.2222222222222222,\"#7201a8\"],[0.3333333333333333,\"#9c179e\"],[0.4444444444444444,\"#bd3786\"],[0.5555555555555556,\"#d8576b\"],[0.6666666666666666,\"#ed7953\"],[0.7777777777777778,\"#fb9f3a\"],[0.8888888888888888,\"#fdca26\"],[1.0,\"#f0f921\"]],\"type\":\"surface\"}],\"table\":[{\"cells\":{\"fill\":{\"color\":\"#EBF0F8\"},\"line\":{\"color\":\"white\"}},\"header\":{\"fill\":{\"color\":\"#C8D4E3\"},\"line\":{\"color\":\"white\"}},\"type\":\"table\"}]},\"layout\":{\"annotationdefaults\":{\"arrowcolor\":\"#2a3f5f\",\"arrowhead\":0,\"arrowwidth\":1},\"autotypenumbers\":\"strict\",\"coloraxis\":{\"colorbar\":{\"outlinewidth\":0,\"ticks\":\"\"}},\"colorscale\":{\"diverging\":[[0,\"#8e0152\"],[0.1,\"#c51b7d\"],[0.2,\"#de77ae\"],[0.3,\"#f1b6da\"],[0.4,\"#fde0ef\"],[0.5,\"#f7f7f7\"],[0.6,\"#e6f5d0\"],[0.7,\"#b8e186\"],[0.8,\"#7fbc41\"],[0.9,\"#4d9221\"],[1,\"#276419\"]],\"sequential\":[[0.0,\"#0d0887\"],[0.1111111111111111,\"#46039f\"],[0.2222222222222222,\"#7201a8\"],[0.3333333333333333,\"#9c179e\"],[0.4444444444444444,\"#bd3786\"],[0.5555555555555556,\"#d8576b\"],[0.6666666666666666,\"#ed7953\"],[0.7777777777777778,\"#fb9f3a\"],[0.8888888888888888,\"#fdca26\"],[1.0,\"#f0f921\"]],\"sequentialminus\":[[0.0,\"#0d0887\"],[0.1111111111111111,\"#46039f\"],[0.2222222222222222,\"#7201a8\"],[0.3333333333333333,\"#9c179e\"],[0.4444444444444444,\"#bd3786\"],[0.5555555555555556,\"#d8576b\"],[0.6666666666666666,\"#ed7953\"],[0.7777777777777778,\"#fb9f3a\"],[0.8888888888888888,\"#fdca26\"],[1.0,\"#f0f921\"]]},\"colorway\":[\"#636efa\",\"#EF553B\",\"#00cc96\",\"#ab63fa\",\"#FFA15A\",\"#19d3f3\",\"#FF6692\",\"#B6E880\",\"#FF97FF\",\"#FECB52\"],\"font\":{\"color\":\"#2a3f5f\"},\"geo\":{\"bgcolor\":\"white\",\"lakecolor\":\"white\",\"landcolor\":\"#E5ECF6\",\"showlakes\":true,\"showland\":true,\"subunitcolor\":\"white\"},\"hoverlabel\":{\"align\":\"left\"},\"hovermode\":\"closest\",\"mapbox\":{\"style\":\"light\"},\"paper_bgcolor\":\"white\",\"plot_bgcolor\":\"#E5ECF6\",\"polar\":{\"angularaxis\":{\"gridcolor\":\"white\",\"linecolor\":\"white\",\"ticks\":\"\"},\"bgcolor\":\"#E5ECF6\",\"radialaxis\":{\"gridcolor\":\"white\",\"linecolor\":\"white\",\"ticks\":\"\"}},\"scene\":{\"xaxis\":{\"backgroundcolor\":\"#E5ECF6\",\"gridcolor\":\"white\",\"gridwidth\":2,\"linecolor\":\"white\",\"showbackground\":true,\"ticks\":\"\",\"zerolinecolor\":\"white\"},\"yaxis\":{\"backgroundcolor\":\"#E5ECF6\",\"gridcolor\":\"white\",\"gridwidth\":2,\"linecolor\":\"white\",\"showbackground\":true,\"ticks\":\"\",\"zerolinecolor\":\"white\"},\"zaxis\":{\"backgroundcolor\":\"#E5ECF6\",\"gridcolor\":\"white\",\"gridwidth\":2,\"linecolor\":\"white\",\"showbackground\":true,\"ticks\":\"\",\"zerolinecolor\":\"white\"}},\"shapedefaults\":{\"line\":{\"color\":\"#2a3f5f\"}},\"ternary\":{\"aaxis\":{\"gridcolor\":\"white\",\"linecolor\":\"white\",\"ticks\":\"\"},\"baxis\":{\"gridcolor\":\"white\",\"linecolor\":\"white\",\"ticks\":\"\"},\"bgcolor\":\"#E5ECF6\",\"caxis\":{\"gridcolor\":\"white\",\"linecolor\":\"white\",\"ticks\":\"\"}},\"title\":{\"x\":0.05},\"xaxis\":{\"automargin\":true,\"gridcolor\":\"white\",\"linecolor\":\"white\",\"ticks\":\"\",\"title\":{\"standoff\":15},\"zerolinecolor\":\"white\",\"zerolinewidth\":2},\"yaxis\":{\"automargin\":true,\"gridcolor\":\"white\",\"linecolor\":\"white\",\"ticks\":\"\",\"title\":{\"standoff\":15},\"zerolinecolor\":\"white\",\"zerolinewidth\":2}}}},                        {\"responsive\": true}                    ).then(function(){\n",
       "                            \n",
       "var gd = document.getElementById('d164dbde-d13f-4262-a50c-cdc4c683b867');\n",
       "var x = new MutationObserver(function (mutations, observer) {{\n",
       "        var display = window.getComputedStyle(gd).display;\n",
       "        if (!display || display === 'none') {{\n",
       "            console.log([gd, 'removed!']);\n",
       "            Plotly.purge(gd);\n",
       "            observer.disconnect();\n",
       "        }}\n",
       "}});\n",
       "\n",
       "// Listen for the removal of the full notebook cells\n",
       "var notebookContainer = gd.closest('#notebook-container');\n",
       "if (notebookContainer) {{\n",
       "    x.observe(notebookContainer, {childList: true});\n",
       "}}\n",
       "\n",
       "// Listen for the clearing of the current output cell\n",
       "var outputEl = gd.closest('.output');\n",
       "if (outputEl) {{\n",
       "    x.observe(outputEl, {childList: true});\n",
       "}}\n",
       "\n",
       "                        })                };                });            </script>        </div>"
      ]
     },
     "metadata": {},
     "output_type": "display_data"
    }
   ],
   "source": [
    "data = dict(\n",
    "        type = 'choropleth',\n",
    "        locations = accidents_vs_state_population['State'],\n",
    "        locationmode = 'USA-states',\n",
    "        z = accidents_vs_state_population['Accidents per 1,000 population'],\n",
    "        text = [],\n",
    "        colorscale = 'brwnyl',\n",
    "        colorbar = {'title' : 'Accidents per 1,000 population'},\n",
    "      )\n",
    "\n",
    "layout = dict(title = 'Accidents Per 1,000 Population By States, 2021',\n",
    "              geo = {'scope':'usa'})\n",
    "\n",
    "choromap = go.Figure(data = [data],layout = layout,skip_invalid=True)\n",
    "iplot(choromap,validate=False)"
   ]
  },
  {
   "cell_type": "markdown",
   "id": "5938e87d",
   "metadata": {},
   "source": [
    "⚡ Two USA maps look differently, for instance, Florida and California are leaders in both categories, but on the second map, which shows accidents per capita, we can see states with high rates: Oregon, Minnesota, Montana, South Carolina. We haven't seen them on the first map"
   ]
  },
  {
   "cell_type": "markdown",
   "id": "d89499bd",
   "metadata": {},
   "source": [
    "Ok, let's combine the data in the one chart"
   ]
  },
  {
   "cell_type": "code",
   "execution_count": 147,
   "id": "471decc0",
   "metadata": {},
   "outputs": [
    {
     "data": {
      "text/plain": [
       "Text(0, 0.5, 'Accidents per 1,000 Population')"
      ]
     },
     "execution_count": 147,
     "metadata": {},
     "output_type": "execute_result"
    },
    {
     "data": {
      "image/png": "[encoded data removed]",
      "text/plain": [
       "<Figure size 1120x400 with 2 Axes>"
      ]
     },
     "metadata": {},
     "output_type": "display_data"
    }
   ],
   "source": [
    "top_15_states = accidents_vs_state_population.sort_values(['Accidents_count_2021'],ascending=[False]).head(15)\n",
    "\n",
    "sns.set_theme(style=\"white\")\n",
    "\n",
    "fig, ax1 = plt.subplots(figsize = (14,5), dpi = 80)\n",
    "\n",
    "ax2 = ax1.twinx()\n",
    "\n",
    "ax1.bar(top_15_states['State'], top_15_states['Accidents_count_2021'],color='#c3d5da')\n",
    "ax1.set_title(\"Accidents Count and Accidents per 1,000 Population by States, 2016-2021\")\n",
    "ax1.set_ylabel(\"Total Accidents\")\n",
    "\n",
    "ax2.plot(top_15_states['State'], top_15_states['Accidents per 1,000 population'],'o',color='#e45b5c')\n",
    "ax2.set_ylabel(\"Accidents per 1,000 Population\")"
   ]
  },
  {
   "cell_type": "markdown",
   "id": "be4ab15b",
   "metadata": {},
   "source": [
    "⚡ Texas is number 3 in top-states by accidents, but it has big population and thus low rate of accidents per capita 👏"
   ]
  },
  {
   "cell_type": "markdown",
   "id": "7e88ce94",
   "metadata": {},
   "source": [
    "# Time Analysis"
   ]
  },
  {
   "cell_type": "markdown",
   "id": "6156e276",
   "metadata": {},
   "source": [
    "We want to see how number of accidents changed in the last 5 years"
   ]
  },
  {
   "cell_type": "code",
   "execution_count": 148,
   "id": "e39d2067",
   "metadata": {},
   "outputs": [
    {
     "data": {
      "image/png": "[encoded data removed]",
      "text/plain": [
       "<Figure size 720x288 with 1 Axes>"
      ]
     },
     "metadata": {},
     "output_type": "display_data"
    }
   ],
   "source": [
    "sns.set_theme(style=\"whitegrid\")\n",
    "fig, ax = plt.subplots(figsize = (10,4))\n",
    "\n",
    "ax = sns.countplot(x=\"Year\", data=df_accidents, palette = \"RdGy_r\")\n",
    "\n",
    "plt.annotate('Missing data in 2016',xy=(-0.45,420000), fontsize=10)\n",
    "\n",
    "ax.set(yticklabels=[])\n",
    "ax.set(ylabel=None)\n",
    "ax.set_title(\"Accidents Count by Years\")\n",
    "\n",
    "for i in ax.patches:\n",
    "    count = '{:,.0f}'.format(i.get_height())\n",
    "    x = i.get_x()+i.get_width()-0.60\n",
    "    y = i.get_height()+30000\n",
    "    ax.annotate(count, (x, y))\n",
    "    \n",
    "plt.show()"
   ]
  },
  {
   "cell_type": "markdown",
   "id": "281cd13b",
   "metadata": {},
   "source": [
    "⚡ Again. I can't accept that number of accidents increased dramatically. I think that it is related with an intensity and methods of data collection"
   ]
  },
  {
   "cell_type": "markdown",
   "id": "f7841d62",
   "metadata": {},
   "source": [
    "Let's look how accidetns distributed by months"
   ]
  },
  {
   "cell_type": "code",
   "execution_count": 149,
   "id": "1d016aec",
   "metadata": {},
   "outputs": [
    {
     "data": {
      "image/png": "[encoded data removed]",
      "text/plain": [
       "<Figure size 648x288 with 1 Axes>"
      ]
     },
     "metadata": {},
     "output_type": "display_data"
    }
   ],
   "source": [
    "fig, ax = plt.subplots(figsize = (9,4))\n",
    "\n",
    "ax = sns.countplot(x=\"MonthName\", data=df_accidents, color = \"#9aaac7\",order=Months)\n",
    "\n",
    "ax.set(ylabel=None)\n",
    "ax.set_title(\"Accidents Count by Months, 2016-2021\")\n",
    "\n",
    "plt.show()"
   ]
  },
  {
   "cell_type": "markdown",
   "id": "5e1c8081",
   "metadata": {},
   "source": [
    "⚡ Most of the accidents occured in winter and late-autumn months because of the road conditions during rainy and snowy time"
   ]
  },
  {
   "cell_type": "markdown",
   "id": "65a1aac4",
   "metadata": {},
   "source": [
    "Let's see if it's correct for the last 3 years separately"
   ]
  },
  {
   "cell_type": "code",
   "execution_count": 150,
   "id": "4900653f",
   "metadata": {
    "scrolled": true
   },
   "outputs": [
    {
     "data": {
      "image/png": "[encoded data removed]",
      "text/plain": [
       "<Figure size 1080x288 with 3 Axes>"
      ]
     },
     "metadata": {},
     "output_type": "display_data"
    }
   ],
   "source": [
    "fig, (ax1, ax2, ax3) = plt.subplots(1,3,figsize=(15,4))\n",
    "\n",
    "sns.countplot(x=\"MonthName\", data=accidents_2019, color = \"#9aaac7\",order=Months, ax=ax1)\n",
    "ax1.set(ylabel=None, ylim=(0, 275000))\n",
    "ax1.set_title(\"Accidents Count by Months, 2019\")\n",
    "\n",
    "sns.countplot(x=\"MonthName\", data=accidents_2020, color = \"#9aaac7\",order=Months, ax=ax2)\n",
    "ax2.set(ylabel=None, ylim=(0, 275000))\n",
    "ax2.set_title(\"Accidents Count by Months, 2020\")\n",
    "\n",
    "sns.countplot(x=\"MonthName\", data=accidents_2021, color = \"#9aaac7\",order=Months, ax=ax3)\n",
    "ax3.set(ylabel=None, ylim=(0, 275000))\n",
    "ax3.set_title(\"Accidents Count by Months, 2021\")\n",
    "\n",
    "plt.show()"
   ]
  },
  {
   "cell_type": "markdown",
   "id": "4873132a",
   "metadata": {},
   "source": [
    "It's seems that the pattern is pretty much the same for different years"
   ]
  },
  {
   "cell_type": "markdown",
   "id": "6cd3d266",
   "metadata": {},
   "source": [
    "Let's look how accidetns distributed by day of the week"
   ]
  },
  {
   "cell_type": "code",
   "execution_count": 151,
   "id": "5b117742",
   "metadata": {},
   "outputs": [
    {
     "data": {
      "image/png": "[encoded data removed]",
      "text/plain": [
       "<Figure size 360x288 with 1 Axes>"
      ]
     },
     "metadata": {},
     "output_type": "display_data"
    }
   ],
   "source": [
    "fig, ax = plt.subplots(figsize = (5,4))\n",
    "\n",
    "ax = sns.countplot(x=\"WeekdayName\", data=df_accidents, color = \"#eb706e\",order=Days)\n",
    "\n",
    "ax.set(ylabel=None)\n",
    "ax.set_title(\"Accidents Count by Months, 2016-2021\")\n",
    "    \n",
    "plt.show()"
   ]
  },
  {
   "cell_type": "markdown",
   "id": "89c2f96e",
   "metadata": {},
   "source": [
    "We want to check if the distribution is the same for the last 3 years separately"
   ]
  },
  {
   "cell_type": "code",
   "execution_count": 152,
   "id": "b6f725e9",
   "metadata": {},
   "outputs": [
    {
     "data": {
      "image/png": "[encoded data removed]",
      "text/plain": [
       "<Figure size 1080x288 with 3 Axes>"
      ]
     },
     "metadata": {},
     "output_type": "display_data"
    }
   ],
   "source": [
    "fig, (ax1, ax2, ax3) = plt.subplots(1,3,figsize=(15,4))\n",
    "\n",
    "sns.countplot(x=\"WeekdayName\", data=accidents_2019, color = \"#eb706e\",order=Days, ax=ax1)\n",
    "ax1.set(ylabel=None, ylim=(0, 275000))\n",
    "ax1.set_title(\"Accidents Count by Day of the Week, 2019\")\n",
    "\n",
    "sns.countplot(x=\"WeekdayName\", data=accidents_2020, color = \"#eb706e\",order=Days, ax=ax2)\n",
    "ax2.set(ylabel=None, ylim=(0, 275000))\n",
    "ax2.set_title(\"Accidents Count by Day of the Week, 2020\")\n",
    "\n",
    "sns.countplot(x=\"WeekdayName\", data=accidents_2021, color = \"#eb706e\",order=Days, ax=ax3)\n",
    "ax3.set(ylabel=None, ylim=(0, 275000))\n",
    "ax3.set_title(\"Accidents Count by Day of the Week, 2021\")\n",
    "\n",
    "plt.show()"
   ]
  },
  {
   "cell_type": "markdown",
   "id": "c59cdfde",
   "metadata": {},
   "source": [
    "⚡ Hm. Ok, Saturday and Sunday has expectedly low numbers of accidents. Also, in 2020-2021 the number of accidents grows by the end of the week. But in 2021 number of accidents on Friday is abnormally high. Let's take a look if we had the same pattern in 2016-2018"
   ]
  },
  {
   "cell_type": "code",
   "execution_count": 153,
   "id": "7fd67bfe",
   "metadata": {},
   "outputs": [
    {
     "data": {
      "image/png": "[encoded data removed]",
      "text/plain": [
       "<Figure size 1080x288 with 3 Axes>"
      ]
     },
     "metadata": {},
     "output_type": "display_data"
    }
   ],
   "source": [
    "fig, (ax1, ax2, ax3) = plt.subplots(1,3,figsize=(15,4))\n",
    "\n",
    "sns.countplot(x=\"WeekdayName\", data=accidents_2016, color = \"#eb706e\",order=Days, ax=ax1)\n",
    "ax1.set(ylabel=None, ylim=(0, 50000))\n",
    "ax1.set_title(\"Accidents Count by Day of the Week, 2016\")\n",
    "\n",
    "sns.countplot(x=\"WeekdayName\", data=accidents_2017, color = \"#eb706e\",order=Days, ax=ax2)\n",
    "ax2.set(ylabel=None, ylim=(0, 50000))\n",
    "ax2.set_title(\"Accidents Count by Day of the Week, 2017\")\n",
    "\n",
    "sns.countplot(x=\"WeekdayName\", data=accidents_2018, color = \"#eb706e\",order=Days, ax=ax3)\n",
    "ax3.set(ylabel=None, ylim=(0, 50000))\n",
    "ax3.set_title(\"Accidents Count by Day of the Week, 2018\")\n",
    "\n",
    "plt.show()"
   ]
  },
  {
   "cell_type": "markdown",
   "id": "26aed0fd",
   "metadata": {},
   "source": [
    "It doesn't seem like that, so we can be sure only about Saturday and Sunday"
   ]
  },
  {
   "cell_type": "markdown",
   "id": "1433c1b3",
   "metadata": {},
   "source": [
    "We could also show all month on one heatmap"
   ]
  },
  {
   "cell_type": "code",
   "execution_count": 154,
   "id": "41c9fb95",
   "metadata": {},
   "outputs": [
    {
     "data": {
      "text/plain": [
       "<AxesSubplot:xlabel='Year', ylabel='Month'>"
      ]
     },
     "execution_count": 154,
     "metadata": {},
     "output_type": "execute_result"
    },
    {
     "data": {
      "image/png": "[encoded data removed]",
      "text/plain": [
       "<Figure size 432x288 with 2 Axes>"
      ]
     },
     "metadata": {},
     "output_type": "display_data"
    }
   ],
   "source": [
    "df_accidents_year_month = df_accidents.pivot_table(values='ID',index='Month',columns='Year',aggfunc='count')\n",
    "df_accidents_year_month\n",
    "sns.heatmap(df_accidents_year_month,cmap='Spectral_r')"
   ]
  },
  {
   "cell_type": "markdown",
   "id": "8236add2",
   "metadata": {},
   "source": [
    "Now we want to look the distribution by hours of the day"
   ]
  },
  {
   "cell_type": "code",
   "execution_count": 155,
   "id": "dfa0e42b",
   "metadata": {},
   "outputs": [
    {
     "data": {
      "image/png": "[encoded data removed]",
      "text/plain": [
       "<Figure size 1008x288 with 1 Axes>"
      ]
     },
     "metadata": {},
     "output_type": "display_data"
    }
   ],
   "source": [
    "fig, ax = plt.subplots(figsize = (14,4))\n",
    "\n",
    "ax = sns.countplot(x=\"Hour\", data=df_accidents, color = \"#f1bc83\")\n",
    "\n",
    "ax.set(ylabel=None)\n",
    "ax.set_title(\"Accidents Count by Months, 2016-2021\")\n",
    "\n",
    "plt.show()"
   ]
  },
  {
   "cell_type": "markdown",
   "id": "640516db",
   "metadata": {},
   "source": [
    "It was expected that we have two peaks during morning and evening traffic jams. But the evening peak is significantly higher. Is it because everyone is tired after working hours ❓"
   ]
  },
  {
   "cell_type": "markdown",
   "id": "7af84d37",
   "metadata": {
    "scrolled": false
   },
   "source": [
    "## Conclusions on Geographical and Time Analysis"
   ]
  },
  {
   "cell_type": "markdown",
   "id": "383154ee",
   "metadata": {},
   "source": [
    "When you will read the conclusion below, keep in mind the phrase 'According to the data'. Because as I mentioned above, my hypothesis is that there is more data:\n",
    "\n",
    "* coming from Florida and California states\n",
    "* coming from 2021 year\n",
    "\n",
    "We have to communicate with the provider of the data to confirm that facts."
   ]
  },
  {
   "cell_type": "markdown",
   "id": "4312db15",
   "metadata": {},
   "source": [
    "1. Miami, Los Angeles and Orlando are 3 cities with the highest number of Total Accidents in 2021.\n",
    "2. By the accidents per 1,000 population Miami and Orlando are still in a top-3. But some cities are out of the top-15, such as Los Angeles and Dallas.\n",
    "3. California, Florida and Texas are 3 states with the highest number of Total Accidents in 2021.\n",
    "4. By the accidents per 1,000 population South Carolina, Florida and Montana are 3 states with number of accidents more than 12.\n",
    "5. The most dangerous period for drivers is from October to March, especially in a winter months.\n",
    "6. There is not enough evidence to argue that Friday is the most dangerous day of the week, because it has significantly high numbers only in 2021. But because of 2021 data is the most extensive, it affected to the all 6 years of dataset.\n",
    "7. There are two peaks during the day in the morning end evening. But in the evening there are more accidents, presumably because drivers are more tired after working hours and as a result less focused."
   ]
  }
 ],
 "metadata": {
  "kernelspec": {
   "display_name": "Python 3 (ipykernel)",
   "language": "python",
   "name": "python3"
  },
  "language_info": {
   "codemirror_mode": {
    "name": "ipython",
    "version": 3
   },
   "file_extension": ".py",
   "mimetype": "text/x-python",
   "name": "python",
   "nbconvert_exporter": "python",
   "pygments_lexer": "ipython3",
   "version": "3.9.12"
  }
 },
 "nbformat": 4,
 "nbformat_minor": 5
}
